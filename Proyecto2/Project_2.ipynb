{
 "cells": [
  {
   "cell_type": "markdown",
   "metadata": {},
   "source": [
    "##### El siguiente fragmento permite ocultar las celdas que contienen código"
   ]
  },
  {
   "cell_type": "code",
   "execution_count": 45,
   "metadata": {},
   "outputs": [
    {
     "data": {
      "text/html": [
       "<script>\n",
       "    code_show=true; \n",
       "    function code_toggle() {\n",
       "     if (code_show){\n",
       "     $('div.input').hide();\n",
       "     } else {\n",
       "     $('div.input').show();\n",
       "     }\n",
       "     code_show = !code_show\n",
       "    } \n",
       "    $( document ).ready(code_toggle);\n",
       "    </script>\n",
       "    The raw code for this IPython notebook is by default hidden for easier reading.\n",
       "    To toggle on/off the raw code, click <a href=\"javascript:code_toggle()\">here</a>."
      ],
      "text/plain": [
       "<IPython.core.display.HTML object>"
      ]
     },
     "execution_count": 45,
     "metadata": {},
     "output_type": "execute_result"
    }
   ],
   "source": [
    "from IPython.display import HTML\n",
    "import random\n",
    "\n",
    "def hide_toggle(for_next=False):\n",
    "    this_cell = \"\"\"$('div.cell.code_cell.rendered.selected')\"\"\"\n",
    "    next_cell = this_cell + '.next()'\n",
    "\n",
    "    toggle_text = 'Toggle show/hide'  # text shown on toggle link\n",
    "    target_cell = this_cell  # target cell to control with toggle\n",
    "    js_hide_current = ''  # bit of JS to permanently hide code in current cell (only when toggling next cell)\n",
    "\n",
    "    if for_next:\n",
    "        target_cell = next_cell\n",
    "        toggle_text += ' next cell'\n",
    "        js_hide_current = this_cell + '.find(\"div.input\").hide();'\n",
    "\n",
    "    js_f_name = 'code_toggle_{}'.format(str(random.randint(1,2**64)))\n",
    "\n",
    "    html = \"\"\"\n",
    "        <script>\n",
    "            function {f_name}() {{\n",
    "                {cell_selector}.find('div.input').toggle();\n",
    "            }}\n",
    "\n",
    "            {js_hide_current}\n",
    "        </script>\n",
    "\n",
    "        <a href=\"javascript:{f_name}()\">{toggle_text}</a>\n",
    "    \"\"\".format(\n",
    "        f_name=js_f_name,\n",
    "        cell_selector=target_cell,\n",
    "        js_hide_current=js_hide_current, \n",
    "        toggle_text=toggle_text\n",
    "    )\n",
    "\n",
    "    return HTML(html)\n",
    "\n",
    "def all_cells():    \n",
    "    return HTML('''<script>\n",
    "    code_show=true; \n",
    "    function code_toggle() {\n",
    "     if (code_show){\n",
    "     $('div.input').hide();\n",
    "     } else {\n",
    "     $('div.input').show();\n",
    "     }\n",
    "     code_show = !code_show\n",
    "    } \n",
    "    $( document ).ready(code_toggle);\n",
    "    </script>\n",
    "    The raw code for this IPython notebook is by default hidden for easier reading.\n",
    "    To toggle on/off the raw code, click <a href=\"javascript:code_toggle()\">here</a>.''')\n",
    "\n",
    "all_cells()"
   ]
  },
  {
   "cell_type": "markdown",
   "metadata": {},
   "source": [
    "<a id='inicio'></a>\n",
    "# Proyecto 2: Razonamiento basado en incerteza\n",
    "\n",
    "## Integrantes: \n",
    "\n",
    "* Daniel Julián Rojas Cruz\n",
    "* Johan Tanta Villanueva\n",
    "\n",
    "En primer lugar, se muestra la documentación de las funciones que se implementaron para poder llegar a cabo el Proyecto 2. Si desea dirigirse a la presentación del proyecto, haga click [aqui](#presentacion).\n",
    "\n",
    "Para el correcto funcionamiento del proyecto es necesario importar las siguientes librearias:\n",
    "* **pandas**: Esta librería es útil para poder trabajar con un dataframe\n",
    "* **pandas**: Nos ayuda a realizar los histogramas\n",
    "* **math, random y copy**: Librerías útiles para llevar a cabo el correcto funcionamiento del programa"
   ]
  },
  {
   "cell_type": "code",
   "execution_count": 46,
   "metadata": {},
   "outputs": [
    {
     "data": {
      "text/html": [
       "\n",
       "        <script>\n",
       "            function code_toggle_10985331440043917193() {\n",
       "                $('div.cell.code_cell.rendered.selected').next().find('div.input').toggle();\n",
       "            }\n",
       "\n",
       "            $('div.cell.code_cell.rendered.selected').find(\"div.input\").hide();\n",
       "        </script>\n",
       "\n",
       "        <a href=\"javascript:code_toggle_10985331440043917193()\">Toggle show/hide next cell</a>\n",
       "    "
      ],
      "text/plain": [
       "<IPython.core.display.HTML object>"
      ]
     },
     "execution_count": 46,
     "metadata": {},
     "output_type": "execute_result"
    }
   ],
   "source": [
    "hide_toggle(True)"
   ]
  },
  {
   "cell_type": "code",
   "execution_count": 47,
   "metadata": {},
   "outputs": [],
   "source": [
    "import pandas as pd\n",
    "import numpy as np\n",
    "import math\n",
    "import random\n",
    "import copy"
   ]
  },
  {
   "cell_type": "markdown",
   "metadata": {},
   "source": [
    "<a id='funciones_iniciales'></a>\n",
    "Se implementó las siguientes funciones que serán de gran ayuda en todo el proyecto:\n",
    "* **leer_dataset**: Recibe como parámetro la ruta del archivo .csv y retorna un dataframe de la librería **pandas**.\n",
    "* **cardinalidad**: Retorna la lista de valores únicos de una columna de un dataframe por lo que recibe como parámetro el dataframe y el nombre de la columna.\n",
    "* **count**: retorna el número de instancias de un dataframe que satisface una determinada condición."
   ]
  },
  {
   "cell_type": "code",
   "execution_count": 48,
   "metadata": {},
   "outputs": [
    {
     "data": {
      "text/html": [
       "\n",
       "        <script>\n",
       "            function code_toggle_1182122819077484469() {\n",
       "                $('div.cell.code_cell.rendered.selected').next().find('div.input').toggle();\n",
       "            }\n",
       "\n",
       "            $('div.cell.code_cell.rendered.selected').find(\"div.input\").hide();\n",
       "        </script>\n",
       "\n",
       "        <a href=\"javascript:code_toggle_1182122819077484469()\">Toggle show/hide next cell</a>\n",
       "    "
      ],
      "text/plain": [
       "<IPython.core.display.HTML object>"
      ]
     },
     "execution_count": 48,
     "metadata": {},
     "output_type": "execute_result"
    }
   ],
   "source": [
    "hide_toggle(for_next=True)"
   ]
  },
  {
   "cell_type": "code",
   "execution_count": 49,
   "metadata": {},
   "outputs": [],
   "source": [
    "# Esta función recive el nombre del archivo CSV y devuelve un dataframe de Pandas\n",
    "def leer_dataset(nom_archivo):\n",
    "    return pd.read_csv(nom_archivo)\n",
    "# Retorna la lista de valores únicos de una columna de un dataframe\n",
    "def cardinalidad(df, X):\n",
    "    return df[X].unique()\n",
    "#retorna el número de instancias de un dataframe que satisface una determinada condición.\n",
    "def count(dataframe, index_list, values_list):\n",
    "    resultado = dataframe\n",
    "    for i in range(len(index_list)):\n",
    "        #Se obtiene el nombre de la columna y el valor \n",
    "        index = index_list[i]\n",
    "        value = values_list[i]\n",
    "\n",
    "        #Se filtra las filas que cumplen con la condicion de esa columna \n",
    "        resultado = resultado[resultado[index] == value]\n",
    "    #Devuelve el numero de instancias\n",
    "    c =resultado.shape[0]\n",
    "    return c"
   ]
  },
  {
   "cell_type": "markdown",
   "metadata": {},
   "source": [
    "<a id='estimar_marginal'></a>\n",
    "\n",
    "Se implementa la función **estimar_marginal** y **estimar_conjunta** la cual calcula la distribuición con el hiperparámetro de Dirichlet. Estas funciones devuelven un factor."
   ]
  },
  {
   "cell_type": "code",
   "execution_count": 50,
   "metadata": {},
   "outputs": [
    {
     "data": {
      "text/html": [
       "\n",
       "        <script>\n",
       "            function code_toggle_3676179417587369664() {\n",
       "                $('div.cell.code_cell.rendered.selected').next().find('div.input').toggle();\n",
       "            }\n",
       "\n",
       "            $('div.cell.code_cell.rendered.selected').find(\"div.input\").hide();\n",
       "        </script>\n",
       "\n",
       "        <a href=\"javascript:code_toggle_3676179417587369664()\">Toggle show/hide next cell</a>\n",
       "    "
      ],
      "text/plain": [
       "<IPython.core.display.HTML object>"
      ]
     },
     "execution_count": 50,
     "metadata": {},
     "output_type": "execute_result"
    }
   ],
   "source": [
    "hide_toggle(True)"
   ]
  },
  {
   "cell_type": "code",
   "execution_count": 51,
   "metadata": {},
   "outputs": [],
   "source": [
    "# Esta funcióm devuelve un reporte del factor que contiene a la variable X\n",
    "def estimar_marginal(df,X, alpha):\n",
    "    card = cardinalidad(df,X) # lista de valores únicos\n",
    "    \n",
    "    nfilas = df.shape[0]\n",
    "    \n",
    "    probList = []\n",
    "    for valor in card:\n",
    "        m = count(df,[X],[valor])\n",
    "        p = (m + alpha)/(nfilas + len(card)*alpha)\n",
    "        probList.append(p)\n",
    "    probColName = \"P\"\n",
    "    columns = {X:card, probColName: probList}\n",
    "    \n",
    "    return pd.DataFrame(columns)\n",
    "\n",
    "def estimar_conjunta(df,variables,alpha):\n",
    "    card = {}\n",
    "    nfilas = 1\n",
    "    \n",
    "    ## filas en el df\n",
    "    n = df.shape[0]\n",
    "    \n",
    "    for var in variables:\n",
    "        card[var] = cardinalidad(df,var)\n",
    "        nfilas = nfilas*len(card[var])\n",
    "        \n",
    "    columns = {}\n",
    "    \n",
    "    n_rep = 1\n",
    "    for var, cardinal in card.items():\n",
    "        columns[var] = [ cardinal[int(i/n_rep)%len(cardinal)] for i in range(nfilas) ]\n",
    "        n_rep = n_rep * len(cardinal)\n",
    "\n",
    "    result = pd.DataFrame(columns)\n",
    "    \n",
    "    probList = []\n",
    "    \n",
    "    #Iteramos por cada fila del dataframe y hallamos la probabilidad condicional\n",
    "    for i in result.index:\n",
    "        valores = []\n",
    "        for var in variables:\n",
    "            valores.append(result[var][i])\n",
    "      \n",
    "        n_intersection = count(df,variables,valores)\n",
    "    \n",
    "        p = (n_intersection + alpha)/ ( n + n_rep*alpha)\n",
    "        \n",
    "        probList.append(p)\n",
    "    \n",
    "    result['P'] = probList\n",
    "    return result"
   ]
  },
  {
   "cell_type": "markdown",
   "metadata": {},
   "source": [
    "<a id='estimar_condicional'></a>\n",
    "\n",
    "Se implementa la función **estimar_condicional** la cual calcula la distribuición condicional con el hiperparámetro de Dirichlet. Antes de retornar el factor, se realiza una normalización."
   ]
  },
  {
   "cell_type": "code",
   "execution_count": 52,
   "metadata": {},
   "outputs": [
    {
     "data": {
      "text/html": [
       "\n",
       "        <script>\n",
       "            function code_toggle_12993116235087570179() {\n",
       "                $('div.cell.code_cell.rendered.selected').next().find('div.input').toggle();\n",
       "            }\n",
       "\n",
       "            $('div.cell.code_cell.rendered.selected').find(\"div.input\").hide();\n",
       "        </script>\n",
       "\n",
       "        <a href=\"javascript:code_toggle_12993116235087570179()\">Toggle show/hide next cell</a>\n",
       "    "
      ],
      "text/plain": [
       "<IPython.core.display.HTML object>"
      ]
     },
     "execution_count": 52,
     "metadata": {},
     "output_type": "execute_result"
    }
   ],
   "source": [
    "hide_toggle(True)"
   ]
  },
  {
   "cell_type": "code",
   "execution_count": 53,
   "metadata": {},
   "outputs": [],
   "source": [
    "def estimar_condicional(df, X, Y, alpha):\n",
    "    # hallar el número total de filas \n",
    "    nFilasResult = 1\n",
    "    nfilas = df.shape[0]\n",
    "    cardTarget = cardinalidad(df,X)\n",
    "    nFilasResult = nFilasResult*len(cardTarget)\n",
    "    \n",
    "    cardY = {}\n",
    "    for var in Y:\n",
    "        cardY[var] = cardinalidad(df,var)\n",
    "        nFilasResult = nFilasResult*len(cardY[var])\n",
    "    \n",
    "    columns = {}\n",
    "    \n",
    "    n_rep = 1\n",
    "    \n",
    "    colTarget = [cardTarget[i%len(cardTarget)] for i in range(nFilasResult)]\n",
    "    \n",
    "    columns[X] = colTarget\n",
    "    n_rep = n_rep * len(cardTarget)\n",
    "    \n",
    "    for var, card in cardY.items():\n",
    "        columns[var] = [ card[int(i/n_rep)%len(card)] for i in range(nFilasResult) ]\n",
    "        \n",
    "        n_rep = n_rep * len(card)\n",
    "\n",
    "    \n",
    "    result = pd.DataFrame(columns)\n",
    "    probList = []\n",
    "    \n",
    "    prodCardY = 1\n",
    "    for var in Y:\n",
    "        prodCardY = prodCardY* len(cardY[var])\n",
    "        \n",
    "    #Iteramos por cada fila del dataframe y hallamos la probabilidad condicional\n",
    "    for i in result.index:\n",
    "        valTarget = result[X][i]\n",
    "    \n",
    "        valPadres = []\n",
    "        for var in Y:\n",
    "            valPadres.append(result[var][i])\n",
    "      \n",
    "        totalVar = [i for i in Y]\n",
    "        totalVar.append(X)\n",
    "        totalVal = valPadres\n",
    "        totalVal.append(valTarget)\n",
    "        \n",
    "        \n",
    "        prob_X_Y = (count(df,totalVar,totalVal) + alpha) / (nfilas + prodCardY*len(cardTarget)*alpha) \n",
    "        \n",
    "        prob_Y = (count(df,Y,valPadres) + alpha) / (nfilas + prodCardY*alpha)\n",
    "        p = prob_X_Y/prob_Y\n",
    "        probList.append(p)\n",
    "    \n",
    "    # normalizamos las probabilidades\n",
    "    for i in range(int (nFilasResult / len(cardTarget))):\n",
    "        suma = 0\n",
    "        for j in range(len(cardTarget)):\n",
    "            suma = suma + probList[i*len(cardTarget) + j]\n",
    "        \n",
    "        for j in range(len(cardTarget)):\n",
    "            probList[i*len(cardTarget) + j] = probList[i*len(cardTarget) + j] / suma \n",
    "    \n",
    "    result['P'] = probList\n",
    "    return result"
   ]
  },
  {
   "cell_type": "markdown",
   "metadata": {},
   "source": [
    "<a id='preprocessor'></a>\n",
    "## Definición e implementación de la clase Preprocessor\n",
    "Esta clase recibe como parámetros en su constructor el dataframe de la librería **pandas** y el hiperparámetro. La utilidad de esta clase es para poder poder procesar las distribuiciones tanto marginal, conjunta y condicional. En cuanto a la distribuición condicional solo se procesa las permutaciones de las variables del dataframe de tamaño dos. "
   ]
  },
  {
   "cell_type": "code",
   "execution_count": 54,
   "metadata": {},
   "outputs": [
    {
     "data": {
      "text/html": [
       "\n",
       "        <script>\n",
       "            function code_toggle_3498744947890717917() {\n",
       "                $('div.cell.code_cell.rendered.selected').next().find('div.input').toggle();\n",
       "            }\n",
       "\n",
       "            $('div.cell.code_cell.rendered.selected').find(\"div.input\").hide();\n",
       "        </script>\n",
       "\n",
       "        <a href=\"javascript:code_toggle_3498744947890717917()\">Toggle show/hide next cell</a>\n",
       "    "
      ],
      "text/plain": [
       "<IPython.core.display.HTML object>"
      ]
     },
     "execution_count": 54,
     "metadata": {},
     "output_type": "execute_result"
    }
   ],
   "source": [
    "hide_toggle(True)"
   ]
  },
  {
   "cell_type": "code",
   "execution_count": 55,
   "metadata": {},
   "outputs": [],
   "source": [
    "class Preprocessor:\n",
    "    def __init__(self, df ,alpha):\n",
    "        self.variables = self.get_vars(df)\n",
    "        self.alpha = alpha\n",
    "        self.df = df\n",
    "        self.card = self.get_cards(df)\n",
    "        self.marg_cond = self.preprocess(df)\n",
    "        self.conj = self.calcular_conjunta(df)\n",
    "        self.instancias = len(df.index)\n",
    "    \n",
    "    def get_cards(self, df):\n",
    "        nodes = self.variables\n",
    "        card = {}\n",
    "        for value in nodes:\n",
    "            card[value] = df[value].unique()\n",
    "        return card\n",
    "    \n",
    "    def get_vars(self,df):\n",
    "        variables = []\n",
    "        for i in df:\n",
    "            variables.append(i)\n",
    "        \n",
    "        return variables\n",
    "    \n",
    "    def calcular_conjunta(self,df):\n",
    "        prob = {}\n",
    "        \n",
    "        #calcular las conjunta de cada par de variables diferentes\n",
    "        for variable_1 in self.variables:\n",
    "            for variable_2 in self.variables:\n",
    "                if (variable_1 == variable_2):\n",
    "                    continue\n",
    "                prob[tuple([variable_1, variable_2])] = estimar_conjunta(df,[variable_1,variable_2], self.alpha)\n",
    "        return prob\n",
    "    \n",
    "    #preprocesa las marginales y las condicionales para cada para de variables \n",
    "    def preprocess(self,df):\n",
    "        prob = {}\n",
    "        \n",
    "        #calcular las marginales de todas la variables\n",
    "        for variable in self.variables:\n",
    "            prob[tuple(variable)] = estimar_marginal(df,variable,self.alpha)\n",
    "        \n",
    "        #calcular las condicionales de cada par de variables diferentes\n",
    "        for variable_1 in self.variables:\n",
    "            for variable_2 in self.variables:\n",
    "                if (variable_1 == variable_2):\n",
    "                    continue\n",
    "                prob[tuple([variable_1, variable_2])] = estimar_condicional(df,variable_1, [variable_2], self.alpha)\n",
    "        return prob\n",
    "    \n",
    "    \n",
    "    def get_preprocess_marginal(self, variable, valor):\n",
    "        resultado = self.marg_cond[(variable,)]\n",
    "        resultado = resultado[resultado[variable]==valor]\n",
    "        return list(resultado['P'])[0]\n",
    "    \n",
    "    def get_preprocess_conjunta(self, variables, valores):\n",
    "        resultado = self.conj[variables]\n",
    "        for i in range(2):\n",
    "            index = variables[i]\n",
    "            value = valores[i]\n",
    "            #filtrar la columna \n",
    "            resultado = resultado[resultado[index] == value]\n",
    "            \n",
    "        return list(resultado['P'])[0]\n",
    "    \n",
    "    def get_preprocess_condicional(self, factor, valores):\n",
    "        resultado = self.marg_cond[factor]\n",
    "        for i in range(2):\n",
    "            index = factor[i]\n",
    "            value = valores[i]\n",
    "            #filtrar la columna \n",
    "            resultado = resultado[resultado[index] == value]\n",
    "        return list(resultado['P'])[0]"
   ]
  },
  {
   "cell_type": "markdown",
   "metadata": {},
   "source": [
    "<a id='red_bayesiana'></a>\n",
    "## Definición e implementación de la clase Red_Bayesiana\n",
    "Uno de los parámetros de la clase **Red_Bayesiana** es el grafo lo cual está representado como un **dicionario de python**, donde la **key** es el nodo y el **value** es la lista de adyacencia. Ejemplo:\n",
    "$$\\{ A: [B], B: [C], C: [] \\} $$\n",
    "Lo cual representa el siguiente grafo dirigido:\n",
    "$$ A -> B -> C $$\n",
    "A partir del grafo se genera los factores correspondientes.\n",
    "Asimismo se implementó la siguiente función:\n",
    "* **get_parents**: Nos devuelve un diccionario de python donde la **key** es el nodo y el **value** es un **set** de los padres de ese nodo. "
   ]
  },
  {
   "cell_type": "code",
   "execution_count": 56,
   "metadata": {},
   "outputs": [
    {
     "data": {
      "text/html": [
       "\n",
       "        <script>\n",
       "            function code_toggle_2541221773644780802() {\n",
       "                $('div.cell.code_cell.rendered.selected').next().find('div.input').toggle();\n",
       "            }\n",
       "\n",
       "            $('div.cell.code_cell.rendered.selected').find(\"div.input\").hide();\n",
       "        </script>\n",
       "\n",
       "        <a href=\"javascript:code_toggle_2541221773644780802()\">Toggle show/hide next cell</a>\n",
       "    "
      ],
      "text/plain": [
       "<IPython.core.display.HTML object>"
      ]
     },
     "execution_count": 56,
     "metadata": {},
     "output_type": "execute_result"
    }
   ],
   "source": [
    "hide_toggle(True)"
   ]
  },
  {
   "cell_type": "code",
   "execution_count": 57,
   "metadata": {},
   "outputs": [],
   "source": [
    "# Retorna los padres de los nodos\n",
    "def get_parents(grafo):\n",
    "    result = {}\n",
    "    \n",
    "    for node, list_adyacentes in grafo.items():\n",
    "        if node not in result:\n",
    "            result[node] = set()\n",
    "        \n",
    "        if (len(list_adyacentes) > 0):  \n",
    "            for child in list_adyacentes:\n",
    "                if child not in result:\n",
    "                    result[child] = set()\n",
    "                    result[child].add(node)\n",
    "                else:\n",
    "                    result[child].add(node)\n",
    "    \n",
    "    return result\n",
    "\n",
    "class Red_Bayesiana:\n",
    "    def __init__(self, df, grafo, alpha, preprocessor = None):\n",
    "        self.alpha = alpha\n",
    "        self.estructura = grafo\n",
    "        self.parents = get_parents(self.estructura)\n",
    "        self.factores = self.generate(df)\n",
    "        self.card = self.get_cards(df)\n",
    "        self.preprocessor = preprocessor\n",
    "        \n",
    "    def get_cards(self, df):\n",
    "        nodes = self.estructura.keys()\n",
    "        card = {}\n",
    "        for value in nodes:\n",
    "            card[value] = df[value].unique()\n",
    "        return card\n",
    "    #Genera todos los factores de acuerdo a la estructura\n",
    "    def generate(self, df):\n",
    "        factores = {}\n",
    "        parents = self.parents\n",
    "        for child, parent_list in parents.items():\n",
    "            if (len(parent_list) == 0):\n",
    "                factores[tuple(child)] = estimar_marginal(df,child, self.alpha)\n",
    "            else:\n",
    "                key = list(parent_list)\n",
    "                key.insert(0, child)\n",
    "                key = tuple(key)\n",
    "                factores[key] = estimar_condicional(df,child, list(parent_list), self.alpha)\n",
    "        return factores\n",
    "    \n",
    "    def printFactores(self):\n",
    "        print(\"Factores del grafo\")\n",
    "        for key, df in self.factores.items():\n",
    "            \n",
    "            if (len(key)==1):\n",
    "                print (\"P(\" + key[0] + \")\", end=\" \")\n",
    "            else:\n",
    "                s = None\n",
    "                for i in range(len(key)):\n",
    "                    if (i==0):\n",
    "                        s = \"P(\" + key[0] + \"|\"\n",
    "                    elif(i == len(key) - 1):\n",
    "                        s = s + key[i] + \")\"\n",
    "                    else:\n",
    "                        s = s + key[i] + \",\"\n",
    "                print (s, end=\" \")\n",
    "                \n",
    "    #Función para calcular todos los ancestros de un nodo\n",
    "    def get_all_ancestor(self, current, current_parents, amount_of_ancestors, visited):\n",
    "        visited[current] = True\n",
    "        for parent in current_parents:\n",
    "            if(not visited[parent]):\n",
    "                self.get_all_ancestor(parent, self.parents[parent], amount_of_ancestors, visited)\n",
    "            amount_of_ancestors[current] = amount_of_ancestors[current] + amount_of_ancestors[parent] + 1\n",
    "        \n",
    "    #Devuelve las variables ocultas ordenados en orden topológico\n",
    "    def get_hidden_variables(self, consulta, evidencia):\n",
    "        nodes = self.estructura.keys()\n",
    "        amount_of_ancestors = {}\n",
    "        visited = {}\n",
    "        \n",
    "        for node in nodes:\n",
    "            visited[node] = False\n",
    "            amount_of_ancestors[node] = 0\n",
    "        \n",
    "        for node in nodes:\n",
    "            if(not visited[node]):\n",
    "                self.get_all_ancestor(node, self.parents[node], amount_of_ancestors, visited)\n",
    "        \n",
    "        hidden_variables = []\n",
    "        for variable in nodes:\n",
    "            if ((variable not in evidencia) and variable != consulta):\n",
    "                #Cada variable esta asociada a la cantidad de ancestros\n",
    "                hidden_variables.append([variable, amount_of_ancestors[variable]])\n",
    "        #Se ordena de menor a mayor de acuerdo a la cantidad de ancestros\n",
    "        #Esto nos garantiza que el nodo que tiene padre va estar después de su padre\n",
    "        hidden_variables = sorted(hidden_variables, key=lambda item: item[1])\n",
    "        \n",
    "        Z = []\n",
    "        for i in hidden_variables:\n",
    "            Z.append(i[0])\n",
    "        return Z\n",
    "    #El valor de la distribuicion marginal\n",
    "    def estimar_marginal(self, factor, valores): \n",
    "        assert len(valores) == 1, \"Marginal solo acepta un valor\"\n",
    "        #Se filtra el factor\n",
    "        resultado = self.factores[factor]\n",
    "        resultado = resultado[resultado[factor[0]]==valores[0]]\n",
    "        return list(resultado['P'])[0]\n",
    "    #El valor de la distribuicion condicional\n",
    "    def estimar_condicional(self, factor, valores):\n",
    "        #Se filtra el factor\n",
    "        resultado = self.factores[factor]\n",
    "        for i in range(len(factor)):\n",
    "            index = factor[i]\n",
    "            value = valores[i]\n",
    "            #filtrar la columna \n",
    "            resultado = resultado[resultado[index] == value]\n",
    "        return list(resultado['P'])[0]"
   ]
  },
  {
   "cell_type": "markdown",
   "metadata": {},
   "source": [
    "## Implementación del método de inferencia\n",
    "Esta función recibe como parámetros:\n",
    "* La variable target o clase\n",
    "* N-1 variables evidencias, es decir, esta función no está implementada para calcular inferencia con variables ocultas\n",
    "* La red bayesiana"
   ]
  },
  {
   "cell_type": "code",
   "execution_count": 58,
   "metadata": {},
   "outputs": [
    {
     "data": {
      "text/html": [
       "\n",
       "        <script>\n",
       "            function code_toggle_2743303987633242942() {\n",
       "                $('div.cell.code_cell.rendered.selected').next().find('div.input').toggle();\n",
       "            }\n",
       "\n",
       "            $('div.cell.code_cell.rendered.selected').find(\"div.input\").hide();\n",
       "        </script>\n",
       "\n",
       "        <a href=\"javascript:code_toggle_2743303987633242942()\">Toggle show/hide next cell</a>\n",
       "    "
      ],
      "text/plain": [
       "<IPython.core.display.HTML object>"
      ]
     },
     "execution_count": 58,
     "metadata": {},
     "output_type": "execute_result"
    }
   ],
   "source": [
    "hide_toggle(True)"
   ]
  },
  {
   "cell_type": "code",
   "execution_count": 59,
   "metadata": {},
   "outputs": [],
   "source": [
    "def inferencia(clase, e_variables , e_values, red_bayesiana):\n",
    "    \n",
    "    var_val = {}\n",
    "    \n",
    "    for i in range(len(e_variables)):\n",
    "        var_val[e_variables[i]] = e_values[i]\n",
    "    \n",
    "    # retorna un diccionario con llaves los nodos y valores \n",
    "    parentsList = red_bayesiana.parents\n",
    "    \n",
    "    #Cardinalidad de la variable clase\n",
    "    card = red_bayesiana.card[clase]\n",
    "    list_prob = []\n",
    "    \n",
    "    for valor in card:\n",
    "        p = 1\n",
    "        var_val[clase] = valor\n",
    "        for var, parents in parentsList.items():\n",
    "            if (len(parents) == 0):\n",
    "                p = p * red_bayesiana.estimar_marginal((var,),[var_val[var]] )\n",
    "             \n",
    "            else:\n",
    "                \n",
    "                values = [var_val[var]]\n",
    "                \n",
    "                for parent in parentsList[var]:\n",
    "                    values.append(var_val[parent])\n",
    "\n",
    "                key = list(parentsList[var])\n",
    "                key.insert(0,var)\n",
    "                key = tuple(key)\n",
    "                p = p * red_bayesiana.estimar_condicional(key,values)\n",
    "      \n",
    "        list_prob.append(p)\n",
    "    \n",
    "    columns = {}\n",
    "    \n",
    "    columns[clase] = card\n",
    "    columns['P'] = list_prob\n",
    "    \n",
    "    return pd.DataFrame(columns)"
   ]
  },
  {
   "cell_type": "markdown",
   "metadata": {},
   "source": [
    "# Implementación del método de inferencia con variables ocultas \n",
    "\n",
    "Se implementó la función **get_scope** la cual nos devuelve los factores donde está incluída la variable o no."
   ]
  },
  {
   "cell_type": "code",
   "execution_count": 60,
   "metadata": {},
   "outputs": [
    {
     "data": {
      "text/html": [
       "\n",
       "        <script>\n",
       "            function code_toggle_14197798759648268419() {\n",
       "                $('div.cell.code_cell.rendered.selected').next().find('div.input').toggle();\n",
       "            }\n",
       "\n",
       "            $('div.cell.code_cell.rendered.selected').find(\"div.input\").hide();\n",
       "        </script>\n",
       "\n",
       "        <a href=\"javascript:code_toggle_14197798759648268419()\">Toggle show/hide next cell</a>\n",
       "    "
      ],
      "text/plain": [
       "<IPython.core.display.HTML object>"
      ]
     },
     "execution_count": 60,
     "metadata": {},
     "output_type": "execute_result"
    }
   ],
   "source": [
    "hide_toggle(True)"
   ]
  },
  {
   "cell_type": "code",
   "execution_count": 61,
   "metadata": {},
   "outputs": [],
   "source": [
    "def get_scope(factores, variable):\n",
    "    factores_with_variable = []\n",
    "    factores_without_variable = []\n",
    "    for factor in factores:\n",
    "        if(variable in factor):\n",
    "            factores_with_variable.append(factor)\n",
    "        else:\n",
    "            factores_without_variable.append(factor)\n",
    "    return (factores_with_variable, factores_without_variable)\n",
    "\n",
    "def get_vars(phi_prima):\n",
    "    involved = []\n",
    "  \n",
    "    for element in phi_prima:\n",
    "        for value in element:\n",
    "            if(value not in involved):\n",
    "                involved.append(value)\n",
    "  \n",
    "    return involved\n",
    "\n",
    "def sum_product_eliminate_var(factores, variable_to_eliminate, consulta, valor_consulta, evidencia, valor_evidencia , red_bayesiana ):\n",
    "    # factores que se van a factorizar\n",
    "    \n",
    "    phi_prima, phi_prima_prima = get_scope(factores,variable_to_eliminate)\n",
    "      \n",
    "    # lista de variables involucradas en phi_prima\n",
    "    variables_in_scope = get_vars(phi_prima)\n",
    "\n",
    "    #diccionario: llave -> variable , valor -> lista de cardinalidad\n",
    "    var_to_values = {}\n",
    "    \n",
    "    for var in variables_in_scope:\n",
    "        if (var != consulta and (var not in evidencia)):\n",
    "            var_to_values[var] = red_bayesiana.card[var]\n",
    "    var_to_values[consulta] = [valor_consulta]\n",
    "    \n",
    "    for i in range(len(evidencia)):\n",
    "        var_to_values[evidencia[i]] = [valor_evidencia[i]]\n",
    "    \n",
    "    # llave: variable , valor --> indice en una n_upla\n",
    "    var_to_index = {}\n",
    "\n",
    "    #total number of posibilites\n",
    "    n =  1\n",
    "    for var, val in var_to_values.items():\n",
    "        n = n*len(val)\n",
    "  \n",
    "    posibilidades =  []\n",
    "    for i in range(n):\n",
    "        posibilidades.append([])\n",
    "        \n",
    "    groups = 1\n",
    "    pos = 0\n",
    "    for var in variables_in_scope:\n",
    "        var_to_index[var] = pos\n",
    "        pos = pos + 1\n",
    "        values = var_to_values[var]\n",
    "        m = len(values)\n",
    "        groups = groups*m\n",
    "        rep = int(n/groups)\n",
    "        for i in range(groups):\n",
    "            for j in range(rep):\n",
    "                posibilidades[i*rep + j].extend([values[i%m]])\n",
    "    # factores que quedan\n",
    "  \n",
    "    p = 0 \n",
    "    # iterar entre todas las posibilidades\n",
    "    for n_upla in posibilidades:\n",
    "    \n",
    "        p_local = 1\n",
    "        for dist in phi_prima:\n",
    "            var = dist[0] # El nodo\n",
    "            cond = dist[1:] # Los padres del nodo\n",
    "            \n",
    "            # hallar los valores que tomas las variables en la distribuiciones\n",
    "            if (len(cond) == 0):\n",
    "                p_marginal = red_bayesiana.estimar_marginal(dist,[n_upla[var_to_index[var]]])\n",
    "                p_local = p_local*p_marginal\n",
    "            else:\n",
    "                valores = []\n",
    "                for var in dist:\n",
    "                    index = var_to_index[var]\n",
    "                    valores.append(n_upla[index])\n",
    "                \n",
    "                p_condicional = red_bayesiana.estimar_condicional(dist, valores)\n",
    "              \n",
    "                p_local = p_local*p_condicional\n",
    "        # sumatoria de los valores en los factores dentro del get_scope\n",
    "        p = p + p_local\n",
    "        \n",
    "    return [phi_prima_prima, p]\n",
    "\n",
    "def sum_product(factores, consulta, valor_consulta, evidencia, valor_evidencia, red_bayesiana):\n",
    "    \n",
    "    var_to_val = {}\n",
    "    for i in range(len(evidencia)):\n",
    "        var_to_val[evidencia[i]] = valor_evidencia[i]\n",
    "    \n",
    "    var_to_val[consulta] = valor_consulta\n",
    "    \n",
    "    p = 1\n",
    "    \n",
    "    for dist in factores:\n",
    "        var = dist[0]\n",
    "        cond = dist[1:]\n",
    "        if (len(cond) == 0):\n",
    "            p_marginal = red_bayesiana.estimar_marginal(dist,[var_to_val[var]])\n",
    "            p = p*p_marginal\n",
    "        else:\n",
    "            valores = []\n",
    "            for var in dist:\n",
    "                valores.append(var_to_val[var])\n",
    "         \n",
    "\n",
    "            p_condicional = red_bayesiana.estimar_condicional(dist, valores)\n",
    "           \n",
    "            p = p*p_condicional\n",
    "    \n",
    "    return p\n",
    "\n",
    "def sum_product_ve(consulta, valor_consulta , evidencia, valor_evidencia, red_bayesiana):\n",
    "    Z = red_bayesiana.get_hidden_variables(consulta, evidencia)\n",
    "  \n",
    "    tetha = []\n",
    "    factores = red_bayesiana.factores.keys() # lista de factores\n",
    "    for i in range(len(Z)):\n",
    "  \n",
    "        \n",
    "        if(len(factores) == 0):\n",
    "            break\n",
    "        [nuevos_factores,sumatoria] =  sum_product_eliminate_var(factores, Z[i], consulta, \n",
    "                                                                 valor_consulta, evidencia, \n",
    "                                                                 valor_evidencia, red_bayesiana)\n",
    "    \n",
    "        factores = nuevos_factores\n",
    "        tetha.append(sumatoria)\n",
    "    \n",
    "    if(len(factores)>0):\n",
    "        p_last = sum_product(factores,consulta,  valor_consulta, evidencia,valor_evidencia, red_bayesiana)\n",
    "        tetha.append(p_last)\n",
    "    p = 1\n",
    "    for sumatoria in tetha:\n",
    "        p = p*sumatoria\n",
    "    \n",
    "    return p\n",
    "\n",
    "def inferencia_con_variables_ocultas(consulta, evidencia, valor_evidencia, red_bayesiana):\n",
    "    \n",
    "    card = red_bayesiana.card[consulta]\n",
    "    list_prob = []\n",
    "    for valor_consulta in card:\n",
    "        p = sum_product_ve(consulta, valor_consulta , evidencia, valor_evidencia, red_bayesiana)\n",
    "        list_prob.append(p)\n",
    "    columns = {}\n",
    "    columns[consulta] = card\n",
    "    columns['P'] = list_prob\n",
    "    \n",
    "    return pd.DataFrame(columns)"
   ]
  },
  {
   "cell_type": "markdown",
   "metadata": {},
   "source": [
    "## Definición e implementación de la clase Structure\n",
    "Esta clase representa la estructura de la red bayesiana, es decir, el grafo dirigido y acíclico (DAG). Asimismo, para verificar si existe ciclos en el grafo se implementó la función que chequea ello **is_cyclic**.\n",
    "\n",
    "También, se implementó la función **get_graph_id** la cual devuelve un identificador al grafo. Este identificador es de acuerdo a las aristas dirigidas que están presente. Ejemplo:\n",
    "\n",
    "Sea el grafo con los siguientes vertices: \n",
    "$$ V = \\{A, B, C\\} $$ \n",
    "y las aristas:\n",
    "$$ E = \\{A->B, C->A\\}$$\n",
    "Por lo tanto el identificador de este grafo es:\n",
    "\n",
    "|    | AA | AB | AC | BA | BB | BC | CA | CB | CC |\n",
    "|----|:--:|----|----|----|----|----|----|----|----|\n",
    "| ID | 0  | 1  | 0  | 0  | 0  | 0  | 1  | 0  | 0  |\n",
    "\n",
    "Asimismo, se implementaron las siguientes funciones:\n",
    "* **operator_for_eliminate_edge**: Elimina cualquier arista.\n",
    "* **operator_for_add_edge**: Agrega una arista válida. La arista $A->A$ se considera inválida.\n",
    "* **operator_for_reverse_edge**: Invierte una arista si es posible."
   ]
  },
  {
   "cell_type": "code",
   "execution_count": 62,
   "metadata": {},
   "outputs": [
    {
     "data": {
      "text/html": [
       "\n",
       "        <script>\n",
       "            function code_toggle_17733711169767041011() {\n",
       "                $('div.cell.code_cell.rendered.selected').next().find('div.input').toggle();\n",
       "            }\n",
       "\n",
       "            $('div.cell.code_cell.rendered.selected').find(\"div.input\").hide();\n",
       "        </script>\n",
       "\n",
       "        <a href=\"javascript:code_toggle_17733711169767041011()\">Toggle show/hide next cell</a>\n",
       "    "
      ],
      "text/plain": [
       "<IPython.core.display.HTML object>"
      ]
     },
     "execution_count": 62,
     "metadata": {},
     "output_type": "execute_result"
    }
   ],
   "source": [
    "hide_toggle(True)"
   ]
  },
  {
   "cell_type": "code",
   "execution_count": 63,
   "metadata": {},
   "outputs": [],
   "source": [
    "class Structure:\n",
    "    def __init__(self, list_adj ,preprocessor = None):\n",
    "        self.estructura = copy.deepcopy(list_adj)\n",
    "        self.parents = get_parents(self.estructura)\n",
    "        self.set_edge = self.get_set_edge(list_adj)\n",
    "        self.n_nodes = len(list_adj.keys())\n",
    "        self.n_edges = len(self.set_edge)\n",
    "        self.nodes_indexes = self.get_indexes()\n",
    "        self.graph_id = self.get_graph_id()\n",
    "        self.edges_not_graph = self.get_edges_not_graph()   \n",
    "        self.preprocessor = preprocessor\n",
    "    \n",
    "    def get_indexes(self):\n",
    "        indexes = {}\n",
    "        i = 0\n",
    "        for node in self.estructura.keys():\n",
    "            indexes[node] = i\n",
    "            i = i + 1\n",
    "        return indexes\n",
    "    \n",
    "    def get_graph_id(self):\n",
    "        VxV = self.n_nodes * self.n_nodes\n",
    "        g_id = [0] * (VxV)\n",
    "        for node, list_adj in self.estructura.items():\n",
    "            for neighbor in list_adj:\n",
    "                index = self.n_nodes * self.nodes_indexes[node] + self.nodes_indexes[neighbor] \n",
    "                g_id[index] = 1\n",
    "        return g_id\n",
    "\n",
    "    def get_set_edge(self, list_adj):\n",
    "        result = set()\n",
    "        for v, list_neighbors in list_adj.items():\n",
    "            for neighbor in list_neighbors:\n",
    "                result.add((v,neighbor))\n",
    "        return result\n",
    "\n",
    "    def get_edges_not_graph(self):\n",
    "        edges_possibles = set()\n",
    "        i = 0\n",
    "        j = self.n_nodes - 1\n",
    "        k = 0\n",
    "        nodes = list(self.nodes_indexes.keys())\n",
    "        for index in range(len(self.graph_id)):\n",
    "            if(index != i):\n",
    "                if(self.graph_id[index] == 0):\n",
    "                    edges_possibles.add((nodes[i%self.n_nodes], nodes[k%self.n_nodes]))\n",
    "            if(j == index):\n",
    "                i = i + self.n_nodes + 1\n",
    "                j = j + self.n_nodes\n",
    "                \n",
    "            k = k + 1\n",
    "            \n",
    "        return edges_possibles\n",
    "    \n",
    "    def add_edge(self,v1,v2):\n",
    "        edge = (v1, v2)\n",
    "        self.edges_not_graph.remove(edge)\n",
    "        self.set_edge.add(edge)\n",
    "        \n",
    "        self.estructura[v1].append(v2)\n",
    "        self.parents[v2].add(v1)\n",
    "        self.n_edges = self.n_edges + 1\n",
    "        \n",
    "        index = self.n_nodes*self.nodes_indexes[v1] + self.nodes_indexes[v2]\n",
    "        self.graph_id[index] = 1 # this means that a edge was added\n",
    "    \n",
    "    def operator_for_eliminate_edge(self):\n",
    "        if (self.n_edges == 0):\n",
    "            return\n",
    "        edge = random.choice(list(self.set_edge))\n",
    "        self.set_edge.remove(edge)\n",
    "        self.edges_not_graph.add(edge)\n",
    "        \n",
    "        v1 = edge[0]\n",
    "        v2 = edge[1]\n",
    "        self.estructura[v1].remove(v2)\n",
    "        self.parents[v2].remove(v1)\n",
    "        self.n_edges = self.n_edges - 1\n",
    "        \n",
    "        #Update graph id\n",
    "        index = self.n_nodes*self.nodes_indexes[v1] + self.nodes_indexes[v2]\n",
    "        self.graph_id[index] = 0 # this means that a edge was removed\n",
    "        return edge\n",
    "    \n",
    "    def operator_for_add_edge(self):\n",
    "        total_edges = (self.n_nodes) * (self.n_nodes - 1)\n",
    "        if(total_edges == len(self.set_edge)):\n",
    "            return\n",
    "        \n",
    "        edge = random.choice(list(self.edges_not_graph))\n",
    "        self.edges_not_graph.remove(edge)\n",
    "        self.set_edge.add(edge)\n",
    "        v1 = edge[0] \n",
    "        v2 = edge[1]\n",
    "        self.estructura[v1].append(v2)\n",
    "        self.parents[v2].add(v1)\n",
    "        \n",
    "        index = self.n_nodes*self.nodes_indexes[v1] + self.nodes_indexes[v2]\n",
    "        self.graph_id[index] = 1 # this means that a edge was added\n",
    "        \n",
    "        self.n_edges = self.n_edges + 1\n",
    "        \n",
    "    def operator_for_reverse_edge(self):\n",
    "        total_edges = (self.n_nodes) * (self.n_nodes - 1)\n",
    "        if (self.n_edges == 0 or self.n_edges == total_edges):\n",
    "            return\n",
    "        \n",
    "        possible = False\n",
    "        inverted_edge = None\n",
    "        edge_to_remove = None\n",
    "        for graph_edge in self.set_edge:\n",
    "            inverted = (graph_edge[1], graph_edge[0])\n",
    "            if (not (inverted in self.set_edge)):\n",
    "                edge_to_remove = graph_edge\n",
    "                inverted_edge = inverted\n",
    "                possible = True\n",
    "                break\n",
    "        \n",
    "        if(not possible):\n",
    "            return\n",
    "        \n",
    "        self.set_edge.remove(edge_to_remove)\n",
    "        self.edges_not_graph.add(edge_to_remove)\n",
    "        \n",
    "        v1 = edge_to_remove[0]\n",
    "        v2 = edge_to_remove[1]\n",
    "        self.estructura[v1].remove(v2)\n",
    "        self.parents[v2].remove(v1)\n",
    "        \n",
    "        v1 = inverted_edge[0]\n",
    "        v2 = inverted_edge[1]\n",
    "        self.estructura[v1].append(v2)\n",
    "        self.parents[v2].add(v1)\n",
    "\n",
    "        self.set_edge.add(inverted_edge)\n",
    "        self.edges_not_graph.remove(inverted_edge)\n",
    "        \n",
    "        index = self.n_nodes*self.nodes_indexes[v1] + self.nodes_indexes[v2]\n",
    "        self.graph_id[index] = 1 # this means that a edge was added\n",
    "        index = self.n_nodes*self.nodes_indexes[v2] + self.nodes_indexes[v1]\n",
    "        self.graph_id[index] = 0 # this means that a edge was removed\n",
    "        \n",
    "    def is_cyclic_util(self, v, visited, recStack):\n",
    "        visited[v] = True\n",
    "        recStack[v] = True\n",
    "        \n",
    "        for neighbour in self.estructura[v]:\n",
    "            if(not visited[neighbour]):\n",
    "                if (self.is_cyclic_util(neighbour, visited, recStack)):\n",
    "                    return True\n",
    "            elif (recStack[neighbour]):\n",
    "                return True\n",
    "        \n",
    "        recStack[v] = False\n",
    "        return False\n",
    "    \n",
    "    def is_cyclic(self):\n",
    "        nodes = self.estructura.keys()\n",
    "        visited = {}\n",
    "        recStack = {}\n",
    "        for node in nodes:\n",
    "            visited[node] = False\n",
    "            recStack[node] = False\n",
    "\n",
    "        for node in nodes:\n",
    "            if (not visited[node]):\n",
    "                if self.is_cyclic_util(node, visited, recStack):\n",
    "                    return True\n",
    "        \n",
    "        return False"
   ]
  },
  {
   "cell_type": "markdown",
   "metadata": {},
   "source": [
    "# Métricas de calidad\n",
    "Para poder asignar un puntaje a la estructura de la red bayesiana se define las siguientes métricas:\n",
    "## Métrica de entropía"
   ]
  },
  {
   "cell_type": "code",
   "execution_count": 64,
   "metadata": {},
   "outputs": [
    {
     "data": {
      "text/html": [
       "\n",
       "        <script>\n",
       "            function code_toggle_2265065295845359977() {\n",
       "                $('div.cell.code_cell.rendered.selected').next().find('div.input').toggle();\n",
       "            }\n",
       "\n",
       "            $('div.cell.code_cell.rendered.selected').find(\"div.input\").hide();\n",
       "        </script>\n",
       "\n",
       "        <a href=\"javascript:code_toggle_2265065295845359977()\">Toggle show/hide next cell</a>\n",
       "    "
      ],
      "text/plain": [
       "<IPython.core.display.HTML object>"
      ]
     },
     "execution_count": 64,
     "metadata": {},
     "output_type": "execute_result"
    }
   ],
   "source": [
    "hide_toggle(True)"
   ]
  },
  {
   "cell_type": "code",
   "execution_count": 65,
   "metadata": {},
   "outputs": [],
   "source": [
    "def get_entropia(estructura_red):\n",
    "    ## Obtenemos la cardinalidad de cada variable\n",
    "    variables = estructura_red.estructura.keys()\n",
    "    n = len(variables)\n",
    "    # diccionario de variable -> lista de valores\n",
    "\n",
    "    r = {} \n",
    "    for var in variables:\n",
    "        r[var] = estructura_red.preprocessor.card[var]\n",
    "\n",
    "    \n",
    "    # diccionario de variables -> lista de padres\n",
    "    q = estructura_red.parents\n",
    "    #TO DO\n",
    "    \n",
    "    # N total de instancias\n",
    "    N = estructura_red.preprocessor.instancias\n",
    "    result = 0\n",
    "    \n",
    "    # i = 1 ... n\n",
    "    # xi\n",
    "    for variable in variables:\n",
    "        xi = variable\n",
    "        pa_xi = list(q[variable])\n",
    "        \n",
    "        # si la variable no tiene padre\n",
    "        if(len(pa_xi)==0):\n",
    "            for valor in r[variable]:\n",
    "                \n",
    "                # Ej: P(A = 0).log2(P(A=0))\n",
    "                prob_xi = estructura_red.preprocessor.get_preprocess_marginal(xi, valor)\n",
    "                result = result + prob_xi*math.log(prob_xi,2)\n",
    "            \n",
    "            continue\n",
    "        \n",
    "        # j = 1 .... qi\n",
    "        pa_xi = pa_xi[0]\n",
    "        for parent_val in r[pa_xi]:\n",
    "            # k = 1... ri\n",
    "            for valor in r[variable]:                \n",
    "                # Calculo de P(xi|pa(xi))\n",
    "                p_xi_paxi = estructura_red.preprocessor.get_preprocess_condicional((xi,pa_xi),[valor,parent_val])\n",
    "                p_conj_xi_pxi = estructura_red.preprocessor.get_preprocess_conjunta((xi,pa_xi),[valor,parent_val])\n",
    "     \n",
    "                result = result + p_conj_xi_pxi*(math.log(p_xi_paxi,2))\n",
    "        \n",
    "    result = result*(-1)*N\n",
    "                \n",
    "    return result"
   ]
  },
  {
   "cell_type": "markdown",
   "metadata": {},
   "source": [
    "## Métrica de akaike"
   ]
  },
  {
   "cell_type": "code",
   "execution_count": 66,
   "metadata": {},
   "outputs": [
    {
     "data": {
      "text/html": [
       "\n",
       "        <script>\n",
       "            function code_toggle_7197095084219500471() {\n",
       "                $('div.cell.code_cell.rendered.selected').next().find('div.input').toggle();\n",
       "            }\n",
       "\n",
       "            $('div.cell.code_cell.rendered.selected').find(\"div.input\").hide();\n",
       "        </script>\n",
       "\n",
       "        <a href=\"javascript:code_toggle_7197095084219500471()\">Toggle show/hide next cell</a>\n",
       "    "
      ],
      "text/plain": [
       "<IPython.core.display.HTML object>"
      ]
     },
     "execution_count": 66,
     "metadata": {},
     "output_type": "execute_result"
    }
   ],
   "source": [
    "hide_toggle(True)"
   ]
  },
  {
   "cell_type": "code",
   "execution_count": 67,
   "metadata": {},
   "outputs": [],
   "source": [
    "def get_number_independent_parameters(estructura_red):\n",
    "    cardinalities = estructura_red.preprocessor.card\n",
    "    parents = estructura_red.parents\n",
    "    \n",
    "    sum = 0\n",
    "  \n",
    "    for r in cardinalities.keys():\n",
    "        q = 1\n",
    "        for parent in parents[r]:\n",
    "            q = q * len(cardinalities[parent])\n",
    "        sum = sum + (len(cardinalities[r]) - 1)*q\n",
    "\n",
    "    return sum\n",
    "\n",
    "def get_akaike(estructura_red):\n",
    "    #\n",
    "    K = get_number_independent_parameters(estructura_red)\n",
    "    e = get_entropia(estructura_red)\n",
    "    \n",
    "    return e + K"
   ]
  },
  {
   "cell_type": "markdown",
   "metadata": {},
   "source": [
    "## Métrica de MDL"
   ]
  },
  {
   "cell_type": "code",
   "execution_count": 68,
   "metadata": {},
   "outputs": [
    {
     "data": {
      "text/html": [
       "\n",
       "        <script>\n",
       "            function code_toggle_2639186757786670053() {\n",
       "                $('div.cell.code_cell.rendered.selected').next().find('div.input').toggle();\n",
       "            }\n",
       "\n",
       "            $('div.cell.code_cell.rendered.selected').find(\"div.input\").hide();\n",
       "        </script>\n",
       "\n",
       "        <a href=\"javascript:code_toggle_2639186757786670053()\">Toggle show/hide next cell</a>\n",
       "    "
      ],
      "text/plain": [
       "<IPython.core.display.HTML object>"
      ]
     },
     "execution_count": 68,
     "metadata": {},
     "output_type": "execute_result"
    }
   ],
   "source": [
    "hide_toggle(True)"
   ]
  },
  {
   "cell_type": "code",
   "execution_count": 69,
   "metadata": {},
   "outputs": [],
   "source": [
    "def get_mdl(estructura_red):    \n",
    "    N = estructura_red.preprocessor.instancias\n",
    "    K = get_number_independent_parameters(estructura_red)\n",
    "    e = get_entropia(estructura_red)\n",
    "    \n",
    "    return e + K/2*math.log(N,2)"
   ]
  },
  {
   "cell_type": "markdown",
   "metadata": {},
   "source": [
    "##  Métrica K2"
   ]
  },
  {
   "cell_type": "code",
   "execution_count": 70,
   "metadata": {},
   "outputs": [
    {
     "data": {
      "text/html": [
       "\n",
       "        <script>\n",
       "            function code_toggle_6107411862333237122() {\n",
       "                $('div.cell.code_cell.rendered.selected').next().find('div.input').toggle();\n",
       "            }\n",
       "\n",
       "            $('div.cell.code_cell.rendered.selected').find(\"div.input\").hide();\n",
       "        </script>\n",
       "\n",
       "        <a href=\"javascript:code_toggle_6107411862333237122()\">Toggle show/hide next cell</a>\n",
       "    "
      ],
      "text/plain": [
       "<IPython.core.display.HTML object>"
      ]
     },
     "execution_count": 70,
     "metadata": {},
     "output_type": "execute_result"
    }
   ],
   "source": [
    "hide_toggle(True)"
   ]
  },
  {
   "cell_type": "code",
   "execution_count": 71,
   "metadata": {},
   "outputs": [],
   "source": [
    "def get_k2(estructura_red):\n",
    "    # Obtenemos la cardinalidad de cada variable\n",
    "    variables = estructura_red.preprocessor.variables\n",
    "    n = len(variables)\n",
    "    df = estructura_red.preprocessor.df\n",
    "    q = estructura_red.parents\n",
    "    \n",
    "    r = {} \n",
    "    for var in variables:\n",
    "        r[var] = estructura_red.preprocessor.card[var]\n",
    "    \n",
    "    result = 1\n",
    "    \n",
    "    for variable in variables:\n",
    "        xi = variable\n",
    "        pa_xi = list(q[variable])\n",
    "        if(len(pa_xi)==0):\n",
    "            continue\n",
    "        \n",
    "        ri = len(r[variable])\n",
    "        \n",
    "        # j = 1 .... qi\n",
    "        pa_xi = pa_xi[0]\n",
    "        for parent_val in r[pa_xi]:\n",
    "            \n",
    "            # Nij número de instancias donde Pa(xi) toma su j-esimo valor \n",
    "            Nij = count(df, [pa_xi], [parent_val])\n",
    "            \n",
    "            \n",
    "            a = math.factorial(ri -1) / math.factorial(ri-1 + Nij)\n",
    "            \n",
    "            result = result*a\n",
    "            # k = 1... ri\n",
    "            for valor in r[variable]:\n",
    "                \n",
    "                # Nijk número de instancias donde Pa(xi) toma su j-esimo valor y xi toma su k-esimo valor\n",
    "                Nijk = count(df, [pa_xi,xi],[parent_val,valor])\n",
    "                result =  result* math.factorial(Nijk)\n",
    "    \n",
    "    return result"
   ]
  },
  {
   "cell_type": "markdown",
   "metadata": {},
   "source": [
    "## Greedy local search algorithm\n",
    "Las funciones previamente implementadas sirven como heurísticas para evaluar la calidad de diferentes estructuras de red bayesiana.\n",
    "\n",
    "Por lo que podemos definir una función para encontrar una estructura que obtiene el máximo score de acuerdo a la función de métrica que le pasemos"
   ]
  },
  {
   "cell_type": "code",
   "execution_count": 72,
   "metadata": {},
   "outputs": [
    {
     "data": {
      "text/html": [
       "\n",
       "        <script>\n",
       "            function code_toggle_4490988575663035259() {\n",
       "                $('div.cell.code_cell.rendered.selected').next().find('div.input').toggle();\n",
       "            }\n",
       "\n",
       "            $('div.cell.code_cell.rendered.selected').find(\"div.input\").hide();\n",
       "        </script>\n",
       "\n",
       "        <a href=\"javascript:code_toggle_4490988575663035259()\">Toggle show/hide next cell</a>\n",
       "    "
      ],
      "text/plain": [
       "<IPython.core.display.HTML object>"
      ]
     },
     "execution_count": 72,
     "metadata": {},
     "output_type": "execute_result"
    }
   ],
   "source": [
    "hide_toggle(True)"
   ]
  },
  {
   "cell_type": "code",
   "execution_count": 73,
   "metadata": {},
   "outputs": [],
   "source": [
    "# set_operators [0, 1, 2]: 0 = add, 1 = remove, 2 = revert\n",
    "def greedy_local_search(initial_solution, score_function, set_operators = [0, 1, 2]):\n",
    "    best_solution = initial_solution\n",
    "    Progress = True\n",
    "    while(Progress):\n",
    "        solution = best_solution\n",
    "        Progress = False\n",
    "        for operator in set_operators:\n",
    "            \n",
    "            candidate_solution = copy.deepcopy(solution)\n",
    "            if(operator == 0):\n",
    "                candidate_solution.operator_for_add_edge()\n",
    "            elif(operator == 1):\n",
    "                candidate_solution.operator_for_eliminate_edge()\n",
    "            else:\n",
    "                candidate_solution.operator_for_reverse_edge()\n",
    "            \n",
    "            if (not candidate_solution.is_cyclic()):\n",
    "                if(score_function(candidate_solution) > score_function(best_solution)):\n",
    "                    best_solution = copy.deepcopy(candidate_solution)\n",
    "                    Progress = True\n",
    "    return best_solution"
   ]
  },
  {
   "cell_type": "markdown",
   "metadata": {},
   "source": [
    "## K2 search algorithm"
   ]
  },
  {
   "cell_type": "code",
   "execution_count": 74,
   "metadata": {},
   "outputs": [
    {
     "data": {
      "text/html": [
       "\n",
       "        <script>\n",
       "            function code_toggle_17006861968658056936() {\n",
       "                $('div.cell.code_cell.rendered.selected').next().find('div.input').toggle();\n",
       "            }\n",
       "\n",
       "            $('div.cell.code_cell.rendered.selected').find(\"div.input\").hide();\n",
       "        </script>\n",
       "\n",
       "        <a href=\"javascript:code_toggle_17006861968658056936()\">Toggle show/hide next cell</a>\n",
       "    "
      ],
      "text/plain": [
       "<IPython.core.display.HTML object>"
      ]
     },
     "execution_count": 74,
     "metadata": {},
     "output_type": "execute_result"
    }
   ],
   "source": [
    "hide_toggle(True)"
   ]
  },
  {
   "cell_type": "code",
   "execution_count": 75,
   "metadata": {
    "scrolled": false
   },
   "outputs": [],
   "source": [
    "## se pasa una estructura que no tiene aristas unidas \n",
    "def k2_algorithm( initial_solution,score_function, u ):\n",
    "    # ordenar de forma topológica\n",
    "    variables  = initial_solution.preprocessor.variables\n",
    "    \n",
    "    #seteamos vacia al conjunto de padres de cada variable\n",
    "    padres = {}\n",
    "    for var in variables:\n",
    "        padres[var] = []\n",
    "    \n",
    "    best_solution = initial_solution\n",
    "    \n",
    "    for i in range(len(variables)):\n",
    "        var = variables[i]\n",
    "        p_old = score_function(best_solution)\n",
    "        okToProceed = True\n",
    "        \n",
    "        while (okToProceed and  len(padres[var]) < u):\n",
    "            ##hallar  pred(x) - pa(x) que maximiza \n",
    "            pred = variables[0:i]\n",
    "            \n",
    "            #candidate_solution = copy.deepcopy(solution)\n",
    "            \n",
    "            z = []\n",
    "            for v in pred:\n",
    "                if (v not in padres[var]):\n",
    "                    z.append(v)\n",
    "            \n",
    "            # hallar el nodo en z que maximiza la funcion \n",
    "            \n",
    "            \n",
    "            p_new = 0\n",
    "            z_max = None\n",
    "            for node in z:\n",
    "                candidate_solution = copy.deepcopy(best_solution)\n",
    "                candidate_solution.add_edge(node,var)\n",
    "                p_temp = score_function(candidate_solution)\n",
    "                if(p_temp > p_new):\n",
    "                    p_new = p_temp\n",
    "                    z_max = node\n",
    "                # simular que node es padre de var y hallar el mayor\n",
    "                \n",
    "                \n",
    "            if (p_new > p_old):\n",
    "\n",
    "                p_old = p_new\n",
    "                # añadimos a z como padre\n",
    "                best_solution.add_edge(z_max, var)\n",
    "                padres[var].append(z_max)\n",
    "                # actualizamos la estructura de la solución\n",
    "                \n",
    "                \n",
    "            else:\n",
    "                okToProceed = False\n",
    "    \n",
    "    return best_solution"
   ]
  },
  {
   "cell_type": "markdown",
   "metadata": {},
   "source": [
    "<a id='presentacion'></a>\n",
    "# Presentación del proyecto en general\n",
    "\n",
    "\n",
    "Este proyecto tiene como objetivo buscar la mejor estructura que modele los datos de una base de datos, que se usará posteriormente para realizar inferencias.\n",
    "\n",
    "Comenzaremos cargando la base de datos de estudio que también es llamada base de datos de entrenamiento."
   ]
  },
  {
   "cell_type": "code",
   "execution_count": 76,
   "metadata": {},
   "outputs": [
    {
     "data": {
      "text/html": [
       "\n",
       "        <script>\n",
       "            function code_toggle_18077448515099570690() {\n",
       "                $('div.cell.code_cell.rendered.selected').next().find('div.input').toggle();\n",
       "            }\n",
       "\n",
       "            $('div.cell.code_cell.rendered.selected').find(\"div.input\").hide();\n",
       "        </script>\n",
       "\n",
       "        <a href=\"javascript:code_toggle_18077448515099570690()\">Toggle show/hide next cell</a>\n",
       "    "
      ],
      "text/plain": [
       "<IPython.core.display.HTML object>"
      ]
     },
     "execution_count": 76,
     "metadata": {},
     "output_type": "execute_result"
    }
   ],
   "source": [
    "hide_toggle(True)"
   ]
  },
  {
   "cell_type": "code",
   "execution_count": 77,
   "metadata": {
    "scrolled": true
   },
   "outputs": [
    {
     "data": {
      "application/vnd.jupyter.widget-view+json": {
       "model_id": "bc28350bed7e416c88915784c6a5ad76",
       "version_major": 2,
       "version_minor": 0
      },
      "text/plain": [
       "FileUpload(value={}, accept='.csv', description='Upload')"
      ]
     },
     "metadata": {},
     "output_type": "display_data"
    },
    {
     "data": {
      "application/vnd.jupyter.widget-view+json": {
       "model_id": "df1d95448b394253a3fbe15014ab97d5",
       "version_major": 2,
       "version_minor": 0
      },
      "text/plain": [
       "Button(description='Read .csv!', style=ButtonStyle())"
      ]
     },
     "metadata": {},
     "output_type": "display_data"
    },
    {
     "data": {
      "application/vnd.jupyter.widget-view+json": {
       "model_id": "4167a32ccc8a464c96e71abd8050517f",
       "version_major": 2,
       "version_minor": 0
      },
      "text/plain": [
       "Output()"
      ]
     },
     "metadata": {},
     "output_type": "display_data"
    }
   ],
   "source": [
    "import ipywidgets as widgets\n",
    "from IPython.display import display\n",
    "\n",
    "uploader = widgets.FileUpload(\n",
    "    accept= '.csv', \n",
    "    multiple=False  \n",
    ")\n",
    "button = widgets.Button(description=\"Read .csv!\")\n",
    "out = widgets.Output()\n",
    "display(uploader, button, out)\n",
    "\n",
    "df_train = None # Dataframe de entrenamiento\n",
    "path = None\n",
    "\n",
    "def load_csv(extra):\n",
    "    global path, df_train\n",
    "    for name, file_info in uploader.value.items():\n",
    "        path = name \n",
    "        with open (name, 'wb') as file:\n",
    "            file.write(file_info['content'])\n",
    "    df_train = leer_dataset(path)\n",
    "    with out:\n",
    "        display(df_train)\n",
    "        \n",
    "button.on_click(load_csv)"
   ]
  },
  {
   "cell_type": "markdown",
   "metadata": {},
   "source": [
    "Luego procedemos a leer el grafo, el cual en el archivo de texto debería de estar de la siguiente forma para que sea válido el procesamiento. Este **es un ejemplo**:\n",
    "$$\\{ 'A': [], 'B': ['A'], 'C': [] \\}$$\n",
    "Asimismo, a partir del grafo se establece una hipotesis de cómo están relacionadas estas variables. La hipotesis se modelará como un DAG (directed aciclyc graph) donde un vertice representa una variable  y una arista (v1,v2) representa que la variable v2 depende de la variable v1."
   ]
  },
  {
   "cell_type": "code",
   "execution_count": 78,
   "metadata": {},
   "outputs": [
    {
     "data": {
      "text/html": [
       "\n",
       "        <script>\n",
       "            function code_toggle_18396252448744372042() {\n",
       "                $('div.cell.code_cell.rendered.selected').next().find('div.input').toggle();\n",
       "            }\n",
       "\n",
       "            $('div.cell.code_cell.rendered.selected').find(\"div.input\").hide();\n",
       "        </script>\n",
       "\n",
       "        <a href=\"javascript:code_toggle_18396252448744372042()\">Toggle show/hide next cell</a>\n",
       "    "
      ],
      "text/plain": [
       "<IPython.core.display.HTML object>"
      ]
     },
     "execution_count": 78,
     "metadata": {},
     "output_type": "execute_result"
    }
   ],
   "source": [
    "hide_toggle(\"True\")"
   ]
  },
  {
   "cell_type": "code",
   "execution_count": 79,
   "metadata": {},
   "outputs": [
    {
     "data": {
      "application/vnd.jupyter.widget-view+json": {
       "model_id": "3168bda65eaf4429939d1e3b40eeaed3",
       "version_major": 2,
       "version_minor": 0
      },
      "text/plain": [
       "FileUpload(value={}, accept='.txt', description='Upload')"
      ]
     },
     "metadata": {},
     "output_type": "display_data"
    },
    {
     "data": {
      "application/vnd.jupyter.widget-view+json": {
       "model_id": "c51c7c9a9c2c4630a0a31e624a2c0523",
       "version_major": 2,
       "version_minor": 0
      },
      "text/plain": [
       "Button(description='Read graph!', style=ButtonStyle())"
      ]
     },
     "metadata": {},
     "output_type": "display_data"
    },
    {
     "data": {
      "application/vnd.jupyter.widget-view+json": {
       "model_id": "cbaa5d160813431a99b438c938ec7d49",
       "version_major": 2,
       "version_minor": 0
      },
      "text/plain": [
       "Output()"
      ]
     },
     "metadata": {},
     "output_type": "display_data"
    }
   ],
   "source": [
    "import ast\n",
    "from graphviz import Digraph\n",
    "uploader = widgets.FileUpload(\n",
    "    accept= '.txt', \n",
    "    multiple=False  \n",
    ")\n",
    "button = widgets.Button(description=\"Read graph!\")\n",
    "out2 = widgets.Output()\n",
    "display(uploader, button, out2)\n",
    "\n",
    "test_graph = None # Dataframe de entrenamiento\n",
    "\n",
    "def to_visual(graph):\n",
    "    dot = Digraph(format='png')\n",
    "    for vertice in graph.keys():\n",
    "        dot.node(str(vertice))\n",
    "    for node, list_adj in graph.items():\n",
    "        for neighbour in list_adj:\n",
    "            edge = str(node)+str(neighbour)\n",
    "            dot.edges([edge])\n",
    "    return dot\n",
    "\n",
    "def read_graph(extra):\n",
    "    global test_graph\n",
    "    for name, file_info in uploader.value.items():\n",
    "        path = name \n",
    "        with open (name, 'wb') as file:\n",
    "            file.write(file_info['content'])\n",
    "        f = open('prueba.txt')\n",
    "        test_graph = ast.literal_eval(f.read())\n",
    "        graph = to_visual(test_graph)\n",
    "    with out2:\n",
    "        display(graph)\n",
    "        \n",
    "button.on_click(read_graph)"
   ]
  },
  {
   "cell_type": "markdown",
   "metadata": {},
   "source": [
    "Este estudio está basado en redes bayesianas y se calcula las probabilidades usando el parametro de Dirichlet escrito normalmente como alpha"
   ]
  },
  {
   "cell_type": "code",
   "execution_count": 80,
   "metadata": {},
   "outputs": [
    {
     "data": {
      "text/html": [
       "\n",
       "        <script>\n",
       "            function code_toggle_3031943348679707597() {\n",
       "                $('div.cell.code_cell.rendered.selected').next().find('div.input').toggle();\n",
       "            }\n",
       "\n",
       "            $('div.cell.code_cell.rendered.selected').find(\"div.input\").hide();\n",
       "        </script>\n",
       "\n",
       "        <a href=\"javascript:code_toggle_3031943348679707597()\">Toggle show/hide next cell</a>\n",
       "    "
      ],
      "text/plain": [
       "<IPython.core.display.HTML object>"
      ]
     },
     "execution_count": 80,
     "metadata": {},
     "output_type": "execute_result"
    }
   ],
   "source": [
    "hide_toggle(True)"
   ]
  },
  {
   "cell_type": "code",
   "execution_count": 81,
   "metadata": {},
   "outputs": [],
   "source": [
    "alpha = 1.0 #SET ALPHA"
   ]
  },
  {
   "cell_type": "markdown",
   "metadata": {},
   "source": [
    "Antes de continuar se realizará un preprocesamiento de los datos. Esto mejora el tiempo de respuesta al calcular las metricas de calidad de "
   ]
  },
  {
   "cell_type": "markdown",
   "metadata": {},
   "source": [
    "A continuación se mostrará los factores de la red bayesiana"
   ]
  },
  {
   "cell_type": "code",
   "execution_count": 82,
   "metadata": {},
   "outputs": [
    {
     "data": {
      "text/html": [
       "\n",
       "        <script>\n",
       "            function code_toggle_604966822520433074() {\n",
       "                $('div.cell.code_cell.rendered.selected').next().find('div.input').toggle();\n",
       "            }\n",
       "\n",
       "            $('div.cell.code_cell.rendered.selected').find(\"div.input\").hide();\n",
       "        </script>\n",
       "\n",
       "        <a href=\"javascript:code_toggle_604966822520433074()\">Toggle show/hide next cell</a>\n",
       "    "
      ],
      "text/plain": [
       "<IPython.core.display.HTML object>"
      ]
     },
     "execution_count": 82,
     "metadata": {},
     "output_type": "execute_result"
    }
   ],
   "source": [
    "hide_toggle(True)"
   ]
  },
  {
   "cell_type": "code",
   "execution_count": 83,
   "metadata": {},
   "outputs": [
    {
     "ename": "AttributeError",
     "evalue": "'NoneType' object has no attribute 'items'",
     "output_type": "error",
     "traceback": [
      "\u001b[0;31m---------------------------------------------------------------------------\u001b[0m",
      "\u001b[0;31mAttributeError\u001b[0m                            Traceback (most recent call last)",
      "\u001b[0;32m<ipython-input-83-10c558c74593>\u001b[0m in \u001b[0;36m<module>\u001b[0;34m\u001b[0m\n\u001b[0;32m----> 1\u001b[0;31m \u001b[0mred\u001b[0m \u001b[0;34m=\u001b[0m \u001b[0mRed_Bayesiana\u001b[0m\u001b[0;34m(\u001b[0m\u001b[0mdf\u001b[0m \u001b[0;34m=\u001b[0m \u001b[0mdf_train\u001b[0m\u001b[0;34m,\u001b[0m \u001b[0mgrafo\u001b[0m \u001b[0;34m=\u001b[0m \u001b[0mtest_graph\u001b[0m\u001b[0;34m,\u001b[0m \u001b[0malpha\u001b[0m\u001b[0;34m=\u001b[0m\u001b[0malpha\u001b[0m \u001b[0;34m)\u001b[0m\u001b[0;34m\u001b[0m\u001b[0;34m\u001b[0m\u001b[0m\n\u001b[0m\u001b[1;32m      2\u001b[0m \u001b[0mred\u001b[0m\u001b[0;34m.\u001b[0m\u001b[0mprintFactores\u001b[0m\u001b[0;34m(\u001b[0m\u001b[0;34m)\u001b[0m\u001b[0;34m\u001b[0m\u001b[0;34m\u001b[0m\u001b[0m\n",
      "\u001b[0;32m<ipython-input-57-241a2e138c72>\u001b[0m in \u001b[0;36m__init__\u001b[0;34m(self, df, grafo, alpha, preprocessor)\u001b[0m\n\u001b[1;32m     21\u001b[0m         \u001b[0mself\u001b[0m\u001b[0;34m.\u001b[0m\u001b[0malpha\u001b[0m \u001b[0;34m=\u001b[0m \u001b[0malpha\u001b[0m\u001b[0;34m\u001b[0m\u001b[0;34m\u001b[0m\u001b[0m\n\u001b[1;32m     22\u001b[0m         \u001b[0mself\u001b[0m\u001b[0;34m.\u001b[0m\u001b[0mestructura\u001b[0m \u001b[0;34m=\u001b[0m \u001b[0mgrafo\u001b[0m\u001b[0;34m\u001b[0m\u001b[0;34m\u001b[0m\u001b[0m\n\u001b[0;32m---> 23\u001b[0;31m         \u001b[0mself\u001b[0m\u001b[0;34m.\u001b[0m\u001b[0mparents\u001b[0m \u001b[0;34m=\u001b[0m \u001b[0mget_parents\u001b[0m\u001b[0;34m(\u001b[0m\u001b[0mself\u001b[0m\u001b[0;34m.\u001b[0m\u001b[0mestructura\u001b[0m\u001b[0;34m)\u001b[0m\u001b[0;34m\u001b[0m\u001b[0;34m\u001b[0m\u001b[0m\n\u001b[0m\u001b[1;32m     24\u001b[0m         \u001b[0mself\u001b[0m\u001b[0;34m.\u001b[0m\u001b[0mfactores\u001b[0m \u001b[0;34m=\u001b[0m \u001b[0mself\u001b[0m\u001b[0;34m.\u001b[0m\u001b[0mgenerate\u001b[0m\u001b[0;34m(\u001b[0m\u001b[0mdf\u001b[0m\u001b[0;34m)\u001b[0m\u001b[0;34m\u001b[0m\u001b[0;34m\u001b[0m\u001b[0m\n\u001b[1;32m     25\u001b[0m         \u001b[0mself\u001b[0m\u001b[0;34m.\u001b[0m\u001b[0mcard\u001b[0m \u001b[0;34m=\u001b[0m \u001b[0mself\u001b[0m\u001b[0;34m.\u001b[0m\u001b[0mget_cards\u001b[0m\u001b[0;34m(\u001b[0m\u001b[0mdf\u001b[0m\u001b[0;34m)\u001b[0m\u001b[0;34m\u001b[0m\u001b[0;34m\u001b[0m\u001b[0m\n",
      "\u001b[0;32m<ipython-input-57-241a2e138c72>\u001b[0m in \u001b[0;36mget_parents\u001b[0;34m(grafo)\u001b[0m\n\u001b[1;32m      3\u001b[0m     \u001b[0mresult\u001b[0m \u001b[0;34m=\u001b[0m \u001b[0;34m{\u001b[0m\u001b[0;34m}\u001b[0m\u001b[0;34m\u001b[0m\u001b[0;34m\u001b[0m\u001b[0m\n\u001b[1;32m      4\u001b[0m \u001b[0;34m\u001b[0m\u001b[0m\n\u001b[0;32m----> 5\u001b[0;31m     \u001b[0;32mfor\u001b[0m \u001b[0mnode\u001b[0m\u001b[0;34m,\u001b[0m \u001b[0mlist_adyacentes\u001b[0m \u001b[0;32min\u001b[0m \u001b[0mgrafo\u001b[0m\u001b[0;34m.\u001b[0m\u001b[0mitems\u001b[0m\u001b[0;34m(\u001b[0m\u001b[0;34m)\u001b[0m\u001b[0;34m:\u001b[0m\u001b[0;34m\u001b[0m\u001b[0;34m\u001b[0m\u001b[0m\n\u001b[0m\u001b[1;32m      6\u001b[0m         \u001b[0;32mif\u001b[0m \u001b[0mnode\u001b[0m \u001b[0;32mnot\u001b[0m \u001b[0;32min\u001b[0m \u001b[0mresult\u001b[0m\u001b[0;34m:\u001b[0m\u001b[0;34m\u001b[0m\u001b[0;34m\u001b[0m\u001b[0m\n\u001b[1;32m      7\u001b[0m             \u001b[0mresult\u001b[0m\u001b[0;34m[\u001b[0m\u001b[0mnode\u001b[0m\u001b[0;34m]\u001b[0m \u001b[0;34m=\u001b[0m \u001b[0mset\u001b[0m\u001b[0;34m(\u001b[0m\u001b[0;34m)\u001b[0m\u001b[0;34m\u001b[0m\u001b[0;34m\u001b[0m\u001b[0m\n",
      "\u001b[0;31mAttributeError\u001b[0m: 'NoneType' object has no attribute 'items'"
     ]
    }
   ],
   "source": [
    "red = Red_Bayesiana(df = df_train, grafo = test_graph, alpha=alpha )\n",
    "red.printFactores()"
   ]
  },
  {
   "cell_type": "markdown",
   "metadata": {},
   "source": [
    "A continuación se muestra el histograma de probabilidades para cada variable."
   ]
  },
  {
   "cell_type": "code",
   "execution_count": null,
   "metadata": {},
   "outputs": [],
   "source": [
    "hide_toggle(True)"
   ]
  },
  {
   "cell_type": "code",
   "execution_count": null,
   "metadata": {},
   "outputs": [],
   "source": [
    "import matplotlib.pyplot as plt\n",
    "def generate_histogram(df):\n",
    "    variables = []\n",
    "    for i in df:\n",
    "        variables.append(i)\n",
    "    var = variables[0]\n",
    "   \n",
    "    x = []\n",
    "    y = []\n",
    "    \n",
    "    for i in df.index:\n",
    "\n",
    "        x.append(str(df[var][i]))\n",
    "        y.append(df['P'][i])\n",
    "    \n",
    "    fig, ax = plt.subplots()\n",
    "    ax.bar(x,y)\n",
    "    plt.show()\n",
    "    \n",
    "for var in df_train:\n",
    "    print(\"Variable \",var)\n",
    "    marginal = estimar_marginal(df_train,var, alpha)\n",
    "    generate_histogram(marginal)"
   ]
  },
  {
   "cell_type": "markdown",
   "metadata": {},
   "source": [
    "Ahora veremos la distribución conjunta de todas las variables del dataset"
   ]
  },
  {
   "cell_type": "code",
   "execution_count": null,
   "metadata": {},
   "outputs": [],
   "source": [
    "hide_toggle(True)"
   ]
  },
  {
   "cell_type": "code",
   "execution_count": null,
   "metadata": {},
   "outputs": [],
   "source": [
    "estimar_conjunta(df_train, ['A','B','C','D','E','F'], alpha=alpha)"
   ]
  },
  {
   "cell_type": "markdown",
   "metadata": {},
   "source": [
    "## Inferencia\n",
    "\n",
    "Hay 2 tipos de consultas de inferencia. La primera es teniendo las variables evidencia y consulta. Mientras que la segunda es cuando las variables evidencia no cubren todas las variables restantes, a las variables que no están en la evidencia y la consulta se les denomina variables aculta.\n",
    "\n",
    "### Inferencia con evidencia y consulta\n",
    "\n",
    "Aqui se calcula la probabilidad de la variable consulta a partir de la evidencia\n",
    "\n",
    "Como ejemplo, sumpongamos que queremos consultar la variable G sabiendo que tenemos como evidencia a:\n",
    "\n",
    "A = 1, B = 1, C = 2, D = 0, E = 1, F = 3\n",
    "\n",
    "Con esta información veamos la probabilidad de G para cada uno de sus valores."
   ]
  },
  {
   "cell_type": "code",
   "execution_count": null,
   "metadata": {},
   "outputs": [],
   "source": [
    "hide_toggle(True)"
   ]
  },
  {
   "cell_type": "code",
   "execution_count": null,
   "metadata": {},
   "outputs": [],
   "source": [
    "inferencia('G',['A','B','C','D','E','F'],[1,1,2,0,1,3], red)"
   ]
  },
  {
   "cell_type": "markdown",
   "metadata": {},
   "source": [
    "Observamos que P(G=0) es el mayor valor por lo que tiene mayor probabilidad de ser correcto."
   ]
  },
  {
   "cell_type": "markdown",
   "metadata": {},
   "source": [
    "### Inferencia con variables ocultas\n",
    "\n",
    "Aqui se calcula la probabilidad de la variable consulta a partir de la evidencia y las variables ocultas\n",
    "\n",
    "Como ejemplo, sumpongamos que queremos consultar la variable G sabiendo que tenemos como evidencia a:\n",
    "\n",
    "A = 1, B = 1, C = 2\n",
    "\n",
    "Entonces las variables ocultas serian:\n",
    "\n",
    "D, E y F.\n"
   ]
  },
  {
   "cell_type": "code",
   "execution_count": null,
   "metadata": {},
   "outputs": [],
   "source": [
    "hide_toggle(True)"
   ]
  },
  {
   "cell_type": "code",
   "execution_count": null,
   "metadata": {},
   "outputs": [],
   "source": [
    "inferencia_con_variables_ocultas('G', ['A','B','C'],[1,1,2], red)"
   ]
  },
  {
   "cell_type": "markdown",
   "metadata": {},
   "source": [
    "En este caso también observamos que P(G=1) aunque con menor intensidad que el caso anterior."
   ]
  },
  {
   "cell_type": "markdown",
   "metadata": {},
   "source": [
    "## Busqueda de la mejor estructura\n",
    "\n",
    "Esta sección tiene como objetivo buscar la estructura (DAG) que mejor se adapte a los datos que tenemos. Esta busqueda se realizará con 2 algoritmos: greedy search y k2 algorithm. Estos algoritmos usan metricas de calidad para comparar 2 estructuras diferentes. A continuación veremos las 4 métricas implementadas.\n",
    "\n",
    "Antes de proceder con las métricas, se realizará un preprocesamiento para mejorar el tiempo de respuesta en el calculo de métricas de calidad, en consecuencia también se mejorará el tiempo de respuesta en los algoritmos de busqueda.\n",
    "\n",
    "\n",
    "\n",
    "\n",
    "### Preprocesamiento\n",
    "\n",
    "Se calcula las probabilidades conjuntas de cada par de variables, tambien las probabilidades marginales para cada variable y las probabilidades condicionales para cada par de variables. Y también vamos a convertir el grafo en una estrucura que es una clase que contiene más funciones como añadir vertices, eliminar vertices, etc.\n"
   ]
  },
  {
   "cell_type": "code",
   "execution_count": null,
   "metadata": {},
   "outputs": [],
   "source": [
    "hide_toggle(True)"
   ]
  },
  {
   "cell_type": "code",
   "execution_count": null,
   "metadata": {},
   "outputs": [],
   "source": [
    "preprocessor = Preprocessor(df=df_train, alpha=alpha)\n",
    "test_graph = Structure(test_graph, preprocessor=preprocessor)"
   ]
  },
  {
   "cell_type": "markdown",
   "metadata": {},
   "source": [
    "### Métrica de entropía"
   ]
  },
  {
   "cell_type": "code",
   "execution_count": null,
   "metadata": {},
   "outputs": [],
   "source": [
    "hide_toggle(True)"
   ]
  },
  {
   "cell_type": "code",
   "execution_count": null,
   "metadata": {},
   "outputs": [],
   "source": [
    "get_entropia(test_graph)"
   ]
  },
  {
   "cell_type": "markdown",
   "metadata": {},
   "source": [
    "### Métrica de akaike"
   ]
  },
  {
   "cell_type": "code",
   "execution_count": null,
   "metadata": {},
   "outputs": [],
   "source": [
    "hide_toggle(True)"
   ]
  },
  {
   "cell_type": "code",
   "execution_count": null,
   "metadata": {},
   "outputs": [],
   "source": [
    "get_akaike(test_graph)"
   ]
  },
  {
   "cell_type": "markdown",
   "metadata": {},
   "source": [
    "### Métrica de MDL"
   ]
  },
  {
   "cell_type": "code",
   "execution_count": null,
   "metadata": {},
   "outputs": [],
   "source": [
    "hide_toggle(True)"
   ]
  },
  {
   "cell_type": "code",
   "execution_count": null,
   "metadata": {},
   "outputs": [],
   "source": [
    "get_mdl(test_graph)"
   ]
  },
  {
   "cell_type": "markdown",
   "metadata": {},
   "source": [
    "### Métrica K2"
   ]
  },
  {
   "cell_type": "code",
   "execution_count": null,
   "metadata": {},
   "outputs": [],
   "source": [
    "get_k2(test_graph)"
   ]
  },
  {
   "cell_type": "markdown",
   "metadata": {},
   "source": [
    " Exploraremos el 25 % del espacio total que es aproximadamente $$(2\\^(42))*0.25$$"
   ]
  },
  {
   "cell_type": "code",
   "execution_count": null,
   "metadata": {},
   "outputs": [],
   "source": [
    "hide_toggle(True)"
   ]
  },
  {
   "cell_type": "code",
   "execution_count": null,
   "metadata": {},
   "outputs": [],
   "source": [
    "def greedy_local_search_modified(initial_solution, score_function, set_operators = [0, 1, 2]):\n",
    "    best_solution = initial_solution\n",
    "    Progress = True\n",
    "    iteraciones = 0\n",
    "    while(Progress):\n",
    "        solution = best_solution\n",
    "        Progress = False\n",
    "        for operator in set_operators:\n",
    "            candidate_solution = copy.deepcopy(solution)\n",
    "            if(operator == 0):\n",
    "                candidate_solution.operator_for_add_edge()\n",
    "            elif(operator == 1):\n",
    "                candidate_solution.operator_for_eliminate_edge()\n",
    "            else:\n",
    "                candidate_solution.operator_for_reverse_edge()\n",
    "            \n",
    "            iteraciones = iteraciones + 1\n",
    "            if (not candidate_solution.is_cyclic()):\n",
    "                if(score_function(candidate_solution) > score_function(best_solution)):\n",
    "                    best_solution = copy.deepcopy(candidate_solution)\n",
    "                    Progress = True\n",
    "    return (best_solution, iteraciones)\n",
    "\n",
    "def greedy_algorithm_search_space(initial_graph, score_function):\n",
    "    N = initial_graph.n_nodes\n",
    "    MAX_ITERACIONES = 2**(N*(N-1)) * 0.25\n",
    "    print(MAX_ITERACIONES)\n",
    "    MAX = 5\n",
    "    graph = copy.deepcopy(initial_graph)\n",
    "    g_id = initial_graph.graph_id\n",
    "    same_id = 0\n",
    "    current_iteration = 0\n",
    "    while(current_iteration < MAX_ITERACIONES):\n",
    "        while(current_iteration < MAX_ITERACIONES and same_id < MAX):\n",
    "            graph, iteraciones = greedy_local_search_modified(graph, score_function, [0, 1, 2])\n",
    "            current_iteration = current_iteration + iteraciones\n",
    "            print(\"*******************\")\n",
    "            print(graph.estructura)\n",
    "            print(current_iteration)\n",
    "            print(\"*******************\")\n",
    "            if(graph.graph_id == g_id):\n",
    "                same_id = same_id + 1\n",
    "            else:\n",
    "                g_id = graph.graph_id\n",
    "                same_id = 0\n",
    "        \n",
    "        if(current_iteration < MAX_ITERACIONES):\n",
    "            new_graph = graph\n",
    "            candidate_graph = copy.deepcopy(new_graph)\n",
    "            cant = 3\n",
    "            op = random.randint(0,2)\n",
    "            if(op == 0):\n",
    "                for i in range(cant):\n",
    "                    candidate_graph.operator_for_add_edge()\n",
    "                    if(not candidate_graph.is_cyclic()):\n",
    "                        new_graph = candidate_graph\n",
    "                    candidate_graph = copy.deepcopy(new_graph)\n",
    "                        \n",
    "            elif(op == 1):\n",
    "                for i in range(cant):\n",
    "                    graph.operator_for_eliminate_edge()\n",
    "                    if(not candidate_graph.is_cyclic()):\n",
    "                        new_graph = candidate_graph\n",
    "                    candidate_graph = copy.deepcopy(new_graph)\n",
    "            else:\n",
    "                for i in range(cant):\n",
    "                    graph.operator_for_reverse_edge()\n",
    "                    if(not candidate_graph.is_cyclic()):\n",
    "                        new_graph = candidate_graph\n",
    "                    candidate_graph = copy.deepcopy(new_graph)\n",
    "            print(\"nuevo grafo\")\n",
    "            print(graph.estructura)\n",
    "            same_id = 0\n",
    "            current_iteration = current_iteration + cant\n",
    "            graph = new_graph\n",
    "\n",
    "            \n",
    "    return current_iteration\n",
    "\n",
    "initial_graph = {'A':[],'B': [], 'C':[], 'D':[],'E':[],'F':[],'G':[]}\n",
    "initial_graph = Structure(initial_graph, preprocessor)\n",
    "\n",
    "greedy_algorithm_search_space(initial_graph, get_akaike)"
   ]
  },
  {
   "cell_type": "markdown",
   "metadata": {},
   "source": [
    "Ahora pongamos en acción los algoritmos de busqueda de la mejo0r estructura\n",
    "\n",
    "### Greedy Search"
   ]
  },
  {
   "cell_type": "code",
   "execution_count": null,
   "metadata": {},
   "outputs": [],
   "source": [
    "hide_toggle(True)"
   ]
  },
  {
   "cell_type": "code",
   "execution_count": null,
   "metadata": {},
   "outputs": [],
   "source": [
    "initial_graph = {'A':[],'B': [], 'C':[], 'D':[],'E':[],'F':[],'G':[]}\n",
    "initial_graph = Structure(initial_graph, preprocessor)\n",
    "\n",
    "nuevo_grafo = greedy_local_search_modified(initial_graph, get_akaike)\n",
    "print(\"La mejor solución es :\")\n",
    "print(nuevo_grafo[0].estructura)\n",
    "print(\"Se generaron: \",nuevo_grafo[1])\n",
    "display(to_visual(nuevo_grafo[0].estructura))"
   ]
  },
  {
   "cell_type": "markdown",
   "metadata": {},
   "source": [
    "### Algoritmo K2"
   ]
  },
  {
   "cell_type": "code",
   "execution_count": null,
   "metadata": {},
   "outputs": [],
   "source": [
    "hide_toggle(True)"
   ]
  },
  {
   "cell_type": "code",
   "execution_count": null,
   "metadata": {},
   "outputs": [],
   "source": [
    "\n",
    "initial_graph = {'A':[],'B': [], 'C':[], 'D':[],'E':[],'F':[],'G':[]}\n",
    "initial_graph = Structure(initial_graph, preprocessor)\n",
    "\n",
    "nuevo_grafo = k2_algorithm(initial_graph, get_akaike, 1)\n",
    "print(\"La mejor solución es :\")\n",
    "print(nuevo_grafo.estructura)\n",
    "display(to_visual(nuevo_grafo.estructura))\n",
    "    "
   ]
  },
  {
   "cell_type": "code",
   "execution_count": null,
   "metadata": {},
   "outputs": [],
   "source": []
  }
 ],
 "metadata": {
  "kernelspec": {
   "display_name": "Python 3",
   "language": "python",
   "name": "python3"
  },
  "language_info": {
   "codemirror_mode": {
    "name": "ipython",
    "version": 3
   },
   "file_extension": ".py",
   "mimetype": "text/x-python",
   "name": "python",
   "nbconvert_exporter": "python",
   "pygments_lexer": "ipython3",
   "version": "3.6.9"
  }
 },
 "nbformat": 4,
 "nbformat_minor": 4
}
