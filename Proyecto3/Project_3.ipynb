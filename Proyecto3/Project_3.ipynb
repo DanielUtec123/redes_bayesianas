{
 "cells": [
  {
   "cell_type": "code",
   "execution_count": 1,
   "metadata": {},
   "outputs": [
    {
     "data": {
      "text/html": [
       "<script>\n",
       "    code_show=true; \n",
       "    function code_toggle() {\n",
       "     if (code_show){\n",
       "     $('div.input').hide();\n",
       "     } else {\n",
       "     $('div.input').show();\n",
       "     }\n",
       "     code_show = !code_show\n",
       "    } \n",
       "    $( document ).ready(code_toggle);\n",
       "    </script>\n",
       "    The raw code for this IPython notebook is by default hidden for easier reading.\n",
       "    To toggle on/off the raw code, click <a href=\"javascript:code_toggle()\">here</a>."
      ],
      "text/plain": [
       "<IPython.core.display.HTML object>"
      ]
     },
     "execution_count": 1,
     "metadata": {},
     "output_type": "execute_result"
    }
   ],
   "source": [
    "from IPython.display import HTML\n",
    "import random\n",
    "\n",
    "def hide_toggle(for_next=False):\n",
    "    this_cell = \"\"\"$('div.cell.code_cell.rendered.selected')\"\"\"\n",
    "    next_cell = this_cell + '.next()'\n",
    "\n",
    "    toggle_text = 'Toggle show/hide'  # text shown on toggle link\n",
    "    target_cell = this_cell  # target cell to control with toggle\n",
    "    js_hide_current = ''  # bit of JS to permanently hide code in current cell (only when toggling next cell)\n",
    "\n",
    "    if for_next:\n",
    "        target_cell = next_cell\n",
    "        toggle_text += ' next cell'\n",
    "        js_hide_current = this_cell + '.find(\"div.input\").hide();'\n",
    "\n",
    "    js_f_name = 'code_toggle_{}'.format(str(random.randint(1,2**64)))\n",
    "\n",
    "    html = \"\"\"\n",
    "        <script>\n",
    "            function {f_name}() {{\n",
    "                {cell_selector}.find('div.input').toggle();\n",
    "            }}\n",
    "\n",
    "            {js_hide_current}\n",
    "        </script>\n",
    "\n",
    "        <a href=\"javascript:{f_name}()\">{toggle_text}</a>\n",
    "    \"\"\".format(\n",
    "        f_name=js_f_name,\n",
    "        cell_selector=target_cell,\n",
    "        js_hide_current=js_hide_current, \n",
    "        toggle_text=toggle_text\n",
    "    )\n",
    "\n",
    "    return HTML(html)\n",
    "\n",
    "def all_cells():    \n",
    "    return HTML('''<script>\n",
    "    code_show=true; \n",
    "    function code_toggle() {\n",
    "     if (code_show){\n",
    "     $('div.input').hide();\n",
    "     } else {\n",
    "     $('div.input').show();\n",
    "     }\n",
    "     code_show = !code_show\n",
    "    } \n",
    "    $( document ).ready(code_toggle);\n",
    "    </script>\n",
    "    The raw code for this IPython notebook is by default hidden for easier reading.\n",
    "    To toggle on/off the raw code, click <a href=\"javascript:code_toggle()\">here</a>.''')\n",
    "\n",
    "# the functions below grabbed from http://www.astroml.org/book_figures/appendix/fig_neural_network.html\n",
    "# our standard imports: matplotlib and numpy\n",
    "import matplotlib.pyplot as plt\n",
    "import numpy as np\n",
    "\n",
    "# just to overwrite default colab style\n",
    "plt.style.use('default')\n",
    "plt.style.use('seaborn-talk')\n",
    "\n",
    "radius = 0.3\n",
    "\n",
    "arrow_kwargs = dict(head_width=0.05, fc='black')\n",
    "\n",
    "def draw_connecting_arrow(ax, circ1, rad1, circ2, rad2):\n",
    "    theta = np.arctan2(circ2[1] - circ1[1],\n",
    "                       circ2[0] - circ1[0])\n",
    "\n",
    "    starting_point = (circ1[0] + rad1 * np.cos(theta),\n",
    "                      circ1[1] + rad1 * np.sin(theta))\n",
    "\n",
    "    length = (circ2[0] - circ1[0] - (rad1 + 1.4 * rad2) * np.cos(theta),\n",
    "              circ2[1] - circ1[1] - (rad1 + 1.4 * rad2) * np.sin(theta))\n",
    "\n",
    "    ax.arrow(starting_point[0], starting_point[1],\n",
    "             length[0], length[1], **arrow_kwargs)\n",
    "\n",
    "\n",
    "def draw_circle(ax, center, radius):\n",
    "    circ = plt.Circle(center, radius, fill=False, lw=2)\n",
    "    ax.add_patch(circ)\n",
    "    \n",
    "# based on borrowed function we can create a new one to draw NN\n",
    "\n",
    "def draw_net(input_size, output_size, hidden_layers=[], w=6, h=4):\n",
    "  \"\"\"Draw a network\"\"\"\n",
    "  x = 0  # initial layer position\n",
    "  \n",
    "  ax = plt.subplot()\n",
    "  ax.set_aspect('equal')\n",
    "  ax.axis('off')\n",
    "\n",
    "  ax.set_xlim([-2, -2 + w])\n",
    "  ax.set_ylim([-h / 2 , h / 2 + 1])\n",
    "  \n",
    "  # set y position  \n",
    "  y_input = np.arange(-(input_size - 1) / 2, (input_size + 1) / 2, 1)\n",
    "  y_output = np.arange(-(output_size - 1) / 2, (output_size + 1) / 2, 1)\n",
    "  y_hidden = [np.arange(-(n - 1) / 2, (n + 1) / 2, 1) for n in hidden_layers]\n",
    "  \n",
    "  # draw input layer\n",
    "  plt.text(x, h / 2 + 0.5, \"Capa\\nEntrada\", ha='center', va='top', fontsize=16)\n",
    "  \n",
    "  for i, y in enumerate(y_input):\n",
    "    draw_circle(ax, (x, y), radius)\n",
    "    ax.text(x - 0.9, y, '$x_%i$' % (input_size - 1 - i),\n",
    "            ha='right', va='center', fontsize=16)\n",
    "    draw_connecting_arrow(ax, (x - 0.9, y), 0.1, (x, y), radius)\n",
    "  \n",
    "  last_layer = y_input  # last layer y positions\n",
    "  \n",
    "  # draw hidden layers\n",
    "  for ys in y_hidden:\n",
    "    # shift x\n",
    "    x += 2\n",
    "    plt.text(x, h / 2 + 0.5, \"Capa\\nOculta\", ha='center', va='top', fontsize=16)\n",
    "    \n",
    "    # draw neurons for each hidden layer\n",
    "    for i, y1 in enumerate(ys):\n",
    "      draw_circle(ax, (x, y1), radius)\n",
    "      \n",
    "      # connect a neuron with all neurons from previous layer\n",
    "      if i != len(ys) - 1: # skip bias\n",
    "        for y2 in last_layer:\n",
    "          draw_connecting_arrow(ax, (x - 2, y2), radius, (x, y1), radius)\n",
    "        \n",
    "    # update last layer\n",
    "    last_layer = ys\n",
    "  \n",
    "  x += 2  # update position for output layer\n",
    "    \n",
    "  # draw output layer\n",
    "  plt.text(x, h / 2 + 0.5, \"Capa\\nSalida\", ha='center', va='top', fontsize=16)\n",
    "\n",
    "  for i, y1 in enumerate(y_output):\n",
    "    draw_circle(ax, (x, y1), radius)\n",
    "    ax.text(x + 0.8, y1, 'Salida', ha='left', va='center', fontsize=16)\n",
    "    draw_connecting_arrow(ax, (x, y1), radius, (x + 0.8, y1), 0.1)\n",
    "\n",
    "    # connect each output neuron with all neurons from previous layer\n",
    "    for y2 in last_layer:\n",
    "      draw_connecting_arrow(ax, (x - 2, y2), radius, (x, y1), radius)\n",
    "\n",
    "all_cells()"
   ]
  },
  {
   "cell_type": "markdown",
   "metadata": {},
   "source": [
    "<a id='inicio'></a>\n",
    "# Proyecto 3: Redes Neuronales\n",
    "\n",
    "## Integrantes: \n",
    "\n",
    "* Daniel Julián Rojas Cruz\n",
    "* Johan Tanta Villanueva\n",
    "\n",
    "En primer lugar, se muestra la clase **NeuronalNetwork**. Para poder mapear las neuronas de la red y su capa de entrada se le asigna un identificador a cada una ellas. De esta forma, a través de diccionarios de python obtendremos en tiempo constante el $bias$, $error$ y la salida($Z$) de cada neurona de la red. Asimismo, para identificar el peso de las aristas se le asigna una tupla como identificador."
   ]
  },
  {
   "cell_type": "code",
   "execution_count": 2,
   "metadata": {},
   "outputs": [
    {
     "data": {
      "text/html": [
       "\n",
       "        <script>\n",
       "            function code_toggle_8105474703772700675() {\n",
       "                $('div.cell.code_cell.rendered.selected').next().find('div.input').toggle();\n",
       "            }\n",
       "\n",
       "            $('div.cell.code_cell.rendered.selected').find(\"div.input\").hide();\n",
       "        </script>\n",
       "\n",
       "        <a href=\"javascript:code_toggle_8105474703772700675()\">Toggle show/hide next cell</a>\n",
       "    "
      ],
      "text/plain": [
       "<IPython.core.display.HTML object>"
      ]
     },
     "execution_count": 2,
     "metadata": {},
     "output_type": "execute_result"
    }
   ],
   "source": [
    "hide_toggle(True)"
   ]
  },
  {
   "cell_type": "code",
   "execution_count": 3,
   "metadata": {},
   "outputs": [],
   "source": [
    "\n",
    "import math, random\n",
    "\n",
    "class NeuralNetwork():\n",
    "    def __init__(self, n_entradas, n_salidas , capas = [] ):\n",
    "        self.n_entradas = n_entradas\n",
    "        self.n_salidas =  n_salidas\n",
    "        self.n_capas = len(capas) + 2 #la capa de entrada + capas ocultas + la capa de salida\n",
    "\n",
    "        self.bias = {}\n",
    "        self.Z = {}\n",
    "        self.error = {}\n",
    "        self.capas = self.generate_capas(capas)\n",
    "        self.W = self.generate_weights() \n",
    "\n",
    "    def generate_capas(self, capas):\n",
    "        result = {}\n",
    "        idx = 1\n",
    "        #capa de entrada, esta sería la capa con indice 0\n",
    "        #Estas como no son neuronas, solo es necesario asignar un ID\n",
    "        result[0] = []\n",
    "        for i in range(self.n_entradas):\n",
    "            result[0].append(idx)\n",
    "            idx += 1\n",
    "        # capas ocultas, estan van desde en el intervalo de indices [1 - n_capas-2]\n",
    "        # Aqui se encuentran las neuronal por lo que hay que mapearlas con un\n",
    "        # identificador\n",
    "        # Los identificadores de cada neurona se agregan en una lista, la cual representa\n",
    "        # la capa que pertenecen\n",
    "        for i in range(len(capas)):\n",
    "            result[i+1] = []\n",
    "            for j in range(capas[i]):\n",
    "                # se genera el bias entre el intervalo [-0.1, 0.1]\n",
    "                self.bias[idx] = random.uniform(-0.1,0.1)\n",
    "                self.Z[idx] = 0\n",
    "                self.error[idx] = 0\n",
    "                result[i+1].append(idx)\n",
    "                idx += 1\n",
    "        #capa final, esta sería la capa con indice n_capas-1\n",
    "        result[self.n_capas - 1] = []\n",
    "        for i in range(self.n_salidas):\n",
    "            # se genera el bias entre el intervalo [-0.1, 0.1]\n",
    "            self.bias[idx] =random.uniform(-0.1,0.1)\n",
    "            self.Z[idx] = 0\n",
    "            self.error[idx] = 0\n",
    "            result[self.n_capas - 1].append(idx)\n",
    "            idx += 1\n",
    "        return result\n",
    "\n",
    "    #genera pesos aleatorios en el intervalo [-1, 1]\n",
    "    def generate_weights(self):\n",
    "        weights = {}\n",
    "\n",
    "        for i in range(self.n_capas - 1):\n",
    "            capa_i = self.capas[i]\n",
    "            capa_ip1 = self.capas[i+1]\n",
    "            #Los pesos de las aristas se le asigna un identificador como tupla\n",
    "            for a in capa_i:\n",
    "                for b in capa_ip1:\n",
    "                    weights[(a,b)] = random.uniform(-1,1)\n",
    "        return weights\n",
    "    \n",
    "    #Se obtiene el resultado de las neuronas que se encuentran en la capa de salida para ello\n",
    "    #nos apoyamos de la funcion level_output la cual de manera recursiva obtiene los resultados de\n",
    "    #las neuronas de la capa anterior.\n",
    "    def fordward_propagation(self, X, Y):\n",
    "        capa_final = self.capas[self.n_capas - 1]\n",
    "        for i in range(len(capa_final)):\n",
    "            p = self.level_output(self.n_capas - 1,capa_final[i],X)\n",
    " \n",
    "            self.error[capa_final[i]] = Y[i] - p\n",
    "        return \n",
    "    \n",
    "    #Para obtener la salida de cada neurona (Z) se realiza de manera recursiva\n",
    "    #El caso base es al encontrarnos en la capa 1, ya que la capa 0 es la capa de entrada\n",
    "    #Por lo que se utiliza las funciones propias de una neurona.\n",
    "    #En caso contrario tendriamos el valor Z_i de las neuronas de la capa anterior \n",
    "    #por lo que directamente se calcula la salida Z_j de la neurona actual con las aristas relacionadas a ella\n",
    "    def level_output(self,capa, neurona_id, X):    \n",
    "        sumatoria = 0\n",
    "        if (capa == 1):\n",
    "            for i in range(len(X)):\n",
    "                sumatoria += X[i]*self.W[(i+1,neurona_id)]  \n",
    "\n",
    "            y_prob = self.__sigmoide(sumatoria)\n",
    "            self.Z[neurona_id] = y_prob\n",
    "            return y_prob\n",
    "        #Las aristas relacionada a la neurona están dadas con el identificador de la neurona actual y \n",
    "        #el ID de las neuronas de la capa anterior\n",
    "        for neurona in self.capas[capa - 1]:\n",
    "            sumatoria += self.level_output(capa - 1, neurona, X)*self.W[(neurona,neurona_id)]\n",
    "\n",
    "        y_prob = self.__sigmoide(sumatoria) + self.bias[neurona_id]\n",
    "        self.Z[neurona_id] = y_prob\n",
    "        return y_prob\n",
    "    #Se asigna el error de cada neurona de manera recursiva con apoyo de la función de abajo\n",
    "    def retro_propagation(self):\n",
    "        capa_inicial = self.capas[1]\n",
    "\n",
    "        for neurona in capa_inicial:\n",
    "            self.level_error(1,neurona)\n",
    "  \n",
    "    #Se asigna el error de cada neurona y se actualiza el bias\n",
    "    #Esta funcion es recursiva, se llama a esta funcion para la capa siguiente.\n",
    "    def level_error(self,capa, neurona_id):\n",
    "        if (capa == self.n_capas - 1):\n",
    "            #Este error fue asignado en forward_propagation\n",
    "            return self.error[neurona_id]\n",
    "\n",
    "        error = 0\n",
    "        for neurona in self.capas[capa + 1]:\n",
    "            error += self.level_error(capa + 1,neurona)*self.W[(neurona_id,neurona)]\n",
    "        self.error[neurona_id] = error\n",
    "        self.bias[neurona_id] += error*self.__gradiente(self.Z[neurona_id])\n",
    "        return error\n",
    "    #Esta funcion realizada la llamada de la funcion de abajo la cual es recursiva y es la encargada\n",
    "    #de actualizar todos los pesos.\n",
    "    #En esta funcion se realiza la llamada inicial con los identificadores de las neuronas de la capa final\n",
    "    def update_weigths(self,X):\n",
    "        capa_final = self.capas[self.n_capas - 1]\n",
    "\n",
    "        for neurona in capa_final:\n",
    "            self.level_update_weight(self.n_capas - 1, neurona,X)  \n",
    "        return\n",
    "    \n",
    "    #Esta funcion es recursiva, la cual actualiza los pesos relacionados a una neurona en la capa i \n",
    "    #con las neuronas en la capa i-1\n",
    "    #El caso base es cuando nos encontramos en la capa 1, ya que la capa 0 es la capa de entrada\n",
    "    def level_update_weight(self, capa , neurona_id, X):\n",
    "        if (capa == 1):\n",
    "            for i in range(len(X)):\n",
    "                self.W[(i+1, neurona_id)] +=   X[i]*self.error[neurona_id]*self.__gradiente(self.Z[neurona_id])  \n",
    "            return\n",
    "\n",
    "        for neurona in self.capas[capa - 1]:\n",
    "            self.level_update_weight(capa - 1,neurona, X)  \n",
    "\n",
    "        for neurona in self.capas[capa - 1]:\n",
    "            self.W[(neurona, neurona_id)] += self.level_output(capa -1, neurona, X)*self.error[neurona_id]*self.__gradiente(self.Z[neurona_id])  \n",
    "\n",
    "    def back_propagation(self,X, Y):\n",
    "        self.fordward_propagation(X,Y)\n",
    "        self.retro_propagation() #Se asigna el error de cada neurona y se actualiza el bias\n",
    "        self.update_weigths(X) #Actualizar los pesos de acuerdo a lo anterior\n",
    "    \n",
    "    #Se obtiene el valor, la cual representa la prediccion de nuestra red neuronal\n",
    "    def predict(self,X):\n",
    "        y_proba = []\n",
    "        capa_final = self.capas[self.n_capas - 1]\n",
    "        #Si hay varias neuronas en la capa final, se obtienen todos los resultados\n",
    "        for n in capa_final:\n",
    "            p = self.level_output(self.n_capas - 1,n,X) + self.bias[n]\n",
    "            y_proba.append(p)\n",
    "\n",
    "        return y_proba  \n",
    "\n",
    "    # Se entrena la red neuronal utilizando el algoritmo back propagation\n",
    "    def fit(self, d_ent, epocas):\n",
    "        for _ in range(epocas):\n",
    "            for reg in d_ent:\n",
    "                X = reg['X']\n",
    "                Y = reg['Y']\n",
    "                self.back_propagation(X,Y)\n",
    "\n",
    "        return\n",
    "    \n",
    "    # Funciones propias de una neurona.\n",
    "    def __sumatoria(self, X):\n",
    "        suma = 0\n",
    "        for i, x in enumerate(X):\n",
    "            suma += self.W[i]*x\n",
    "        return suma\n",
    "\n",
    "    def __sigmoide( self, suma ):\n",
    "        return 1/(1+math.exp(-suma))\n",
    "\n",
    "    def __gradiente(  self, y_proba ):\n",
    "        return y_proba*(1-y_proba)"
   ]
  },
  {
   "cell_type": "markdown",
   "metadata": {},
   "source": [
    "## Explicación de la propuesta\n",
    "### Ejemplo 1:\n",
    "De acuerdo al siguiente dataset: \n",
    "\n",
    "ID | $X_1$ | $X_2$ | $X_3$ | $Y$\n",
    "--- | --- |  --- |  --- |  --- |\n",
    "1 | 0 | 0 | 1 | 1\n",
    "2 | 1 | 0 | 0 | 0\n",
    "3 | 0 | 1 | 0 | 0\n",
    "4 | 1 | 1 | 1 | 1\n",
    "5 | 0 | 1 | 1 | 1\n",
    "\n",
    "Se inicializa la red neuronal con la siguiente arquitectura:"
   ]
  },
  {
   "cell_type": "code",
   "execution_count": 4,
   "metadata": {},
   "outputs": [
    {
     "data": {
      "text/html": [
       "\n",
       "        <script>\n",
       "            function code_toggle_1001938377415412554() {\n",
       "                $('div.cell.code_cell.rendered.selected').next().find('div.input').toggle();\n",
       "            }\n",
       "\n",
       "            $('div.cell.code_cell.rendered.selected').find(\"div.input\").hide();\n",
       "        </script>\n",
       "\n",
       "        <a href=\"javascript:code_toggle_1001938377415412554()\">Toggle show/hide next cell</a>\n",
       "    "
      ],
      "text/plain": [
       "<IPython.core.display.HTML object>"
      ]
     },
     "execution_count": 4,
     "metadata": {},
     "output_type": "execute_result"
    }
   ],
   "source": [
    "hide_toggle(True)"
   ]
  },
  {
   "cell_type": "code",
   "execution_count": 5,
   "metadata": {},
   "outputs": [
    {
     "data": {
      "image/png": "[encoded data removed]",
      "text/plain": [
       "<Figure size 1040x715 with 1 Axes>"
      ]
     },
     "metadata": {},
     "output_type": "display_data"
    }
   ],
   "source": [
    "draw_net(3,1)"
   ]
  },
  {
   "cell_type": "markdown",
   "metadata": {},
   "source": [
    "En la cual se observa que la capa de entrada tiene 3 elementos ($X_1$, $X_2$, $X_3$) y una capa de salida.\n",
    "Por lo que en el constructor de la clase **NeuronaNetwork** se inicializa de la siguiente forma\n",
    "\n",
    "```\n",
    "class NeuralNetwork():\n",
    "    def __init__(self, n_entradas, n_salidas , capas = [] ):\n",
    "        self.n_entradas = n_entradas\n",
    "        self.n_salidas =  n_salidas\n",
    "        self.n_capas = len(capas) + 2 #la capa de entrada + capas ocultas + la capa de salida\n",
    "\n",
    "        self.bias = {}\n",
    "        self.Z = {}\n",
    "        self.error = {}\n",
    "        self.capas = self.generate_capas(capas)\n",
    "        self.W = self.generate_weights() \n",
    "\n",
    "red = NeuralNetwork(3, 1, [])\n",
    "```\n",
    "Al no haber capas ocultas, el tercer argumento es una lista vacía. Por lo que el atributo $n_capas$ está dada conformada por la cantidad de capas ocultas, la capa de entrada y la capa de salida. El siguiente paso es inicializar los diccionarios para poder mapear el valor de $bias$, $error$, salida ($Z$) de cada neurona y, también, los pesos de las aristas.\n",
    "\n",
    "Cada capa está representada como una lista, en cada lista se guarda el identificador(**ID**) de cada neurona o entrada. En el caso de la capa de entrada la cual es el indice cero, solo guarda en esta lista los identificadores necesarios.\n",
    "```\n",
    "    def generate_capas(self, capas):\n",
    "        result = {}\n",
    "        idx = 1\n",
    "        #capa de entrada, esta sería la capa con indice 0\n",
    "        #Estas como no son neuronas, solo es necesario asignar un ID\n",
    "        result[0] = []\n",
    "        for i in range(self.n_entradas):\n",
    "            result[0].append(idx)\n",
    "            idx += 1\n",
    "```\n",
    "A partir de la capa 1, se encuentran las neuronas por lo que en esa lista se guarda el identificador de esa neurona y se inicializa en los diccionarios con el mismo identificador.\n",
    "```\n",
    "        # capas ocultas, estan van desde en el intervalo de indices [1 - n_capas-2]\n",
    "        # Aqui se encuentran las neuronal por lo que hay que mapearlas con un\n",
    "        # identificador\n",
    "        # Los identificadores de cada neurona se agregan en una lista, la cual representa\n",
    "        # la capa que pertenecen\n",
    "        for i in range(len(capas)):\n",
    "            result[i+1] = []\n",
    "            for j in range(capas[i]):\n",
    "                # se genera el bias entre el intervalo [-0.1, 0.1]\n",
    "                self.bias[idx] = random.uniform(-0.1,0.1)\n",
    "                self.Z[idx] = 0\n",
    "                self.error[idx] = 0\n",
    "                result[i+1].append(idx)\n",
    "                idx += 1\n",
    "```\n",
    "Luego de realizar la asignacion de los identificadores de las neuronas de cada capa oculta, se inicializa las neuronas de la capa oculta. \n",
    "```\n",
    "        #capa final, esta sería la capa con indice n_capas-1\n",
    "        result[self.n_capas - 1] = []\n",
    "        for i in range(self.n_salidas):\n",
    "            # se genera el bias entre el intervalo [-0.1, 0.1]\n",
    "            self.bias[idx] =random.uniform(-0.1,0.1)\n",
    "            self.Z[idx] = 0\n",
    "            self.error[idx] = 0\n",
    "            result[self.n_capas - 1].append(idx)\n",
    "            idx += 1\n",
    "        return result\n",
    "```\n",
    "De igual forma con la asignacion de los pesos de las aristas. En este caso el identificador es una tupla la cual indica de donde parte y hacia donde se dirige\n",
    "```\n",
    "def generate_weights(self):\n",
    "        weights = {}\n",
    "\n",
    "        for i in range(self.n_capas - 1):\n",
    "            capa_i = self.capas[i]\n",
    "            capa_ip1 = self.capas[i+1]\n",
    "            #Los pesos de las aristas se le asigna un identificador como tupla\n",
    "            for a in capa_i:\n",
    "                for b in capa_ip1:\n",
    "                    weights[(a,b)] = random.uniform(-1,1)\n",
    "        return weights\n",
    "```\n",
    "Luego de la construccion de la red neuronal se procede a entrenar la red donde se pasa el dataframe y el número de épocas\n",
    "```\n",
    "red.fit(d_ent, 5)\n",
    "```\n",
    "En el entrenamiento se utiliza el algoritmo de back propagation\n",
    "```\n",
    "    def fit(self, d_ent, epocas):\n",
    "        for _ in range(epocas):\n",
    "            for reg in d_ent:\n",
    "                X = reg['X']\n",
    "                Y = reg['Y']\n",
    "                self.back_propagation(X,Y)\n",
    "\n",
    "    def back_propagation(self,X, Y):\n",
    "        self.fordward_propagation(X,Y)\n",
    "        self.retro_propagation() #Se asigna el error de cada neurona y se actualiza el bias\n",
    "        self.update_weigths(X) #Actualizar los pesos de acuerdo a lo anterior\n",
    "```\n",
    "En primer lugar, se realiza la llamada de la funcion **fordward_propagation** la cual se apoya de la funcion **level_output**, esta última obtiene los resultados de las neuronas que se encuentran en la capa final. Pero para ello obtener, de manera recursiva se obtiene los resultados de las neuronas de la capa anterior. Luego de obtener los resultados, se asigna directamente el error que han tenido las neuronas de la capa de salida.\n",
    "```\n",
    "#Se obtiene el resultado de las neuronas que se encuentran en la capa de salida para ello\n",
    "    #nos apoyamos de la funcion level_output la cual de manera recursiva obtiene los resultados de\n",
    "    #las neuronas de la capa anterior.\n",
    "    def fordward_propagation(self, X, Y):\n",
    "        capa_final = self.capas[self.n_capas - 1]\n",
    "        for i in range(len(capa_final)):\n",
    "            p = self.level_output(self.n_capas - 1,capa_final[i],X)\n",
    " \n",
    "            self.error[capa_final[i]] = Y[i] - p\n",
    "        return \n",
    "```\n",
    "Al ser una funcion recursiva, el caso base es cuando nos encontramos en la capa 1 ya que la capa de índice cero representa la capa de entrada. Por lo tanto, se utiliza las funciones propias de una neurona. Asimismo se obtiene el peso de las aristas relacionadas a la neurona actual con el identificador que sería una tupla.\n",
    "```\n",
    "    #Para obtener la salida de cada neurona (Z) se realiza de manera recursiva\n",
    "    #El caso base es al encontrarnos en la capa 1, ya que la capa 0 es la capa de entrada\n",
    "    #Por lo que se utiliza las funciones propias de una neurona.\n",
    "    #En caso contrario tendriamos el valor Z_i de las neuronas de la capa anterior \n",
    "    #por lo que directamente se calcula la salida Z_j de la neurona actual con las aristas relacionadas a ella\n",
    "    def level_output(self,capa, neurona_id, X):    \n",
    "        sumatoria = 0\n",
    "        if (capa == 1):\n",
    "            for i in range(len(X)):\n",
    "                sumatoria += X[i]*self.W[(i+1,neurona_id)]  \n",
    "\n",
    "            y_prob = self.__sigmoide(sumatoria)\n",
    "            self.Z[neurona_id] = y_prob\n",
    "            return y_prob\n",
    "        #Las aristas relacionada a la neurona están dadas con el identificador de la neurona actual y \n",
    "        #el ID de las neuronas de la capa anterior\n",
    "        for neurona in self.capas[capa - 1]:\n",
    "            sumatoria += self.level_output(capa - 1, neurona, X)*self.W[(neurona,neurona_id)]\n",
    "\n",
    "        y_prob = self.__sigmoide(sumatoria) + self.bias[neurona_id]\n",
    "        self.Z[neurona_id] = y_prob\n",
    "        return y_prob\n",
    "```\n",
    "Luego que termine la funcion de **forward_propagtion**, se procede con la función **retro_propagation**. Esta función se encarga de asignar el error que ha tenido cada neurona por lo que se apoya de una funcion recursiva **level_error**.\n",
    "```\n",
    "#Se asigna el error de cada neurona de manera recursiva con apoyo de la función de abajo\n",
    "    def retro_propagation(self):\n",
    "        capa_inicial = self.capas[1]\n",
    "\n",
    "        for neurona in capa_inicial:\n",
    "            self.level_error(1,neurona)\n",
    "```\n",
    "La función **level_error**, realiza llamadas de ellas misma de las capas siguientes por lo que el punto de parada es cuando nos encontramos en la capa de salida. En esta capa todas las neuronas tiene asignadas el error que hayan obtenido. Asimismo, se modifica el $bias$ de cada neurona.\n",
    "```\n",
    "    #Se asigna el error de cada neurona y se actualiza el bias\n",
    "    #Esta funcion es recursiva, se llama a esta funcion para la capa siguiente.\n",
    "    def level_error(self,capa, neurona_id):\n",
    "        if (capa == self.n_capas - 1):\n",
    "            #Este error fue asignado en forward_propagation\n",
    "            return self.error[neurona_id]\n",
    "\n",
    "        error = 0\n",
    "        for neurona in self.capas[capa + 1]:\n",
    "            error += self.level_error(capa + 1,neurona)*self.W[(neurona_id,neurona)]\n",
    "        self.error[neurona_id] = error\n",
    "        self.bias[neurona_id] += error*self.__gradiente(self.Z[neurona_id])\n",
    "        return error\n",
    "```\n",
    "Se realiza la última llamada a la funcion **update_weights** la cual se encarga de actualizar el peso de todas las aristas. Esta se apoya de la funcion **level_update_weight**, la cual es una función recursiva donde su punto de parada es la capa 1.\n",
    "```\n",
    "    #Esta funcion realizada la llamada de la funcion de abajo la cual es recursiva y es la encargada\n",
    "    #de actualizar todos los pesos.\n",
    "    #En esta funcion se realiza la llamada inicial con los identificadores de las neuronas de la capa final\n",
    "    def update_weigths(self,X):\n",
    "        capa_final = self.capas[self.n_capas - 1]\n",
    "\n",
    "        for neurona in capa_final:\n",
    "            self.level_update_weight(self.n_capas - 1, neurona,X)  \n",
    "        return\n",
    "    \n",
    "    #Esta funcion es recursiva, la cual actualiza los pesos relacionados a una neurona en la capa i \n",
    "    #con las neuronas en la capa i-1\n",
    "    #El caso base es cuando nos encontramos en la capa 1, ya que la capa 0 es la capa de entrada\n",
    "    def level_update_weight(self, capa , neurona_id, X):\n",
    "        if (capa == 1):\n",
    "            for i in range(len(X)):\n",
    "                self.W[(i+1, neurona_id)] +=   X[i]*self.error[neurona_id]*self.__gradiente(\n",
    "                                                                                  self.Z[neurona_id])  \n",
    "            return\n",
    "\n",
    "        for neurona in self.capas[capa - 1]:\n",
    "            self.level_update_weight(capa - 1,neurona, X)  \n",
    "\n",
    "        for neurona in self.capas[capa - 1]:\n",
    "            self.W[(neurona, neurona_id)] += self.level_output(capa -1, neurona, \n",
    "                                            X)*self.error[neurona_id]*self.__gradiente(self.Z[neurona_id])  \n",
    "```\n",
    "Finalmente, se realiza la prediccion de nuestra red neuronal con la funcion **predict**\n",
    "```\n",
    "red.predict([1,1,0])\n",
    "```\n",
    "Se le pasa los valores del vector X ($X_1$, $X_2$, $X_3$). Esta funcion retorna los resultados de la capa final, en este caso solo es una neurona por lo que solo hay un valor en la lista. Asimismo, obtener los resultados basta con llamar la funcion **level_output** y agregarle el $bias$ de la neurona.\n",
    "```\n",
    "#Se obtiene el valor, la cual representa la prediccion de nuestra red neuronal\n",
    "    def predict(self,X):\n",
    "        y_proba = []\n",
    "        capa_final = self.capas[self.n_capas - 1]\n",
    "        #Si hay varias neuronas en la capa final, se obtienen todos los resultados\n",
    "        for n in capa_final:\n",
    "            p = self.level_output(self.n_capas - 1,n,X) + self.bias[n]\n",
    "            y_proba.append(p)\n",
    "\n",
    "        return y_proba  \n",
    "```    "
   ]
  },
  {
   "cell_type": "code",
   "execution_count": 6,
   "metadata": {},
   "outputs": [
    {
     "data": {
      "text/html": [
       "\n",
       "        <script>\n",
       "            function code_toggle_71851983756129057() {\n",
       "                $('div.cell.code_cell.rendered.selected').next().find('div.input').toggle();\n",
       "            }\n",
       "\n",
       "            $('div.cell.code_cell.rendered.selected').find(\"div.input\").hide();\n",
       "        </script>\n",
       "\n",
       "        <a href=\"javascript:code_toggle_71851983756129057()\">Toggle show/hide next cell</a>\n",
       "    "
      ],
      "text/plain": [
       "<IPython.core.display.HTML object>"
      ]
     },
     "execution_count": 6,
     "metadata": {},
     "output_type": "execute_result"
    }
   ],
   "source": [
    "hide_toggle(True)"
   ]
  },
  {
   "cell_type": "code",
   "execution_count": 7,
   "metadata": {},
   "outputs": [
    {
     "name": "stdout",
     "output_type": "stream",
     "text": [
      "Valor real de la neurona: 0.64\n",
      "Prediccion : 1\n"
     ]
    }
   ],
   "source": [
    "d_ent = [\n",
    "         {\"X\":[0,0,1], \"Y\":[1]},#ID1\n",
    "         {\"X\":[1,0,0], \"Y\":[0]},#ID2\n",
    "         {\"X\":[0,1,0], \"Y\":[0]},#ID3\n",
    "         {\"X\":[1,1,1], \"Y\":[1]},#ID4\n",
    "         {\"X\":[0,1,1], \"Y\":[1]},#ID5\n",
    "]\n",
    "\n",
    "red_1 = NeuralNetwork(3,1,[])\n",
    "red_1.fit(d_ent,5)\n",
    "p = red_1.predict([1,1,0])\n",
    "print(\"Valor real de la neurona: {:.2f}\".format(p[0]))\n",
    "print(\"Prediccion : {:.0f}\".format(p[0]))"
   ]
  },
  {
   "cell_type": "markdown",
   "metadata": {},
   "source": [
    "## Ejemplo 2\n",
    "\n",
    "De acuerdo al siguiente dataset: \n",
    "\n",
    "ID | $X_1$ | $X_2$ | $Y$|\n",
    "--- | --- |  --- |  --- |\n",
    "1 | 0 | 1 | 1 |\n",
    "2 | 1 | 0 | 1 |\n",
    "3 | 0 | 0 | 0 |\n",
    "4 | 1 | 1 | 0 |\n",
    "5 | 0 | 1 | 1 |\n",
    "\n",
    "Podemos notar que este dataset es el caso del operador XOR, el cual da verdadero(1) solo si exactamente uno de los 2 elementos es verdadero(1). Vamos a entrenar  una red.\n",
    "\n",
    "\n",
    "La primera propuesta será inicializar la red neuronal con la siguiente arquitectura:"
   ]
  },
  {
   "cell_type": "code",
   "execution_count": 8,
   "metadata": {},
   "outputs": [
    {
     "data": {
      "text/html": [
       "\n",
       "        <script>\n",
       "            function code_toggle_2616444582680816583() {\n",
       "                $('div.cell.code_cell.rendered.selected').next().find('div.input').toggle();\n",
       "            }\n",
       "\n",
       "            $('div.cell.code_cell.rendered.selected').find(\"div.input\").hide();\n",
       "        </script>\n",
       "\n",
       "        <a href=\"javascript:code_toggle_2616444582680816583()\">Toggle show/hide next cell</a>\n",
       "    "
      ],
      "text/plain": [
       "<IPython.core.display.HTML object>"
      ]
     },
     "execution_count": 8,
     "metadata": {},
     "output_type": "execute_result"
    }
   ],
   "source": [
    "hide_toggle(True)"
   ]
  },
  {
   "cell_type": "code",
   "execution_count": 9,
   "metadata": {},
   "outputs": [
    {
     "data": {
      "image/png": "[encoded data removed]",
      "text/plain": [
       "<Figure size 1040x715 with 1 Axes>"
      ]
     },
     "metadata": {},
     "output_type": "display_data"
    }
   ],
   "source": [
    "draw_net(2,1)"
   ]
  },
  {
   "cell_type": "markdown",
   "metadata": {},
   "source": [
    "Esta arquitectura tiene 2 entradas y 1 salida. Un problema con esta arquitectura es que no se podrá separar los puntos en 2 grupos mediante una sola recta."
   ]
  },
  {
   "cell_type": "code",
   "execution_count": 10,
   "metadata": {},
   "outputs": [
    {
     "data": {
      "text/html": [
       "\n",
       "        <script>\n",
       "            function code_toggle_4221193005130046412() {\n",
       "                $('div.cell.code_cell.rendered.selected').next().find('div.input').toggle();\n",
       "            }\n",
       "\n",
       "            $('div.cell.code_cell.rendered.selected').find(\"div.input\").hide();\n",
       "        </script>\n",
       "\n",
       "        <a href=\"javascript:code_toggle_4221193005130046412()\">Toggle show/hide next cell</a>\n",
       "    "
      ],
      "text/plain": [
       "<IPython.core.display.HTML object>"
      ]
     },
     "execution_count": 10,
     "metadata": {},
     "output_type": "execute_result"
    }
   ],
   "source": [
    "hide_toggle(True)"
   ]
  },
  {
   "cell_type": "code",
   "execution_count": 11,
   "metadata": {},
   "outputs": [
    {
     "data": {
      "text/plain": [
       "<matplotlib.legend.Legend at 0x7efd72645208>"
      ]
     },
     "execution_count": 11,
     "metadata": {},
     "output_type": "execute_result"
    },
    {
     "data": {
      "image/png": "[encoded data removed]",
      "text/plain": [
       "<Figure size 432x288 with 1 Axes>"
      ]
     },
     "metadata": {
      "needs_background": "light"
     },
     "output_type": "display_data"
    }
   ],
   "source": [
    "import matplotlib.pyplot as plt\n",
    "%matplotlib inline\n",
    "plt.scatter( [0,1,0], [1,0,1], label='Verdadero' )\n",
    "plt.scatter( [0,1], [0,1], label='Falso' )\n",
    "plt.xlabel('X1')\n",
    "plt.ylabel('X2')\n",
    "plt.legend()"
   ]
  },
  {
   "cell_type": "code",
   "execution_count": 12,
   "metadata": {},
   "outputs": [
    {
     "data": {
      "text/html": [
       "\n",
       "        <script>\n",
       "            function code_toggle_1097315589610117137() {\n",
       "                $('div.cell.code_cell.rendered.selected').next().find('div.input').toggle();\n",
       "            }\n",
       "\n",
       "            $('div.cell.code_cell.rendered.selected').find(\"div.input\").hide();\n",
       "        </script>\n",
       "\n",
       "        <a href=\"javascript:code_toggle_1097315589610117137()\">Toggle show/hide next cell</a>\n",
       "    "
      ],
      "text/plain": [
       "<IPython.core.display.HTML object>"
      ]
     },
     "execution_count": 12,
     "metadata": {},
     "output_type": "execute_result"
    }
   ],
   "source": [
    "hide_toggle(True)"
   ]
  },
  {
   "cell_type": "code",
   "execution_count": 13,
   "metadata": {},
   "outputs": [
    {
     "name": "stdout",
     "output_type": "stream",
     "text": [
      "Valor real de la neurona: 0.63\n",
      "Prediccion 1: 1\n",
      "Valor real de la neurona: 0.43\n",
      "Prediccion 2: 0\n"
     ]
    }
   ],
   "source": [
    "d_ent2 = [\n",
    "         {\"X\":[0,1], \"Y\":[1]},#ID1\n",
    "         {\"X\":[1,0], \"Y\":[1]},#ID2\n",
    "         {\"X\":[0,0], \"Y\":[0]},#ID3\n",
    "         {\"X\":[1,1], \"Y\":[0]},#ID4\n",
    "         {\"X\":[0,1], \"Y\":[1]},#ID5\n",
    "]\n",
    "red_2 = NeuralNetwork(2,1,[])\n",
    "red_2.fit(d_ent2,5)\n",
    "p = red_2.predict([1,1])\n",
    "p2 = red_2.predict([1,0])\n",
    "print(\"Valor real de la neurona: {:.2f}\".format(p[0]))\n",
    "print(\"Prediccion 1: {:.0f}\".format(p[0]))\n",
    "\n",
    "print(\"Valor real de la neurona: {:.2f}\".format(p2[0]))\n",
    "print(\"Prediccion 2: {:.0f}\".format(p2[0]))"
   ]
  },
  {
   "cell_type": "markdown",
   "metadata": {},
   "source": [
    "## Ejemplo 3\n",
    "\n",
    "Trabajaremos con el mismo dataset pero esta vez con una capa oculta de 2 neuronas. En teoría con esta arquitectura podriamos dividir el espacio con 2 rectas en grupos de igual valor\n"
   ]
  },
  {
   "cell_type": "code",
   "execution_count": 14,
   "metadata": {},
   "outputs": [
    {
     "data": {
      "text/html": [
       "\n",
       "        <script>\n",
       "            function code_toggle_3263913588331543046() {\n",
       "                $('div.cell.code_cell.rendered.selected').next().find('div.input').toggle();\n",
       "            }\n",
       "\n",
       "            $('div.cell.code_cell.rendered.selected').find(\"div.input\").hide();\n",
       "        </script>\n",
       "\n",
       "        <a href=\"javascript:code_toggle_3263913588331543046()\">Toggle show/hide next cell</a>\n",
       "    "
      ],
      "text/plain": [
       "<IPython.core.display.HTML object>"
      ]
     },
     "execution_count": 14,
     "metadata": {},
     "output_type": "execute_result"
    }
   ],
   "source": [
    "hide_toggle(True)"
   ]
  },
  {
   "cell_type": "code",
   "execution_count": 15,
   "metadata": {
    "scrolled": true
   },
   "outputs": [
    {
     "data": {
      "image/png": "[encoded data removed]",
      "text/plain": [
       "<Figure size 432x288 with 1 Axes>"
      ]
     },
     "metadata": {
      "needs_background": "light"
     },
     "output_type": "display_data"
    }
   ],
   "source": [
    "draw_net(2,1,[2],w=8 ,h=6)"
   ]
  },
  {
   "cell_type": "code",
   "execution_count": 16,
   "metadata": {},
   "outputs": [
    {
     "data": {
      "text/html": [
       "\n",
       "        <script>\n",
       "            function code_toggle_160477681723742316() {\n",
       "                $('div.cell.code_cell.rendered.selected').next().find('div.input').toggle();\n",
       "            }\n",
       "\n",
       "            $('div.cell.code_cell.rendered.selected').find(\"div.input\").hide();\n",
       "        </script>\n",
       "\n",
       "        <a href=\"javascript:code_toggle_160477681723742316()\">Toggle show/hide next cell</a>\n",
       "    "
      ],
      "text/plain": [
       "<IPython.core.display.HTML object>"
      ]
     },
     "execution_count": 16,
     "metadata": {},
     "output_type": "execute_result"
    }
   ],
   "source": [
    "hide_toggle(True)"
   ]
  },
  {
   "cell_type": "code",
   "execution_count": 17,
   "metadata": {},
   "outputs": [
    {
     "name": "stdout",
     "output_type": "stream",
     "text": [
      "Valor real de la neurona: 0.51\n",
      "Prediccion 1: 1\n"
     ]
    }
   ],
   "source": [
    "d_ent2 = [\n",
    "         {\"X\":[0,1], \"Y\":[1]},#ID1\n",
    "         {\"X\":[1,0], \"Y\":[1]},#ID2\n",
    "         {\"X\":[0,0], \"Y\":[0]},#ID3\n",
    "         {\"X\":[1,1], \"Y\":[0]},#ID4\n",
    "         {\"X\":[0,1], \"Y\":[1]},#ID5\n",
    "]\n",
    "red_3 = NeuralNetwork(2,1,[2])\n",
    "red_3.fit(d_ent2,2)\n",
    "p = red_3.predict([1,1])\n",
    "\n",
    "print(\"Valor real de la neurona: {:.2f}\".format(p[0]))\n",
    "print(\"Prediccion 1: {:.0f}\".format(p[0]))\n",
    "\n",
    "\n",
    "\n"
   ]
  },
  {
   "cell_type": "markdown",
   "metadata": {},
   "source": [
    "Predecimos el valor (1,1) con nuestra red y obtenemos el valor esperado"
   ]
  },
  {
   "cell_type": "markdown",
   "metadata": {},
   "source": [
    "### Experimentos\n",
    "Para realizar los experimentos, se extrajo los datos de la siguiente página: https://www.kaggle.com/c/titanic . Es decir, el escenario del experimento es para determinar si una persona con determinadas caracteristicas sobrevive o no si viaja, en ese entonces, en el Titanic. Las caracteristicas que se eligieron fueron las siguientes:\n",
    "- **pclass (Ticket class)**: Para saber en status de la persona de acuerdo a su ticket\n",
    "- **sex**: El sexo de la persona. Incluso, hoy en día, la frase de \"Primero los niños y mujers\" se sigue utilizando\n",
    "- **RangeAge**: El rango de edad está dado para niños, jóvenes, adultos y ancianos. Previamente, se tuvo que parsear el dataframe para eliminar las filas donde el valor de la columna **Age** es nulo. Luego se asigno en una nueva columna el rango de edad.\n",
    "- **sibsp**: # de hermanas / cónyuges a bordo del Titanic\n",
    "- **parch**: # de padres / hijos a bordo del Titanic\n",
    "\n",
    "Luego de identificar las variables y haber realizado un parser al dataframe titanic.csv, se realiza a leer dataframe de entrenamiento y de prueba. Asimismo, estos dataframes se transforman a datos numeros para que la red neuronal pueda leer."
   ]
  },
  {
   "cell_type": "code",
   "execution_count": 18,
   "metadata": {},
   "outputs": [
    {
     "data": {
      "text/html": [
       "\n",
       "        <script>\n",
       "            function code_toggle_2146811084184317490() {\n",
       "                $('div.cell.code_cell.rendered.selected').next().find('div.input').toggle();\n",
       "            }\n",
       "\n",
       "            $('div.cell.code_cell.rendered.selected').find(\"div.input\").hide();\n",
       "        </script>\n",
       "\n",
       "        <a href=\"javascript:code_toggle_2146811084184317490()\">Toggle show/hide next cell</a>\n",
       "    "
      ],
      "text/plain": [
       "<IPython.core.display.HTML object>"
      ]
     },
     "execution_count": 18,
     "metadata": {},
     "output_type": "execute_result"
    }
   ],
   "source": [
    "hide_toggle(True)"
   ]
  },
  {
   "cell_type": "code",
   "execution_count": 19,
   "metadata": {},
   "outputs": [],
   "source": [
    "import pandas as pd\n",
    "import sklearn\n",
    "from sklearn.preprocessing import LabelEncoder \n",
    "train = pd.read_csv(\"train.csv\")\n",
    "test = pd.read_csv(\"test.csv\")\n",
    "train_parser = train.apply( LabelEncoder().fit_transform )\n",
    "test_parser = test.apply( LabelEncoder().fit_transform )\n",
    "df_train = []\n",
    "for i in range(len(train_parser.index)):\n",
    "    elem = {}\n",
    "    elem['Y'] = train_parser.iloc[i].tolist()\n",
    "    elem['X'] = train_parser.iloc[i].tolist()[1:]\n",
    "    df_train.append(elem)"
   ]
  },
  {
   "cell_type": "markdown",
   "metadata": {},
   "source": [
    "Se definen las siguientes arquitecturas:"
   ]
  },
  {
   "cell_type": "code",
   "execution_count": 20,
   "metadata": {},
   "outputs": [
    {
     "data": {
      "text/html": [
       "\n",
       "        <script>\n",
       "            function code_toggle_9370229932963476076() {\n",
       "                $('div.cell.code_cell.rendered.selected').next().find('div.input').toggle();\n",
       "            }\n",
       "\n",
       "            $('div.cell.code_cell.rendered.selected').find(\"div.input\").hide();\n",
       "        </script>\n",
       "\n",
       "        <a href=\"javascript:code_toggle_9370229932963476076()\">Toggle show/hide next cell</a>\n",
       "    "
      ],
      "text/plain": [
       "<IPython.core.display.HTML object>"
      ]
     },
     "execution_count": 20,
     "metadata": {},
     "output_type": "execute_result"
    }
   ],
   "source": [
    "hide_toggle(True)"
   ]
  },
  {
   "cell_type": "code",
   "execution_count": 21,
   "metadata": {},
   "outputs": [
    {
     "data": {
      "image/png": "[encoded data removed]",
      "text/plain": [
       "<Figure size 432x288 with 1 Axes>"
      ]
     },
     "metadata": {
      "needs_background": "light"
     },
     "output_type": "display_data"
    }
   ],
   "source": [
    "draw_net(5,1, w=10, h=6)\n",
    "red_titanic1 = NeuralNetwork(5,1,[])"
   ]
  },
  {
   "cell_type": "code",
   "execution_count": 22,
   "metadata": {},
   "outputs": [
    {
     "data": {
      "text/html": [
       "\n",
       "        <script>\n",
       "            function code_toggle_12629881667631530744() {\n",
       "                $('div.cell.code_cell.rendered.selected').next().find('div.input').toggle();\n",
       "            }\n",
       "\n",
       "            $('div.cell.code_cell.rendered.selected').find(\"div.input\").hide();\n",
       "        </script>\n",
       "\n",
       "        <a href=\"javascript:code_toggle_12629881667631530744()\">Toggle show/hide next cell</a>\n",
       "    "
      ],
      "text/plain": [
       "<IPython.core.display.HTML object>"
      ]
     },
     "execution_count": 22,
     "metadata": {},
     "output_type": "execute_result"
    }
   ],
   "source": [
    "hide_toggle(True)"
   ]
  },
  {
   "cell_type": "code",
   "execution_count": 23,
   "metadata": {},
   "outputs": [
    {
     "data": {
      "image/png": "[encoded data removed]",
      "text/plain": [
       "<Figure size 432x288 with 1 Axes>"
      ]
     },
     "metadata": {
      "needs_background": "light"
     },
     "output_type": "display_data"
    }
   ],
   "source": [
    "draw_net(5,1,[3], w=10, h=6)\n",
    "red_titanic2 = NeuralNetwork(5,1,[3])"
   ]
  },
  {
   "cell_type": "code",
   "execution_count": 24,
   "metadata": {},
   "outputs": [
    {
     "data": {
      "text/html": [
       "\n",
       "        <script>\n",
       "            function code_toggle_10310567241254910546() {\n",
       "                $('div.cell.code_cell.rendered.selected').next().find('div.input').toggle();\n",
       "            }\n",
       "\n",
       "            $('div.cell.code_cell.rendered.selected').find(\"div.input\").hide();\n",
       "        </script>\n",
       "\n",
       "        <a href=\"javascript:code_toggle_10310567241254910546()\">Toggle show/hide next cell</a>\n",
       "    "
      ],
      "text/plain": [
       "<IPython.core.display.HTML object>"
      ]
     },
     "execution_count": 24,
     "metadata": {},
     "output_type": "execute_result"
    }
   ],
   "source": [
    "hide_toggle(True)"
   ]
  },
  {
   "cell_type": "code",
   "execution_count": 25,
   "metadata": {},
   "outputs": [
    {
     "data": {
      "image/png": "[encoded data removed]",
      "text/plain": [
       "<Figure size 432x288 with 1 Axes>"
      ]
     },
     "metadata": {
      "needs_background": "light"
     },
     "output_type": "display_data"
    }
   ],
   "source": [
    "draw_net(5,1,[5], w=10, h=6)\n",
    "red_titanic3 = NeuralNetwork(5,1,[5])"
   ]
  },
  {
   "cell_type": "markdown",
   "metadata": {},
   "source": [
    "Se empieza el entrenamiento de cada red neuronal"
   ]
  },
  {
   "cell_type": "code",
   "execution_count": 26,
   "metadata": {},
   "outputs": [
    {
     "data": {
      "text/html": [
       "\n",
       "        <script>\n",
       "            function code_toggle_8659175296335352872() {\n",
       "                $('div.cell.code_cell.rendered.selected').next().find('div.input').toggle();\n",
       "            }\n",
       "\n",
       "            $('div.cell.code_cell.rendered.selected').find(\"div.input\").hide();\n",
       "        </script>\n",
       "\n",
       "        <a href=\"javascript:code_toggle_8659175296335352872()\">Toggle show/hide next cell</a>\n",
       "    "
      ],
      "text/plain": [
       "<IPython.core.display.HTML object>"
      ]
     },
     "execution_count": 26,
     "metadata": {},
     "output_type": "execute_result"
    }
   ],
   "source": [
    "hide_toggle(True)"
   ]
  },
  {
   "cell_type": "code",
   "execution_count": 27,
   "metadata": {},
   "outputs": [],
   "source": [
    "red_titanic1.fit(df_train, 2)\n",
    "red_titanic2.fit(df_train, 2)\n",
    "red_titanic3.fit(df_train, 4)"
   ]
  },
  {
   "cell_type": "markdown",
   "metadata": {},
   "source": [
    "Luego de entrenar las redes neuronales, con ayuda de un dataframe de prueba generamos las matrices de confusion."
   ]
  },
  {
   "cell_type": "code",
   "execution_count": 28,
   "metadata": {},
   "outputs": [
    {
     "data": {
      "text/html": [
       "\n",
       "        <script>\n",
       "            function code_toggle_18025701012740369250() {\n",
       "                $('div.cell.code_cell.rendered.selected').next().find('div.input').toggle();\n",
       "            }\n",
       "\n",
       "            $('div.cell.code_cell.rendered.selected').find(\"div.input\").hide();\n",
       "        </script>\n",
       "\n",
       "        <a href=\"javascript:code_toggle_18025701012740369250()\">Toggle show/hide next cell</a>\n",
       "    "
      ],
      "text/plain": [
       "<IPython.core.display.HTML object>"
      ]
     },
     "execution_count": 28,
     "metadata": {},
     "output_type": "execute_result"
    }
   ],
   "source": [
    "hide_toggle(1)"
   ]
  },
  {
   "cell_type": "code",
   "execution_count": 29,
   "metadata": {},
   "outputs": [],
   "source": [
    "def construir_matriz_confusion( y_real, y_modelo, n_clases ):\n",
    "    matriz = [ [0]*n_clases for _ in range(n_clases) ]\n",
    "    M = len(y_real)\n",
    "    for m in range(M):\n",
    "        clase_real = y_real[m]\n",
    "        clase_predecida = y_modelo[m]\n",
    "        matriz[ clase_predecida ][ clase_real ] += 1\n",
    "    return matriz\n",
    "\n",
    "\n",
    "y_real = test_parser[\"Survived\"].tolist()\n",
    "y1 = []\n",
    "y2 = []\n",
    "y3 = []\n",
    "for i in range(len(y_real)):\n",
    "    X = test_parser.iloc[i].tolist()[1:]\n",
    "    valor1 = red_titanic1.predict(X)\n",
    "    valor2 = red_titanic2.predict(X)\n",
    "    valor3 = red_titanic3.predict(X)\n",
    "    y1.append(round(valor1[0]))\n",
    "    y2.append(round(valor2[0]))\n",
    "    y3.append(round(valor3[0]))"
   ]
  },
  {
   "cell_type": "code",
   "execution_count": 30,
   "metadata": {},
   "outputs": [
    {
     "data": {
      "text/html": [
       "\n",
       "        <script>\n",
       "            function code_toggle_8363955751746686497() {\n",
       "                $('div.cell.code_cell.rendered.selected').next().find('div.input').toggle();\n",
       "            }\n",
       "\n",
       "            $('div.cell.code_cell.rendered.selected').find(\"div.input\").hide();\n",
       "        </script>\n",
       "\n",
       "        <a href=\"javascript:code_toggle_8363955751746686497()\">Toggle show/hide next cell</a>\n",
       "    "
      ],
      "text/plain": [
       "<IPython.core.display.HTML object>"
      ]
     },
     "execution_count": 30,
     "metadata": {},
     "output_type": "execute_result"
    }
   ],
   "source": [
    "hide_toggle(1)"
   ]
  },
  {
   "cell_type": "code",
   "execution_count": 31,
   "metadata": {},
   "outputs": [
    {
     "name": "stdout",
     "output_type": "stream",
     "text": [
      "Matriz de confusion de la Red N° 1\n",
      "[96, 37]\n",
      "[12, 34]\n",
      "Matriz de confusion de la Red N° 2\n",
      "[100, 41]\n",
      "[8, 30]\n",
      "Matriz de confusion de la Red N° 3\n",
      "[104, 39]\n",
      "[4, 32]\n"
     ]
    }
   ],
   "source": [
    "m_confusion1 = construir_matriz_confusion(y_real, y1, 2)\n",
    "m_confusion2 = construir_matriz_confusion(y_real, y2, 2)\n",
    "m_confusion3 = construir_matriz_confusion(y_real, y3, 2)\n",
    "print(\"Matriz de confusion de la Red N° 1\")\n",
    "for fila in m_confusion1:\n",
    "    print(fila)\n",
    "print(\"Matriz de confusion de la Red N° 2\")\n",
    "for fila in m_confusion2:\n",
    "    print(fila)\n",
    "print(\"Matriz de confusion de la Red N° 3\")\n",
    "for fila in m_confusion3:\n",
    "    print(fila)"
   ]
  },
  {
   "cell_type": "markdown",
   "metadata": {},
   "source": [
    "La cual con las metricas, observaremos cual red neuronal ha predicho mejor que las otras. Asimismo el tamaño de la matriz de confusion es 2x2 y nuestra clase de interes es haber determinado si la persona sobrevive, la cual está dado por el valor **1**. Entonces, el valor de **verdadero positivo** se encuentra en la posicion (1,1) de la matriz "
   ]
  },
  {
   "cell_type": "code",
   "execution_count": 32,
   "metadata": {},
   "outputs": [
    {
     "data": {
      "text/html": [
       "\n",
       "        <script>\n",
       "            function code_toggle_14067610235377158191() {\n",
       "                $('div.cell.code_cell.rendered.selected').next().find('div.input').toggle();\n",
       "            }\n",
       "\n",
       "            $('div.cell.code_cell.rendered.selected').find(\"div.input\").hide();\n",
       "        </script>\n",
       "\n",
       "        <a href=\"javascript:code_toggle_14067610235377158191()\">Toggle show/hide next cell</a>\n",
       "    "
      ],
      "text/plain": [
       "<IPython.core.display.HTML object>"
      ]
     },
     "execution_count": 32,
     "metadata": {},
     "output_type": "execute_result"
    }
   ],
   "source": [
    "hide_toggle(1)"
   ]
  },
  {
   "cell_type": "code",
   "execution_count": 33,
   "metadata": {},
   "outputs": [],
   "source": [
    "def accuracy_n(matriz_confusion):\n",
    "  # nro de clases \n",
    "  n_clases = len(matriz_confusion)\n",
    "  true_cases  = 0\n",
    "  for i in range(n_clases):\n",
    "    true_cases += matriz_confusion[i][i]\n",
    "  total_cases = 0\n",
    "  for fila in matriz_confusion:\n",
    "    total_cases += sum(fila)\n",
    "  return true_cases/total_cases\n",
    "\n",
    "def precision_n(matriz_confusion):\n",
    "  n_clases = len(matriz_confusion)\n",
    "  precision_list = []\n",
    "  for i in range(n_clases):\n",
    "    tp = matriz_confusion[i][i]\n",
    "    suma = sum(matriz_confusion[i])\n",
    "    if(suma == 0):\n",
    "      precision_i = 0\n",
    "    else:\n",
    "      precision_i = tp/suma\n",
    "    precision_list.append(precision_i)\n",
    "  return precision_list\n",
    "\n",
    "def recall_n(matriz_confusion):\n",
    "  n_clases = len(matriz_confusion)\n",
    "  recall_list = []\n",
    "  for i in range(n_clases):\n",
    "    tp = matriz_confusion[i][i]\n",
    "    total = 0\n",
    "    for j in range(n_clases):\n",
    "      total += matriz_confusion[j][i]\n",
    "    if(total == 0):\n",
    "      recall_i = 0\n",
    "    else:\n",
    "      recall_i = tp/total\n",
    "    recall_list.append(recall_i)\n",
    "  return recall_list\n",
    "  \n",
    "\n",
    "def f1_n(matriz_confusion):\n",
    "  prec_n = precision_n(matriz_confusion)\n",
    "  rec_n = recall_n(matriz_confusion)\n",
    "  list_f1 = []\n",
    "  assert len(prec_n) == len(rec_n), \"invalido\"\n",
    "  n_clases = len(prec_n)\n",
    "  for i in range(n_clases):\n",
    "    if(prec_n[i] + rec_n[i] == 0):\n",
    "      f1_i = 0\n",
    "    else:\n",
    "      f1_i = 2 *prec_n[i]*rec_n[i]/(prec_n[i]+rec_n[i])\n",
    "    list_f1.append(f1_i)\n",
    "  return list_f1\n",
    "\n",
    "def macro_precision(matriz_confusion):\n",
    "  n_clases  = len(matriz_confusion)\n",
    "  prec_n = precision_n(matriz_confusion)\n",
    "  \n",
    "  suma = 0\n",
    "  for i in range(n_clases):\n",
    "    suma += prec_n[i]\n",
    "  return suma/n_clases\n",
    "\n",
    "def macro_recall(matriz_confusion):\n",
    "  n_clases  = len(matriz_confusion)\n",
    "  rec_n = recall_n(matriz_confusion)\n",
    "  \n",
    "  suma = 0\n",
    "  for i in range(n_clases):\n",
    "    suma += rec_n[i]\n",
    "  return suma/n_clases\n",
    "\n",
    "def macro_f1(matriz_confusion):\n",
    "  n_clases = len(matriz_confusion)\n",
    "  f_n = f1_n(matriz_confusion)\n",
    "  suma = 0\n",
    "  for i in range(n_clases):\n",
    "    suma += f_n[i]\n",
    "  return suma/n_clases"
   ]
  },
  {
   "cell_type": "code",
   "execution_count": 34,
   "metadata": {},
   "outputs": [
    {
     "data": {
      "text/html": [
       "\n",
       "        <script>\n",
       "            function code_toggle_2132374066942720266() {\n",
       "                $('div.cell.code_cell.rendered.selected').next().find('div.input').toggle();\n",
       "            }\n",
       "\n",
       "            $('div.cell.code_cell.rendered.selected').find(\"div.input\").hide();\n",
       "        </script>\n",
       "\n",
       "        <a href=\"javascript:code_toggle_2132374066942720266()\">Toggle show/hide next cell</a>\n",
       "    "
      ],
      "text/plain": [
       "<IPython.core.display.HTML object>"
      ]
     },
     "execution_count": 34,
     "metadata": {},
     "output_type": "execute_result"
    }
   ],
   "source": [
    "hide_toggle(1)"
   ]
  },
  {
   "cell_type": "code",
   "execution_count": 35,
   "metadata": {},
   "outputs": [
    {
     "name": "stdout",
     "output_type": "stream",
     "text": [
      "Metrica accuracy para Red 1:  72.62569832402235\n",
      "Metrica Recall para Red 1:  47.88732394366197\n",
      "Metrica Precision para Red 1:  73.91304347826086\n",
      "Metrica f1 para Red 1:  58.11965811965811\n"
     ]
    }
   ],
   "source": [
    "print(\"Metrica accuracy para Red 1: \", accuracy_n(m_confusion1)*100)\n",
    "print(\"Metrica Recall para Red 1: \", recall_n(m_confusion1)[1]*100)\n",
    "print(\"Metrica Precision para Red 1: \", precision_n(m_confusion1)[1]*100)\n",
    "print(\"Metrica f1 para Red 1: \", f1_n(m_confusion1)[1]*100)"
   ]
  },
  {
   "cell_type": "code",
   "execution_count": 36,
   "metadata": {},
   "outputs": [
    {
     "data": {
      "text/html": [
       "\n",
       "        <script>\n",
       "            function code_toggle_2751686027154476475() {\n",
       "                $('div.cell.code_cell.rendered.selected').next().find('div.input').toggle();\n",
       "            }\n",
       "\n",
       "            $('div.cell.code_cell.rendered.selected').find(\"div.input\").hide();\n",
       "        </script>\n",
       "\n",
       "        <a href=\"javascript:code_toggle_2751686027154476475()\">Toggle show/hide next cell</a>\n",
       "    "
      ],
      "text/plain": [
       "<IPython.core.display.HTML object>"
      ]
     },
     "execution_count": 36,
     "metadata": {},
     "output_type": "execute_result"
    }
   ],
   "source": [
    "hide_toggle(1)"
   ]
  },
  {
   "cell_type": "code",
   "execution_count": 37,
   "metadata": {},
   "outputs": [
    {
     "name": "stdout",
     "output_type": "stream",
     "text": [
      "Metrica accuracy para Red 2:  72.62569832402235\n",
      "Metrica Recall para Red 2:  42.25352112676056\n",
      "Metrica Precision para Red 2:  78.94736842105263\n",
      "Metrica f1 para Red 2:  55.04587155963302\n"
     ]
    }
   ],
   "source": [
    "print(\"Metrica accuracy para Red 2: \", accuracy_n(m_confusion2)*100)\n",
    "print(\"Metrica Recall para Red 2: \", recall_n(m_confusion2)[1]*100)\n",
    "print(\"Metrica Precision para Red 2: \", precision_n(m_confusion2)[1]*100)\n",
    "print(\"Metrica f1 para Red 2: \", f1_n(m_confusion2)[1]*100)"
   ]
  },
  {
   "cell_type": "code",
   "execution_count": 38,
   "metadata": {},
   "outputs": [
    {
     "data": {
      "text/html": [
       "\n",
       "        <script>\n",
       "            function code_toggle_8915575980515242556() {\n",
       "                $('div.cell.code_cell.rendered.selected').next().find('div.input').toggle();\n",
       "            }\n",
       "\n",
       "            $('div.cell.code_cell.rendered.selected').find(\"div.input\").hide();\n",
       "        </script>\n",
       "\n",
       "        <a href=\"javascript:code_toggle_8915575980515242556()\">Toggle show/hide next cell</a>\n",
       "    "
      ],
      "text/plain": [
       "<IPython.core.display.HTML object>"
      ]
     },
     "execution_count": 38,
     "metadata": {},
     "output_type": "execute_result"
    }
   ],
   "source": [
    "hide_toggle(1)"
   ]
  },
  {
   "cell_type": "code",
   "execution_count": 39,
   "metadata": {},
   "outputs": [
    {
     "name": "stdout",
     "output_type": "stream",
     "text": [
      "Metrica accuracy para Red 3:  75.97765363128491\n",
      "Metrica Recall para Red 3:  45.07042253521127\n",
      "Metrica Precision para Red 3:  88.88888888888889\n",
      "Metrica f1 para Red 3:  59.813084112149525\n"
     ]
    }
   ],
   "source": [
    "print(\"Metrica accuracy para Red 3: \", accuracy_n(m_confusion3)*100)\n",
    "print(\"Metrica Recall para Red 3: \", recall_n(m_confusion3)[1]*100)\n",
    "print(\"Metrica Precision para Red 3: \", precision_n(m_confusion3)[1]*100)\n",
    "print(\"Metrica f1 para Red 3: \", f1_n(m_confusion3)[1]*100)"
   ]
  },
  {
   "cell_type": "markdown",
   "metadata": {},
   "source": [
    "## Conclusiones\n",
    "- Al haber pocas neuronas, como en la primera arquitectura se observa que las métricas de calidad son bajas por lo que al tener pocas neuronas, la prediccion de la red es bajo.\n",
    "- Se observa que a mayor cantidad de neuronas como en la arquitectura 2 y 3, hay una mayor eficiencia en la prediccion, es decir, es posible predecir con una tasa relativamente alta si una persona sobrevive o no si encuentra en el titanic. \n",
    "\n",
    "## Limitante\n",
    "- No se pudo colocar mas capas ocultas porque ocasionaba overflow, es decir, se activaba la excepcion de \"math range error\""
   ]
  }
 ],
 "metadata": {
  "kernelspec": {
   "display_name": "Python 3",
   "language": "python",
   "name": "python3"
  },
  "language_info": {
   "codemirror_mode": {
    "name": "ipython",
    "version": 3
   },
   "file_extension": ".py",
   "mimetype": "text/x-python",
   "name": "python",
   "nbconvert_exporter": "python",
   "pygments_lexer": "ipython3",
   "version": "3.6.9"
  }
 },
 "nbformat": 4,
 "nbformat_minor": 4
}
