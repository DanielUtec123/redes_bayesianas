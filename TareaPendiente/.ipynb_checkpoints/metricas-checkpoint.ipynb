{
 "cells": [
  {
   "cell_type": "code",
   "execution_count": 5,
   "metadata": {},
   "outputs": [
    {
     "data": {
      "text/html": [
       "\n",
       "        <script>\n",
       "            function code_toggle_1327543765556077276() {\n",
       "                $('div.cell.code_cell.rendered.selected').find('div.input').toggle();\n",
       "            }\n",
       "\n",
       "            \n",
       "        </script>\n",
       "\n",
       "        <a href=\"javascript:code_toggle_1327543765556077276()\">Toggle show/hide</a>\n",
       "    "
      ],
      "text/plain": [
       "<IPython.core.display.HTML object>"
      ]
     },
     "execution_count": 5,
     "metadata": {},
     "output_type": "execute_result"
    }
   ],
   "source": [
    "from IPython.display import HTML\n",
    "import random\n",
    "\n",
    "def hide_toggle(for_next=False):\n",
    "    this_cell = \"\"\"$('div.cell.code_cell.rendered.selected')\"\"\"\n",
    "    next_cell = this_cell + '.next()'\n",
    "\n",
    "    toggle_text = 'Toggle show/hide'  # text shown on toggle link\n",
    "    target_cell = this_cell  # target cell to control with toggle\n",
    "    js_hide_current = ''  # bit of JS to permanently hide code in current cell (only when toggling next cell)\n",
    "\n",
    "    if for_next:\n",
    "        target_cell = next_cell\n",
    "        toggle_text += ' next cell'\n",
    "        js_hide_current = this_cell + '.find(\"div.input\").hide();'\n",
    "\n",
    "    js_f_name = 'code_toggle_{}'.format(str(random.randint(1,2**64)))\n",
    "\n",
    "    html = \"\"\"\n",
    "        <script>\n",
    "            function {f_name}() {{\n",
    "                {cell_selector}.find('div.input').toggle();\n",
    "            }}\n",
    "\n",
    "            {js_hide_current}\n",
    "        </script>\n",
    "\n",
    "        <a href=\"javascript:{f_name}()\">{toggle_text}</a>\n",
    "    \"\"\".format(\n",
    "        f_name=js_f_name,\n",
    "        cell_selector=target_cell,\n",
    "        js_hide_current=js_hide_current, \n",
    "        toggle_text=toggle_text\n",
    "    )\n",
    "\n",
    "    return HTML(html)\n",
    "hide_toggle()"
   ]
  },
  {
   "cell_type": "markdown",
   "metadata": {},
   "source": [
    "Integrantes: \n",
    "\n",
    "* Daniel Julián Rojas Cruz\n",
    "* Johan Tanta Villanueva\n",
    "\n",
    "# Redes Bayesianas - Inteligencia Artificial\n",
    "\n",
    "\n",
    "Se presenta la implementación de la función count que retorna el número de filas que satisfacen las igualdades\n"
   ]
  },
  {
   "cell_type": "code",
   "execution_count": 6,
   "metadata": {},
   "outputs": [
    {
     "data": {
      "text/html": [
       "\n",
       "        <script>\n",
       "            function code_toggle_12356870151112300552() {\n",
       "                $('div.cell.code_cell.rendered.selected').next().find('div.input').toggle();\n",
       "            }\n",
       "\n",
       "            $('div.cell.code_cell.rendered.selected').find(\"div.input\").hide();\n",
       "        </script>\n",
       "\n",
       "        <a href=\"javascript:code_toggle_12356870151112300552()\">Toggle show/hide next cell</a>\n",
       "    "
      ],
      "text/plain": [
       "<IPython.core.display.HTML object>"
      ]
     },
     "execution_count": 6,
     "metadata": {},
     "output_type": "execute_result"
    }
   ],
   "source": [
    "hide_toggle(True)"
   ]
  },
  {
   "cell_type": "code",
   "execution_count": 7,
   "metadata": {},
   "outputs": [],
   "source": [
    "import pandas as pd\n",
    "import numpy as np\n",
    "import math\n",
    "import random \n",
    "import copy\n",
    "\n",
    "\n",
    "def count(dataframe, index_list, values_list):\n",
    "    resultado = dataframe\n",
    "    for i in range(len(index_list)):\n",
    "        index = index_list[i]\n",
    "        value = values_list[i]\n",
    "\n",
    "    #filtrar la columna \n",
    "        resultado = resultado[resultado[index] == value]\n",
    "    c =resultado.shape[0]\n",
    "    return c"
   ]
  },
  {
   "cell_type": "markdown",
   "metadata": {},
   "source": [
    "\n",
    "\n",
    "## Objetivo 1\n",
    "El objetivo 1 consiste en estimar la marginal para una variable en consulta a partir de un dataset\n",
    "\n",
    "### Implementación del Objetivo 1\n"
   ]
  },
  {
   "cell_type": "code",
   "execution_count": 8,
   "metadata": {},
   "outputs": [
    {
     "data": {
      "text/html": [
       "\n",
       "        <script>\n",
       "            function code_toggle_9417936044380729213() {\n",
       "                $('div.cell.code_cell.rendered.selected').next().find('div.input').toggle();\n",
       "            }\n",
       "\n",
       "            $('div.cell.code_cell.rendered.selected').find(\"div.input\").hide();\n",
       "        </script>\n",
       "\n",
       "        <a href=\"javascript:code_toggle_9417936044380729213()\">Toggle show/hide next cell</a>\n",
       "    "
      ],
      "text/plain": [
       "<IPython.core.display.HTML object>"
      ]
     },
     "execution_count": 8,
     "metadata": {},
     "output_type": "execute_result"
    }
   ],
   "source": [
    "hide_toggle(True)"
   ]
  },
  {
   "cell_type": "code",
   "execution_count": 9,
   "metadata": {},
   "outputs": [],
   "source": [
    "# Esta función recive el nombre del archivo CSV y devuelve un dataframe de Pandas\n",
    "def leer_dataset(nom_archivo):\n",
    "    return pd.read_csv(nom_archivo)\n",
    "\n",
    "def cardinalidad(df, X):\n",
    "    return df[X].unique()\n",
    "\n",
    "# Esta funcióm devuelve un reporte del factor que contiene a la variable X\n",
    "def estimar_marginal(df,X, alpha):\n",
    "    card = cardinalidad(df,X) # lista de valores únicos\n",
    "    \n",
    "    nfilas = df.shape[0]\n",
    "    \n",
    "    probList = []\n",
    "    for valor in card:\n",
    "        m = count(df,[X],[valor])\n",
    "        p = (m + alpha)/(nfilas + len(card)*alpha)\n",
    "        probList.append(p)\n",
    "    probColName = \"P\"\n",
    "    columns = {X:card, probColName: probList}\n",
    "    \n",
    "    return pd.DataFrame(columns)\n",
    "\n",
    "def estimar_conjunta(df,variables,alpha):\n",
    "    card = {}\n",
    "    nfilas = 1\n",
    "    \n",
    "    ## filas en el df\n",
    "    n = df.shape[0]\n",
    "    \n",
    "    for var in variables:\n",
    "        card[var] = cardinalidad(df,var)\n",
    "        nfilas = nfilas*len(card[var])\n",
    "        \n",
    "    columns = {}\n",
    "    \n",
    "    n_rep = 1\n",
    "    for var, cardinal in card.items():\n",
    "        columns[var] = [ cardinal[int(i/n_rep)%len(cardinal)] for i in range(nfilas) ]\n",
    "        n_rep = n_rep * len(cardinal)\n",
    "\n",
    "    result = pd.DataFrame(columns)\n",
    "    \n",
    "    probList = []\n",
    "    \n",
    "    #Iteramos por cada fila del dataframe y hallamos la probabilidad condicional\n",
    "    for i in result.index:\n",
    "        valores = []\n",
    "        for var in variables:\n",
    "            valores.append(result[var][i])\n",
    "      \n",
    "        n_intersection = count(df,variables,valores)\n",
    "    \n",
    "        p = (n_intersection + alpha)/ ( n + n_rep*alpha)\n",
    "        \n",
    "        probList.append(p)\n",
    "    \n",
    "    result['P'] = probList\n",
    "    return result"
   ]
  },
  {
   "cell_type": "markdown",
   "metadata": {},
   "source": [
    "## Objetivo 2\n",
    "El objetivo 2 consiste en estimar la condicional para un par o más variables en consulta a partir del dataset previo\n",
    "\n",
    "### Implementación del Objetivo 2\n"
   ]
  },
  {
   "cell_type": "code",
   "execution_count": 10,
   "metadata": {},
   "outputs": [
    {
     "data": {
      "text/html": [
       "\n",
       "        <script>\n",
       "            function code_toggle_4590502927392062332() {\n",
       "                $('div.cell.code_cell.rendered.selected').next().find('div.input').toggle();\n",
       "            }\n",
       "\n",
       "            $('div.cell.code_cell.rendered.selected').find(\"div.input\").hide();\n",
       "        </script>\n",
       "\n",
       "        <a href=\"javascript:code_toggle_4590502927392062332()\">Toggle show/hide next cell</a>\n",
       "    "
      ],
      "text/plain": [
       "<IPython.core.display.HTML object>"
      ]
     },
     "execution_count": 10,
     "metadata": {},
     "output_type": "execute_result"
    }
   ],
   "source": [
    "hide_toggle(True)"
   ]
  },
  {
   "cell_type": "code",
   "execution_count": 11,
   "metadata": {},
   "outputs": [
    {
     "data": {
      "text/html": [
       "<div>\n",
       "<style scoped>\n",
       "    .dataframe tbody tr th:only-of-type {\n",
       "        vertical-align: middle;\n",
       "    }\n",
       "\n",
       "    .dataframe tbody tr th {\n",
       "        vertical-align: top;\n",
       "    }\n",
       "\n",
       "    .dataframe thead th {\n",
       "        text-align: right;\n",
       "    }\n",
       "</style>\n",
       "<table border=\"1\" class=\"dataframe\">\n",
       "  <thead>\n",
       "    <tr style=\"text-align: right;\">\n",
       "      <th></th>\n",
       "      <th>outlook</th>\n",
       "      <th>windy</th>\n",
       "      <th>play</th>\n",
       "      <th>P</th>\n",
       "    </tr>\n",
       "  </thead>\n",
       "  <tbody>\n",
       "    <tr>\n",
       "      <th>0</th>\n",
       "      <td>overcast</td>\n",
       "      <td>False</td>\n",
       "      <td>yes</td>\n",
       "      <td>0.333333</td>\n",
       "    </tr>\n",
       "    <tr>\n",
       "      <th>1</th>\n",
       "      <td>rainy</td>\n",
       "      <td>False</td>\n",
       "      <td>yes</td>\n",
       "      <td>0.444444</td>\n",
       "    </tr>\n",
       "    <tr>\n",
       "      <th>2</th>\n",
       "      <td>sunny</td>\n",
       "      <td>False</td>\n",
       "      <td>yes</td>\n",
       "      <td>0.222222</td>\n",
       "    </tr>\n",
       "    <tr>\n",
       "      <th>3</th>\n",
       "      <td>overcast</td>\n",
       "      <td>True</td>\n",
       "      <td>yes</td>\n",
       "      <td>0.500000</td>\n",
       "    </tr>\n",
       "    <tr>\n",
       "      <th>4</th>\n",
       "      <td>rainy</td>\n",
       "      <td>True</td>\n",
       "      <td>yes</td>\n",
       "      <td>0.166667</td>\n",
       "    </tr>\n",
       "    <tr>\n",
       "      <th>5</th>\n",
       "      <td>sunny</td>\n",
       "      <td>True</td>\n",
       "      <td>yes</td>\n",
       "      <td>0.333333</td>\n",
       "    </tr>\n",
       "    <tr>\n",
       "      <th>6</th>\n",
       "      <td>overcast</td>\n",
       "      <td>False</td>\n",
       "      <td>no</td>\n",
       "      <td>0.200000</td>\n",
       "    </tr>\n",
       "    <tr>\n",
       "      <th>7</th>\n",
       "      <td>rainy</td>\n",
       "      <td>False</td>\n",
       "      <td>no</td>\n",
       "      <td>0.200000</td>\n",
       "    </tr>\n",
       "    <tr>\n",
       "      <th>8</th>\n",
       "      <td>sunny</td>\n",
       "      <td>False</td>\n",
       "      <td>no</td>\n",
       "      <td>0.600000</td>\n",
       "    </tr>\n",
       "    <tr>\n",
       "      <th>9</th>\n",
       "      <td>overcast</td>\n",
       "      <td>True</td>\n",
       "      <td>no</td>\n",
       "      <td>0.166667</td>\n",
       "    </tr>\n",
       "    <tr>\n",
       "      <th>10</th>\n",
       "      <td>rainy</td>\n",
       "      <td>True</td>\n",
       "      <td>no</td>\n",
       "      <td>0.500000</td>\n",
       "    </tr>\n",
       "    <tr>\n",
       "      <th>11</th>\n",
       "      <td>sunny</td>\n",
       "      <td>True</td>\n",
       "      <td>no</td>\n",
       "      <td>0.333333</td>\n",
       "    </tr>\n",
       "  </tbody>\n",
       "</table>\n",
       "</div>"
      ],
      "text/plain": [
       "     outlook  windy play         P\n",
       "0   overcast  False  yes  0.333333\n",
       "1      rainy  False  yes  0.444444\n",
       "2      sunny  False  yes  0.222222\n",
       "3   overcast   True  yes  0.500000\n",
       "4      rainy   True  yes  0.166667\n",
       "5      sunny   True  yes  0.333333\n",
       "6   overcast  False   no  0.200000\n",
       "7      rainy  False   no  0.200000\n",
       "8      sunny  False   no  0.600000\n",
       "9   overcast   True   no  0.166667\n",
       "10     rainy   True   no  0.500000\n",
       "11     sunny   True   no  0.333333"
      ]
     },
     "execution_count": 11,
     "metadata": {},
     "output_type": "execute_result"
    }
   ],
   "source": [
    "def estimar_condicional(df, X, Y, alpha):\n",
    "    # hallar el número total de filas \n",
    "    nFilasResult = 1\n",
    "    nfilas = df.shape[0]\n",
    "    cardTarget = cardinalidad(df,X)\n",
    "    nFilasResult = nFilasResult*len(cardTarget)\n",
    "    \n",
    "    cardY = {}\n",
    "    for var in Y:\n",
    "        cardY[var] = cardinalidad(df,var)\n",
    "        nFilasResult = nFilasResult*len(cardY[var])\n",
    "    \n",
    "    columns = {}\n",
    "    \n",
    "    n_rep = 1\n",
    "    \n",
    "    colTarget = [cardTarget[i%len(cardTarget)] for i in range(nFilasResult)]\n",
    "    \n",
    "    columns[X] = colTarget\n",
    "    n_rep = n_rep * len(cardTarget)\n",
    "    \n",
    "    for var, card in cardY.items():\n",
    "        columns[var] = [ card[int(i/n_rep)%len(card)] for i in range(nFilasResult) ]\n",
    "        \n",
    "        n_rep = n_rep * len(card)\n",
    "\n",
    "    \n",
    "    result = pd.DataFrame(columns)\n",
    "    probList = []\n",
    "    \n",
    "    prodCardY = 1\n",
    "    for var in Y:\n",
    "        prodCardY = prodCardY* len(cardY[var])\n",
    "        \n",
    "    #Iteramos por cada fila del dataframe y hallamos la probabilidad condicional\n",
    "    for i in result.index:\n",
    "        valTarget = result[X][i]\n",
    "    \n",
    "        valPadres = []\n",
    "        for var in Y:\n",
    "            valPadres.append(result[var][i])\n",
    "      \n",
    "        totalVar = [i for i in Y]\n",
    "        totalVar.append(X)\n",
    "        totalVal = valPadres\n",
    "        totalVal.append(valTarget)\n",
    "        \n",
    "        \n",
    "        prob_X_Y = (count(df,totalVar,totalVal) + alpha) / (nfilas + prodCardY*len(cardTarget)*alpha) \n",
    "        \n",
    "        prob_Y = (count(df,Y,valPadres) + alpha) / (nfilas + prodCardY*alpha)\n",
    "        p = prob_X_Y/prob_Y\n",
    "        probList.append(p)\n",
    "    # normalizamos las probabilidades\n",
    "    \n",
    "    for i in range(int (nFilasResult / len(cardTarget))):\n",
    "        suma = 0\n",
    "        for j in range(len(cardTarget)):\n",
    "            suma = suma + probList[i*len(cardTarget) + j]\n",
    "        \n",
    "        for j in range(len(cardTarget)):\n",
    "            probList[i*len(cardTarget) + j] = probList[i*len(cardTarget) + j] / suma \n",
    "    \n",
    "    result['P'] = probList\n",
    "    return result\n",
    "\n",
    "df = leer_dataset(\"weather.csv\")\n",
    "cond = estimar_condicional(df,'outlook', ['windy','play'],1)\n",
    "cond"
   ]
  },
  {
   "cell_type": "markdown",
   "metadata": {},
   "source": [
    "# Preprocesamiento"
   ]
  },
  {
   "cell_type": "code",
   "execution_count": 12,
   "metadata": {},
   "outputs": [
    {
     "data": {
      "text/html": [
       "\n",
       "        <script>\n",
       "            function code_toggle_2171996133473773495() {\n",
       "                $('div.cell.code_cell.rendered.selected').next().find('div.input').toggle();\n",
       "            }\n",
       "\n",
       "            $('div.cell.code_cell.rendered.selected').find(\"div.input\").hide();\n",
       "        </script>\n",
       "\n",
       "        <a href=\"javascript:code_toggle_2171996133473773495()\">Toggle show/hide next cell</a>\n",
       "    "
      ],
      "text/plain": [
       "<IPython.core.display.HTML object>"
      ]
     },
     "execution_count": 12,
     "metadata": {},
     "output_type": "execute_result"
    }
   ],
   "source": [
    "hide_toggle(True)"
   ]
  },
  {
   "cell_type": "code",
   "execution_count": 13,
   "metadata": {},
   "outputs": [],
   "source": [
    "\n",
    "class Preprocessor:\n",
    "    def __init__(self, df ,alpha):\n",
    "        self.variables = self.get_vars(df)\n",
    "        self.alpha = alpha\n",
    "        self.df = df\n",
    "        self.card = self.get_cards(df)\n",
    "        self.marg_cond = self.preprocess(df)\n",
    "        self.conj = self.calcular_conjunta(df)\n",
    "        self.instancias = len(df.index)\n",
    "    \n",
    "    def get_cards(self, df):\n",
    "        nodes = self.variables\n",
    "        card = {}\n",
    "        for value in nodes:\n",
    "            card[value] = df[value].unique()\n",
    "        return card\n",
    "    \n",
    "    def get_vars(self,df):\n",
    "        variables = []\n",
    "        for i in df:\n",
    "            variables.append(i)\n",
    "        \n",
    "        return variables\n",
    "    \n",
    "    def calcular_conjunta(self,df):\n",
    "        prob = {}\n",
    "        \n",
    "        #calcular las conjunta de cada par de variables diferentes\n",
    "        for variable_1 in self.variables:\n",
    "            for variable_2 in self.variables:\n",
    "                if (variable_1 == variable_2):\n",
    "                    continue\n",
    "                prob[tuple([variable_1, variable_2])] = estimar_conjunta(df,[variable_1,variable_2], self.alpha)\n",
    "        return prob\n",
    "    \n",
    "    #preprocesa las marginales y las condicionales para cada para de variables \n",
    "    def preprocess(self,df):\n",
    "        prob = {}\n",
    "        \n",
    "        #calcular las marginales de todas la variables\n",
    "        for variable in self.variables:\n",
    "            prob[tuple(variable)] = estimar_marginal(df,variable,self.alpha)\n",
    "        \n",
    "        #calcular las condicionales de cada par de variables diferentes\n",
    "        for variable_1 in self.variables:\n",
    "            for variable_2 in self.variables:\n",
    "                if (variable_1 == variable_2):\n",
    "                    continue\n",
    "                prob[tuple([variable_1, variable_2])] = estimar_condicional(df,variable_1, [variable_2], self.alpha)\n",
    "        return prob\n",
    "    \n",
    "    \n",
    "    def get_preprocess_marginal(self, variable, valor):\n",
    "        resultado = self.marg_cond[(variable,)]\n",
    "        resultado = resultado[resultado[variable]==valor]\n",
    "        return list(resultado['P'])[0]\n",
    "    \n",
    "    def get_preprocess_conjunta(self, variables, valores):\n",
    "        resultado = self.conj[variables]\n",
    "        for i in range(2):\n",
    "            index = variables[i]\n",
    "            value = valores[i]\n",
    "            #filtrar la columna \n",
    "            resultado = resultado[resultado[index] == value]\n",
    "            \n",
    "        return list(resultado['P'])[0]\n",
    "    \n",
    "    def get_preprocess_condicional(self, factor, valores):\n",
    "        resultado = self.marg_cond[factor]\n",
    "        for i in range(2):\n",
    "            index = factor[i]\n",
    "            value = valores[i]\n",
    "            #filtrar la columna \n",
    "            resultado = resultado[resultado[index] == value]\n",
    "        return list(resultado['P'])[0]\n",
    "    \n"
   ]
  },
  {
   "cell_type": "markdown",
   "metadata": {},
   "source": [
    "# Clase Red Bayesiana\n",
    "\n",
    "## Implementación"
   ]
  },
  {
   "cell_type": "code",
   "execution_count": 14,
   "metadata": {},
   "outputs": [
    {
     "data": {
      "text/html": [
       "\n",
       "        <script>\n",
       "            function code_toggle_3428004326867825511() {\n",
       "                $('div.cell.code_cell.rendered.selected').next().find('div.input').toggle();\n",
       "            }\n",
       "\n",
       "            $('div.cell.code_cell.rendered.selected').find(\"div.input\").hide();\n",
       "        </script>\n",
       "\n",
       "        <a href=\"javascript:code_toggle_3428004326867825511()\">Toggle show/hide next cell</a>\n",
       "    "
      ],
      "text/plain": [
       "<IPython.core.display.HTML object>"
      ]
     },
     "execution_count": 14,
     "metadata": {},
     "output_type": "execute_result"
    }
   ],
   "source": [
    "hide_toggle(True)"
   ]
  },
  {
   "cell_type": "code",
   "execution_count": 15,
   "metadata": {},
   "outputs": [],
   "source": [
    "\n",
    "\n",
    "def get_parents(grafo):\n",
    "    \n",
    "    result = {}\n",
    "    \n",
    "    for node, list_adyacentes in grafo.items():\n",
    "        if node not in result:\n",
    "            result[node] = []\n",
    "        \n",
    "        if (len(list_adyacentes) > 0):  \n",
    "            for child in list_adyacentes:\n",
    "                if child not in result:\n",
    "                    result[child] = [node]\n",
    "                else:\n",
    "                    result[child].append(node)\n",
    "                \n",
    "    \n",
    "    return result\n",
    "\n",
    "\n",
    "class Red_Bayesiana:\n",
    "    def __init__(self, df, grafo, alpha, preprocessor = None):\n",
    "        self.alpha = alpha\n",
    "        self.estructura = grafo\n",
    "        self.parents = get_parents(self.estructura)\n",
    "        self.factores = self.generate(df)\n",
    "        self.card = self.get_cards(df)\n",
    "        self.preprocessor = preprocessor\n",
    "        \n",
    "    \n",
    "    def get_cards(self, df):\n",
    "        nodes = self.estructura.keys()\n",
    "        card = {}\n",
    "        for value in nodes:\n",
    "            card[value] = df[value].unique()\n",
    "        return card\n",
    "    \n",
    "    def generate(self, df):\n",
    "        factores = {}\n",
    "        parents = self.parents\n",
    "        for child, parent_list in parents.items():\n",
    "            if (len(parent_list) == 0):\n",
    "                factores[tuple(child)] = estimar_marginal(df,child, self.alpha)\n",
    "            else:\n",
    "                key = parent_list.copy()\n",
    "                key.insert(0, child)\n",
    "                key = tuple(key)\n",
    "                factores[key] = estimar_condicional(df,child, parent_list, self.alpha)\n",
    "        return factores\n",
    "    \n",
    "    def printFactores(self):\n",
    "        for key, df in self.factores.items():\n",
    "            print(\"**************\")\n",
    "            print (key)\n",
    "            print(df)  \n",
    "        \n",
    "    \n",
    "    def get_scope(self, variable):\n",
    "        # lista de factores\n",
    "        factores = []\n",
    "        for factor in self.factores.keys():\n",
    "            if(variable in factor):\n",
    "                factores.append(factor)\n",
    "        return factores\n",
    "    \n",
    "    def get_all_ancestor(self, current, current_parents, amount_of_ancestors, visited):\n",
    "        visited[current] = True\n",
    "        for parent in current_parents:\n",
    "            if(not visited[parent]):\n",
    "                self.get_all_ancestor(parent, self.parents[parent], amount_of_ancestors, visited)\n",
    "            amount_of_ancestors[current] = amount_of_ancestors[current] + amount_of_ancestors[parent] + 1\n",
    "        \n",
    "    \n",
    "    def get_hidden_variables(self, consulta, evidencia):\n",
    "        nodes = self.estructura.keys()\n",
    "        amount_of_ancestors = {}\n",
    "        visited = {}\n",
    "        \n",
    "        for node in nodes:\n",
    "            visited[node] = False\n",
    "            amount_of_ancestors[node] = 0\n",
    "        \n",
    "        for node in nodes:\n",
    "            if(not visited[node]):\n",
    "                self.get_all_ancestor(node, self.parents[node], amount_of_ancestors, visited)\n",
    "        \n",
    "        hidden_variables = []\n",
    "        for variable in nodes:\n",
    "            if ((variable not in evidencia) and variable != consulta):\n",
    "                hidden_variables.append([variable, amount_of_ancestors[variable]])\n",
    "        \n",
    "        hidden_variables = sorted(hidden_variables, key=lambda item: item[1])\n",
    "        \n",
    "        Z = []\n",
    "        for i in hidden_variables:\n",
    "            Z.append(i[0])\n",
    "        return Z\n",
    "    \n",
    "    \n",
    "    \n",
    "    def estimar_marginal(self, factor, valores):\n",
    "     \n",
    "        assert len(valores) == 1, \"Marginal solo acepta un valor\"\n",
    "        resultado = self.factores[factor]\n",
    "        resultado = resultado[resultado[factor[0]]==valores[0]]\n",
    "        return list(resultado['P'])[0]\n",
    "    \n",
    "    def estimar_condicional(self, factor, valores):\n",
    "        resultado = self.factores[factor]\n",
    "        for i in range(len(factor)):\n",
    "            index = factor[i]\n",
    "            value = valores[i]\n",
    "            #filtrar la columna \n",
    "            resultado = resultado[resultado[index] == value]\n",
    "        return list(resultado['P'])[0]\n",
    "\n",
    "        "
   ]
  },
  {
   "cell_type": "markdown",
   "metadata": {},
   "source": [
    "## Inferencia\n",
    "\n",
    "\n",
    "### Implementación de la función inferencia\n"
   ]
  },
  {
   "cell_type": "code",
   "execution_count": 16,
   "metadata": {},
   "outputs": [
    {
     "data": {
      "text/html": [
       "\n",
       "        <script>\n",
       "            function code_toggle_8439779785875446954() {\n",
       "                $('div.cell.code_cell.rendered.selected').next().find('div.input').toggle();\n",
       "            }\n",
       "\n",
       "            $('div.cell.code_cell.rendered.selected').find(\"div.input\").hide();\n",
       "        </script>\n",
       "\n",
       "        <a href=\"javascript:code_toggle_8439779785875446954()\">Toggle show/hide next cell</a>\n",
       "    "
      ],
      "text/plain": [
       "<IPython.core.display.HTML object>"
      ]
     },
     "execution_count": 16,
     "metadata": {},
     "output_type": "execute_result"
    }
   ],
   "source": [
    "hide_toggle(True)"
   ]
  },
  {
   "cell_type": "code",
   "execution_count": 17,
   "metadata": {},
   "outputs": [
    {
     "data": {
      "text/html": [
       "<div>\n",
       "<style scoped>\n",
       "    .dataframe tbody tr th:only-of-type {\n",
       "        vertical-align: middle;\n",
       "    }\n",
       "\n",
       "    .dataframe tbody tr th {\n",
       "        vertical-align: top;\n",
       "    }\n",
       "\n",
       "    .dataframe thead th {\n",
       "        text-align: right;\n",
       "    }\n",
       "</style>\n",
       "<table border=\"1\" class=\"dataframe\">\n",
       "  <thead>\n",
       "    <tr style=\"text-align: right;\">\n",
       "      <th></th>\n",
       "      <th>C</th>\n",
       "      <th>P</th>\n",
       "    </tr>\n",
       "  </thead>\n",
       "  <tbody>\n",
       "    <tr>\n",
       "      <th>0</th>\n",
       "      <td>0</td>\n",
       "      <td>0.105495</td>\n",
       "    </tr>\n",
       "    <tr>\n",
       "      <th>1</th>\n",
       "      <td>1</td>\n",
       "      <td>0.087912</td>\n",
       "    </tr>\n",
       "  </tbody>\n",
       "</table>\n",
       "</div>"
      ],
      "text/plain": [
       "   C         P\n",
       "0  0  0.105495\n",
       "1  1  0.087912"
      ]
     },
     "execution_count": 17,
     "metadata": {},
     "output_type": "execute_result"
    }
   ],
   "source": [
    "def inferencia(clase, e_variables , e_values ,df, red_bayesiana):\n",
    "    \n",
    "    var_val = {}\n",
    "    \n",
    "    for i in range(len(e_variables)):\n",
    "        var_val[e_variables[i]] = e_values[i]\n",
    "    \n",
    "    # retorna un diccionario con llaves los nodos y valores \n",
    "    parentsList = red_bayesiana.parents\n",
    "    \n",
    "    card = cardinalidad(df, clase)\n",
    "    \n",
    "    list_prob = []\n",
    "    \n",
    "    for valor in card:\n",
    "        p = 1\n",
    "        var_val[clase] = valor\n",
    "        for var, parents in parentsList.items():\n",
    "            if (len(parents) == 0):\n",
    "                p = p * red_bayesiana.estimar_marginal((var,),[var_val[var]] )\n",
    "             \n",
    "            else:\n",
    "                \n",
    "                values = [var_val[var]]\n",
    "                \n",
    "                for parent in parentsList[var]:\n",
    "                    values.append(var_val[parent])\n",
    "                \n",
    "            \n",
    "                key = parentsList[var].copy()\n",
    "                key.insert(0,var)\n",
    "                key = tuple(key)\n",
    "                p = p * red_bayesiana.estimar_condicional(key,values)\n",
    "      \n",
    "        list_prob.append(p)\n",
    "    \n",
    "    columns = {}\n",
    "    \n",
    "    columns[clase] = card\n",
    "    columns['P'] = list_prob\n",
    "    \n",
    "    return pd.DataFrame(columns)\n",
    "\n",
    "\n",
    "df_train = leer_dataset(\"training_dataset1.csv\")\n",
    "preprocess = Preprocessor(df_train,1.0)\n",
    "\n",
    "estructura = {'A':['C'],'C': ['B'], 'B':[]}\n",
    "\n",
    "\n",
    "red = Red_Bayesiana(df_train,estructura, 1.0, preprocess)\n",
    "\n",
    "inferencia('C',['A','B'],[2,1], df_train, red)\n"
   ]
  },
  {
   "cell_type": "markdown",
   "metadata": {},
   "source": [
    "# Inferencia con variables ocultas\n",
    "\n",
    "## Implementación"
   ]
  },
  {
   "cell_type": "code",
   "execution_count": 18,
   "metadata": {},
   "outputs": [
    {
     "data": {
      "text/html": [
       "\n",
       "        <script>\n",
       "            function code_toggle_14295620364960333365() {\n",
       "                $('div.cell.code_cell.rendered.selected').next().find('div.input').toggle();\n",
       "            }\n",
       "\n",
       "            $('div.cell.code_cell.rendered.selected').find(\"div.input\").hide();\n",
       "        </script>\n",
       "\n",
       "        <a href=\"javascript:code_toggle_14295620364960333365()\">Toggle show/hide next cell</a>\n",
       "    "
      ],
      "text/plain": [
       "<IPython.core.display.HTML object>"
      ]
     },
     "execution_count": 18,
     "metadata": {},
     "output_type": "execute_result"
    }
   ],
   "source": [
    "hide_toggle(True)"
   ]
  },
  {
   "cell_type": "code",
   "execution_count": 19,
   "metadata": {},
   "outputs": [
    {
     "data": {
      "text/html": [
       "<div>\n",
       "<style scoped>\n",
       "    .dataframe tbody tr th:only-of-type {\n",
       "        vertical-align: middle;\n",
       "    }\n",
       "\n",
       "    .dataframe tbody tr th {\n",
       "        vertical-align: top;\n",
       "    }\n",
       "\n",
       "    .dataframe thead th {\n",
       "        text-align: right;\n",
       "    }\n",
       "</style>\n",
       "<table border=\"1\" class=\"dataframe\">\n",
       "  <thead>\n",
       "    <tr style=\"text-align: right;\">\n",
       "      <th></th>\n",
       "      <th>C</th>\n",
       "      <th>P</th>\n",
       "    </tr>\n",
       "  </thead>\n",
       "  <tbody>\n",
       "    <tr>\n",
       "      <th>0</th>\n",
       "      <td>0</td>\n",
       "      <td>0.502564</td>\n",
       "    </tr>\n",
       "    <tr>\n",
       "      <th>1</th>\n",
       "      <td>1</td>\n",
       "      <td>0.497436</td>\n",
       "    </tr>\n",
       "  </tbody>\n",
       "</table>\n",
       "</div>"
      ],
      "text/plain": [
       "   C         P\n",
       "0  0  0.502564\n",
       "1  1  0.497436"
      ]
     },
     "execution_count": 19,
     "metadata": {},
     "output_type": "execute_result"
    }
   ],
   "source": [
    "\n",
    "def get_scope(factores, variable):\n",
    "    factores_with_variable = []\n",
    "    factores_without_variable = []\n",
    "    for factor in factores:\n",
    "        if(variable in factor):\n",
    "            factores_with_variable.append(factor)\n",
    "        else:\n",
    "            factores_without_variable.append(factor)\n",
    "    return (factores_with_variable, factores_without_variable)\n",
    "\n",
    "def get_vars(phi_prima):\n",
    "    involved = []\n",
    "  \n",
    "    for element in phi_prima:\n",
    "        for value in element:\n",
    "            if(value not in involved):\n",
    "                involved.append(value)\n",
    "  \n",
    "    return involved\n",
    "\n",
    "def sum_product_eliminate_var(factores, variable_to_eliminate, consulta, valor_consulta, evidencia, valor_evidencia , red_bayesiana ):\n",
    "    # factores que se van a factorizar\n",
    "    \n",
    "    phi_prima, phi_prima_prima = get_scope(factores,variable_to_eliminate)\n",
    "      \n",
    "  \n",
    "    # lista de variables involucradas en phi_prima\n",
    "    variables_in_scope = get_vars(phi_prima)\n",
    "\n",
    "    #diccionario: llave -> variable , valor -> lista de cardinalidad\n",
    "    \n",
    "    var_to_values = {}\n",
    "    \n",
    "    for var in variables_in_scope:\n",
    "        if (var != consulta and (var not in evidencia)):\n",
    "            var_to_values[var] = red_bayesiana.card[var]\n",
    "    var_to_values[consulta] = [valor_consulta]\n",
    "    \n",
    "    for i in range(len(evidencia)):\n",
    "        var_to_values[evidencia[i]] = [valor_evidencia]\n",
    "\n",
    " \n",
    "    \n",
    "    # llave: variable , valor --> indice en una n_upla\n",
    "    var_to_index = {}\n",
    "\n",
    "    #total number of posibilites\n",
    "    n =  1\n",
    "    for var, val in var_to_values.items():\n",
    "        n = n*len(val)\n",
    "  \n",
    "    posibilidades =  []\n",
    "    for i in range(n):\n",
    "        posibilidades.append([])\n",
    "    #\n",
    "    groups = 1\n",
    "    \n",
    "    \n",
    "    pos = 0\n",
    "    for var in variables_in_scope:\n",
    "        var_to_index[var] = pos\n",
    "        pos = pos + 1\n",
    "        values = var_to_values[var]\n",
    "        m = len(values)\n",
    "        groups = groups*m\n",
    "        rep = int(n/groups)\n",
    "        for i in range(groups):\n",
    "            for j in range(rep):\n",
    "                posibilidades[i*rep + j].extend([values[i%m]])\n",
    "  # factores que quedan\n",
    "    \n",
    "    p = 0 \n",
    "  # iterar entre todas las posibilidades\n",
    "    for n_upla in posibilidades:\n",
    "        p_local = 1\n",
    "        for dist  in phi_prima:\n",
    "            var = dist[0]\n",
    "            cond = dist[1:]\n",
    "            \n",
    "            \n",
    "\n",
    "            # hallar los valores que tomas las variables en la distribuiciones\n",
    "            if (len(cond) == 0):\n",
    "                p_marginal = red_bayesiana.estimar_marginal(dist,[n_upla[var_to_index[var]]])\n",
    "                p_local = p_local*p_marginal\n",
    "            else:\n",
    "                valores = []\n",
    "                for var in dist:\n",
    "                    index = var_to_index[var]\n",
    "                    valores.append(n_upla[index])\n",
    "                \n",
    "                \n",
    "                p_condicional = red_bayesiana.estimar_condicional(dist, valores)\n",
    "              \n",
    "                p_local = p_local*p_condicional\n",
    "        p = p + p_local\n",
    "  # sumatoria de los valores en los factores dentro del get_scope\n",
    "\n",
    "    return [phi_prima_prima, p]\n",
    "\n",
    "def sum_product(factores, consulta, valor_consulta, evidencia, valor_evidencia, red_bayesiana):\n",
    "    \n",
    "    var_to_val = {}\n",
    "    for i in range(len(evidencia)):\n",
    "        var_to_val[evidencia[i]] = valor_evidencia[i]\n",
    "    \n",
    "    var_to_val[consulta] = valor_consulta\n",
    "    \n",
    "    p = 1\n",
    "    \n",
    "    for dist in factores:\n",
    "        var = dist[0]\n",
    "        cond = dist[1:]\n",
    "        if (len(cond) == 0):\n",
    "            p_marginal = red_bayesiana.estimar_marginal(dist,[var_to_val[var]])\n",
    "            p = p*p_marginal\n",
    "        else:\n",
    "            valores = []\n",
    "            for var in dist:\n",
    "                valores.append(var_to_val[var])\n",
    "         \n",
    "\n",
    "            p_condicional = red_bayesiana.estimar_condicional(dist, valores)\n",
    "           \n",
    "            p = p*p_condicional\n",
    "    return p\n",
    "\n",
    "def sum_product_ve(consulta, valor_consulta , evidencia, valor_evidencia, red_bayesiana):\n",
    "    Z = red_bayesiana.get_hidden_variables(consulta, evidencia)\n",
    "    \n",
    "    tetha = []\n",
    "    factores = red_bayesiana.factores.keys() # lista de factores\n",
    "    for i in range(len(Z)):\n",
    "  \n",
    "        \n",
    "        if(len(factores) == 0):\n",
    "            break\n",
    "        [nuevos_factores,sumatoria] =  sum_product_eliminate_var(factores, Z[i], consulta, \n",
    "                                                                 valor_consulta, evidencia, \n",
    "                                                                 valor_evidencia, red_bayesiana)\n",
    "    \n",
    "        factores = nuevos_factores\n",
    "        tetha.append(sumatoria)\n",
    "    \n",
    "    if(len(factores)>0):\n",
    "        p_last = sum_product(factores,consulta,  valor_consulta, evidencia,valor_evidencia, red_bayesiana)\n",
    "        tetha.append(p_last)\n",
    "    p = 1\n",
    "    for sumatoria in tetha:\n",
    "        p = p*sumatoria\n",
    "    \n",
    "    return p\n",
    "\n",
    "\n",
    "def inferencia_con_variables_ocultas(consulta, evidencia, valor_evidencia, red_bayesiana):\n",
    "    \n",
    "    card = red_bayesiana.card[consulta]\n",
    "    list_prob = []\n",
    "    for valor_consulta in card:\n",
    "        p = sum_product_ve(consulta, valor_consulta , evidencia, valor_evidencia, red_bayesiana)\n",
    "        list_prob.append(p)\n",
    "    columns = {}\n",
    "    columns[consulta] = card\n",
    "    columns['P'] = list_prob\n",
    "    \n",
    "    return pd.DataFrame(columns)\n",
    "\n",
    "\n",
    "estructura = {'A':['C'],'B': [], 'C':['B']}\n",
    "\n",
    "red = Red_Bayesiana(df_train,estructura, 1.0)\n",
    "\n",
    "inferencia_con_variables_ocultas('C',[],[],red)\n"
   ]
  },
  {
   "cell_type": "markdown",
   "metadata": {},
   "source": [
    "## Implementacion de la Clase Estructure (grafo)"
   ]
  },
  {
   "cell_type": "code",
   "execution_count": 20,
   "metadata": {},
   "outputs": [
    {
     "data": {
      "text/html": [
       "\n",
       "        <script>\n",
       "            function code_toggle_13200118332340674479() {\n",
       "                $('div.cell.code_cell.rendered.selected').next().find('div.input').toggle();\n",
       "            }\n",
       "\n",
       "            $('div.cell.code_cell.rendered.selected').find(\"div.input\").hide();\n",
       "        </script>\n",
       "\n",
       "        <a href=\"javascript:code_toggle_13200118332340674479()\">Toggle show/hide next cell</a>\n",
       "    "
      ],
      "text/plain": [
       "<IPython.core.display.HTML object>"
      ]
     },
     "execution_count": 20,
     "metadata": {},
     "output_type": "execute_result"
    }
   ],
   "source": [
    "hide_toggle(True)"
   ]
  },
  {
   "cell_type": "code",
   "execution_count": 33,
   "metadata": {},
   "outputs": [
    {
     "name": "stdout",
     "output_type": "stream",
     "text": [
      "Hay ciclo\n"
     ]
    }
   ],
   "source": [
    "class Estructure:\n",
    "    def __init__(self, list_adj ,preprocessor = None):\n",
    "        self.estructura = copy.deepcopy(list_adj)\n",
    "        self.parents = get_parents(self.estructura)\n",
    "        self.set_edge = self.get_set_edge(list_adj)\n",
    "        self.n_nodes = len(list_adj.keys())\n",
    "        self.n_edges = len(self.set_edge)\n",
    "        self.nodes_indexes = self.get_indexes()\n",
    "        self.graph_id = self.get_graph_id()\n",
    "        self.edges_not_graph = self.get_edges_not_graph()   \n",
    "        self.preprocessor = preprocessor\n",
    "    \n",
    "    def get_indexes(self):\n",
    "        indexes = {}\n",
    "        i = 0\n",
    "        for node in self.estructura.keys():\n",
    "            indexes[node] = i\n",
    "            i = i + 1\n",
    "        return indexes\n",
    "    \n",
    "    def get_graph_id(self):\n",
    "        VxV = self.n_nodes * self.n_nodes\n",
    "        g_id = [0] * (VxV)\n",
    "        for node, list_adj in self.estructura.items():\n",
    "            for neighbor in list_adj:\n",
    "                index = self.n_nodes * self.nodes_indexes[node] + self.nodes_indexes[neighbor] \n",
    "                g_id[index] = 1\n",
    "        return g_id\n",
    "\n",
    "    def get_set_edge(self, list_adj):\n",
    "        result = []\n",
    "        for v, list_neighbors in list_adj.items():\n",
    "            for neighbor in list_neighbors:\n",
    "                result.append((v,neighbor))\n",
    "        return result\n",
    "\n",
    "    def get_edges_not_graph(self):\n",
    "        edges_possibles = []\n",
    "        i = 0\n",
    "        j = self.n_nodes - 1\n",
    "        k = 0\n",
    "        nodes = list(self.nodes_indexes.keys())\n",
    "        for index in range(len(self.graph_id)):\n",
    "            if(index != i):\n",
    "                if(self.graph_id[index] == 0):\n",
    "                    edges_possibles.append((nodes[i%self.n_nodes], nodes[k%self.n_nodes]))\n",
    "            if(j == index):\n",
    "                i = i + self.n_nodes + 1\n",
    "                j = j + self.n_nodes\n",
    "                \n",
    "            k = k + 1\n",
    "            \n",
    "        return edges_possibles\n",
    "    \n",
    "    def eliminate_edge(self):\n",
    "        if (self.n_edges == 0):\n",
    "            return []\n",
    "        i = random.randint(0,self.n_edges - 1)\n",
    "\n",
    "        edge = self.set_edge.pop(i)\n",
    "        self.edges_not_graph.append(edge)\n",
    "        \n",
    "        v1 = edge[0]\n",
    "        v2 = edge[1]\n",
    "        self.estructura[v1].remove(v2)\n",
    "        self.parents[v2].remove(v1)\n",
    "        self.n_edges = self.n_edges - 1\n",
    "        \n",
    "        return edge\n",
    "    \n",
    "    def operator_for_eliminate_edge(self):\n",
    "        edge = self.eliminate_edge()\n",
    "        if(len(edge) == 0):\n",
    "            return\n",
    "        v1, v2 = edge\n",
    "        \n",
    "        #Update graph id\n",
    "        index = self.n_nodes*self.nodes_indexes[v1] + self.nodes_indexes[v2]\n",
    "        self.graph_id[index] = 0 # this means that a edge was removed\n",
    "    \n",
    "    def operator_for_add_edge(self):\n",
    "        total_edges = (self.n_nodes) * (self.n_nodes - 1)\n",
    "        if(total_edges == len(self.set_edge)):\n",
    "            return\n",
    "        \n",
    "        i = random.randint(0,len(self.edges_not_graph) - 1)\n",
    "        edge = self.edges_not_graph.pop(i)\n",
    "        self.set_edge.append(edge)\n",
    "        \n",
    "        v1, v2 = edge\n",
    "        self.estructura[v1].append(v2)\n",
    "        self.parents[v2].append(v1)\n",
    "        \n",
    "        \n",
    "        self.n_edges = self.n_edges + 1\n",
    "        \n",
    "    def operator_for_reverse_edge(self):\n",
    "        edge = self.eliminate_edge()\n",
    "        if(len(edge) == 0):\n",
    "            return\n",
    "        v1, v2 = edge\n",
    "        \n",
    "        self.estructura[v2].append(v1)\n",
    "        self.parents[v1].append(v2)\n",
    "        self.set_edge.append((v2, v1))\n",
    "        self.edges_not_graph.remove((v2, v1))\n",
    "        self.n_edges = self.n_edges + 1\n",
    "        \n",
    "        #Update graph id\n",
    "        index = self.n_nodes*self.nodes_indexes[v1] + self.nodes_indexes[v2]\n",
    "        self.graph_id[index] = 0 # this means that a edge was removed\n",
    "        index = self.n_nodes*self.nodes_indexes[v2] + self.nodes_indexes[v1]\n",
    "        self.graph_id[index] = 1 # this means that a edge was added\n",
    "        \n",
    "    def is_cyclic_util(self, v, visited, recStack):\n",
    "        visited[v] = True\n",
    "        recStack[v] = True\n",
    "        \n",
    "        for neighbour in self.estructura[v]:\n",
    "            if(not visited[neighbour]):\n",
    "                if (self.is_cyclic_util(neighbour, visited, recStack)):\n",
    "                    return True\n",
    "            elif (recStack[neighbour]):\n",
    "                return True\n",
    "        \n",
    "        recStack[v] = False\n",
    "        return False\n",
    "    \n",
    "    def is_cyclic(self):\n",
    "        nodes = self.estructura.keys()\n",
    "        visited = {}\n",
    "        recStack = {}\n",
    "        for node in nodes:\n",
    "            visited[node] = False\n",
    "            recStack[node] = False\n",
    "\n",
    "        for node in nodes:\n",
    "            if (not visited[node]):\n",
    "                if self.is_cyclic_util(node, visited, recStack):\n",
    "                    return True\n",
    "        \n",
    "        return False\n",
    "\n",
    "test_structure = {'A':['B'],'B':['C'], 'C':['D'], 'D':['A']}\n",
    "\n",
    "grafo = Estructure(test_structure, df_train)\n",
    "if(grafo.is_cyclic()):\n",
    "    print(\"Hay ciclo\")\n",
    "else:\n",
    "    print(\"No hay ciclo\")"
   ]
  },
  {
   "cell_type": "markdown",
   "metadata": {},
   "source": [
    "# Métricas de calidad\n",
    "\n",
    "## Métrica de entropía"
   ]
  },
  {
   "cell_type": "code",
   "execution_count": 22,
   "metadata": {},
   "outputs": [
    {
     "data": {
      "text/html": [
       "\n",
       "        <script>\n",
       "            function code_toggle_3981932853209866451() {\n",
       "                $('div.cell.code_cell.rendered.selected').next().find('div.input').toggle();\n",
       "            }\n",
       "\n",
       "            $('div.cell.code_cell.rendered.selected').find(\"div.input\").hide();\n",
       "        </script>\n",
       "\n",
       "        <a href=\"javascript:code_toggle_3981932853209866451()\">Toggle show/hide next cell</a>\n",
       "    "
      ],
      "text/plain": [
       "<IPython.core.display.HTML object>"
      ]
     },
     "execution_count": 22,
     "metadata": {},
     "output_type": "execute_result"
    }
   ],
   "source": [
    "hide_toggle(True)"
   ]
  },
  {
   "cell_type": "code",
   "execution_count": 23,
   "metadata": {},
   "outputs": [
    {
     "data": {
      "text/plain": [
       "33.74181100597751"
      ]
     },
     "execution_count": 23,
     "metadata": {},
     "output_type": "execute_result"
    }
   ],
   "source": [
    "def get_entropia(estructura_red):\n",
    "    ## Obtenemos la cardinalidad de cada variable\n",
    "    variables = estructura_red.estructura.keys()\n",
    "    n = len(variables)\n",
    "    # diccionario de variable -> lista de valores\n",
    "\n",
    "    r = {} \n",
    "    for var in variables:\n",
    "        r[var] = estructura_red.preprocessor.card[var]\n",
    "\n",
    "    \n",
    "    # diccionario de variables -> lista de padres\n",
    "    q = estructura_red.parents\n",
    "    #TO DO\n",
    "    \n",
    "    # N total de instancias\n",
    "    N = estructura_red.preprocessor.instancias\n",
    "    result = 0\n",
    "    \n",
    "    # i = 1 ... n\n",
    "    # xi\n",
    "    for variable in variables:\n",
    "        xi = variable\n",
    "        pa_xi = q[variable]\n",
    "        \n",
    "        # si la variable no tiene padre\n",
    "        if(len(pa_xi)==0):\n",
    "            for valor in r[variable]:\n",
    "                \n",
    "                # Ej: P(A = 0).log2(P(A=0))\n",
    "                prob_xi = estructura_red.preprocessor.get_preprocess_marginal(xi, valor)\n",
    "                result = result + prob_xi*math.log(prob_xi,2)\n",
    "            \n",
    "            continue\n",
    "        \n",
    "        # j = 1 .... qi\n",
    "        pa_xi = pa_xi[0]\n",
    "        for parent_val in r[pa_xi]:\n",
    "            # k = 1... ri\n",
    "            for valor in r[variable]:\n",
    "                #print (pa_xi, \" --> \", parent_val, \"  \", xi, \" --> \", valor)\n",
    "                \n",
    "                # P (A = 1, B =2), \n",
    "                #P (A = 1|B = 2) = count (A y B) / count (A)\n",
    "                # Nijk número de instancias donde Pa(xi) toma su j-esimo valor y xi toma su k-esimo valor\n",
    "            \n",
    "                \n",
    "                ## para cada variable del dataset P (A = 1) P (A = 2) P (A = 3) P(B = 0) P (B=1)\n",
    "                \n",
    "                \n",
    "                # Nij número de instancias donde Pa(xi) toma su j-esimo valor \n",
    "            \n",
    "                \n",
    "                # Calculo de P(xi|pa(xi))\n",
    "                p_xi_paxi = estructura_red.preprocessor.get_preprocess_condicional((xi,pa_xi),[valor,parent_val])\n",
    "                p_conj_xi_pxi = estructura_red.preprocessor.get_preprocess_conjunta((xi,pa_xi),[valor,parent_val])\n",
    "     \n",
    "                result = result + p_conj_xi_pxi*(math.log(p_xi_paxi,2))\n",
    "                \n",
    "                #print (\"conj -> \", p_conj_xi_pxi, \" --- \",p_xi_paxi, \" = \", p_conj_xi_pxi*(math.log(p_xi_paxi,2)))\n",
    "        \n",
    "    result = result*(-1)*N\n",
    "                \n",
    "    return result\n",
    "\n",
    "\n",
    "\n",
    "\n",
    "estructura = {'A':['C'],'B': [], 'C':['B']}\n",
    "preprocess = Preprocessor(df_train,1.0)\n",
    "grafo = Estructure(estructura, preprocess)\n",
    "\n",
    "get_entropia(grafo)\n"
   ]
  },
  {
   "cell_type": "markdown",
   "metadata": {},
   "source": [
    "## Métrica de akaike"
   ]
  },
  {
   "cell_type": "code",
   "execution_count": 24,
   "metadata": {},
   "outputs": [
    {
     "data": {
      "text/html": [
       "\n",
       "        <script>\n",
       "            function code_toggle_17345025520139604504() {\n",
       "                $('div.cell.code_cell.rendered.selected').next().find('div.input').toggle();\n",
       "            }\n",
       "\n",
       "            $('div.cell.code_cell.rendered.selected').find(\"div.input\").hide();\n",
       "        </script>\n",
       "\n",
       "        <a href=\"javascript:code_toggle_17345025520139604504()\">Toggle show/hide next cell</a>\n",
       "    "
      ],
      "text/plain": [
       "<IPython.core.display.HTML object>"
      ]
     },
     "execution_count": 24,
     "metadata": {},
     "output_type": "execute_result"
    }
   ],
   "source": [
    "hide_toggle(True)"
   ]
  },
  {
   "cell_type": "code",
   "execution_count": 25,
   "metadata": {},
   "outputs": [
    {
     "data": {
      "text/plain": [
       "40.74181100597751"
      ]
     },
     "execution_count": 25,
     "metadata": {},
     "output_type": "execute_result"
    }
   ],
   "source": [
    "def get_number_independent_parameters(estructura_red):\n",
    "    cardinalities = estructura_red.preprocessor.card\n",
    "    parents = estructura_red.parents\n",
    "    sum = 0\n",
    "    \n",
    "    for r in cardinalities.keys():\n",
    "        q = 1\n",
    "        for parent in parents[r]:\n",
    "            q = q * len(cardinalities[parent])\n",
    "        sum = sum + (len(cardinalities[r]) - 1)*q\n",
    "\n",
    "    return sum\n",
    "\n",
    "def get_akaike(estructura_red):\n",
    "    #\n",
    "    K = get_number_independent_parameters(estructura_red)\n",
    "    e = get_entropia(estructura_red)\n",
    "    \n",
    "    return e + K\n",
    "  \n",
    "get_akaike(grafo)\n",
    "    \n",
    "    \n",
    "    "
   ]
  },
  {
   "cell_type": "markdown",
   "metadata": {},
   "source": [
    "## Métrica de MDL"
   ]
  },
  {
   "cell_type": "code",
   "execution_count": 26,
   "metadata": {},
   "outputs": [
    {
     "data": {
      "text/html": [
       "\n",
       "        <script>\n",
       "            function code_toggle_11121199620286415053() {\n",
       "                $('div.cell.code_cell.rendered.selected').next().find('div.input').toggle();\n",
       "            }\n",
       "\n",
       "            $('div.cell.code_cell.rendered.selected').find(\"div.input\").hide();\n",
       "        </script>\n",
       "\n",
       "        <a href=\"javascript:code_toggle_11121199620286415053()\">Toggle show/hide next cell</a>\n",
       "    "
      ],
      "text/plain": [
       "<IPython.core.display.HTML object>"
      ]
     },
     "execution_count": 26,
     "metadata": {},
     "output_type": "execute_result"
    }
   ],
   "source": [
    "hide_toggle(True)"
   ]
  },
  {
   "cell_type": "code",
   "execution_count": 27,
   "metadata": {},
   "outputs": [
    {
     "data": {
      "text/plain": [
       "45.36855933808328"
      ]
     },
     "execution_count": 27,
     "metadata": {},
     "output_type": "execute_result"
    }
   ],
   "source": [
    "def get_mdl(estructura_red):    \n",
    "    N = estructura_red.preprocessor.instancias\n",
    "    K = get_number_independent_parameters(estructura_red)\n",
    "    e = get_entropia(estructura_red)\n",
    "    \n",
    "    return e + K/2*math.log(N,2)\n",
    "\n",
    "get_mdl(grafo)"
   ]
  },
  {
   "cell_type": "markdown",
   "metadata": {},
   "source": [
    "##  Métrica K2"
   ]
  },
  {
   "cell_type": "code",
   "execution_count": 28,
   "metadata": {},
   "outputs": [
    {
     "data": {
      "text/html": [
       "\n",
       "        <script>\n",
       "            function code_toggle_12807828089189031577() {\n",
       "                $('div.cell.code_cell.rendered.selected').next().find('div.input').toggle();\n",
       "            }\n",
       "\n",
       "            $('div.cell.code_cell.rendered.selected').find(\"div.input\").hide();\n",
       "        </script>\n",
       "\n",
       "        <a href=\"javascript:code_toggle_12807828089189031577()\">Toggle show/hide next cell</a>\n",
       "    "
      ],
      "text/plain": [
       "<IPython.core.display.HTML object>"
      ]
     },
     "execution_count": 28,
     "metadata": {},
     "output_type": "execute_result"
    }
   ],
   "source": [
    "hide_toggle(True)"
   ]
  },
  {
   "cell_type": "code",
   "execution_count": 29,
   "metadata": {},
   "outputs": [
    {
     "data": {
      "text/plain": [
       "5.787037037037038e-07"
      ]
     },
     "execution_count": 29,
     "metadata": {},
     "output_type": "execute_result"
    }
   ],
   "source": [
    "def get_k2(estructura_red):\n",
    "    # Obtenemos la cardinalidad de cada variable\n",
    "    variables = estructura_red.preprocessor.variables\n",
    "    n = len(variables)\n",
    "    df = estructura_red.preprocessor.df\n",
    "    q = estructura_red.parents\n",
    "    \n",
    "    r = {} \n",
    "    for var in variables:\n",
    "        r[var] = estructura_red.preprocessor.card[var]\n",
    "    \n",
    "    result = 1\n",
    "    \n",
    "    for variable in variables:\n",
    "        xi = variable\n",
    "        pa_xi = q[variable]\n",
    "        if(len(pa_xi)==0):\n",
    "            continue\n",
    "        \n",
    "        ri = len(r[variable])\n",
    "        \n",
    "        # j = 1 .... qi\n",
    "        pa_xi = pa_xi[0]\n",
    "        for parent_val in r[pa_xi]:\n",
    "            \n",
    "            # Nij número de instancias donde Pa(xi) toma su j-esimo valor \n",
    "            Nij = count(df, [pa_xi], [parent_val])\n",
    "            \n",
    "            \n",
    "            a = math.factorial(ri -1) / math.factorial(ri-1 + Nij)\n",
    "            \n",
    "            result = result*a\n",
    "            # k = 1... ri\n",
    "            for valor in r[variable]:\n",
    "                \n",
    "                # Nijk número de instancias donde Pa(xi) toma su j-esimo valor y xi toma su k-esimo valor\n",
    "                Nijk = count(df, [pa_xi,xi],[parent_val,valor])\n",
    "                result =  result* math.factorial(Nijk)\n",
    "    \n",
    "    return result\n",
    "\n",
    "get_k2(grafo)"
   ]
  },
  {
   "cell_type": "markdown",
   "metadata": {},
   "source": [
    "## Greedy search"
   ]
  },
  {
   "cell_type": "code",
   "execution_count": 30,
   "metadata": {},
   "outputs": [
    {
     "data": {
      "text/html": [
       "\n",
       "        <script>\n",
       "            function code_toggle_14949703124417645070() {\n",
       "                $('div.cell.code_cell.rendered.selected').next().find('div.input').toggle();\n",
       "            }\n",
       "\n",
       "            $('div.cell.code_cell.rendered.selected').find(\"div.input\").hide();\n",
       "        </script>\n",
       "\n",
       "        <a href=\"javascript:code_toggle_14949703124417645070()\">Toggle show/hide next cell</a>\n",
       "    "
      ],
      "text/plain": [
       "<IPython.core.display.HTML object>"
      ]
     },
     "execution_count": 30,
     "metadata": {},
     "output_type": "execute_result"
    }
   ],
   "source": [
    "hide_toggle(True)"
   ]
  },
  {
   "cell_type": "code",
   "execution_count": 31,
   "metadata": {},
   "outputs": [
    {
     "name": "stdout",
     "output_type": "stream",
     "text": [
      "Listo\n"
     ]
    }
   ],
   "source": [
    "# set_operators [0, 1, 2]: 0 = add, 1 = remove, 2 = revert\n",
    "def greedy_local_search(initial_solution, score_function, set_operators):\n",
    "    best_solution = initial_solution\n",
    "    Progress = True\n",
    "    while(Progress):\n",
    "        solution = best_solution\n",
    "        Progress = False\n",
    "        for operator in set_operators:\n",
    "            \n",
    "            candidate_solution = copy.deepcopy(solution)\n",
    "            if(operator == 0):\n",
    "                candidate_solution.operator_for_add_edge()\n",
    "            elif(operator == 1):\n",
    "                candidate_solution.operator_for_eliminate_edge()\n",
    "            else:\n",
    "                candidate_solution.operator_for_reverse_edge()\n",
    "            \n",
    "            if (not candidate_solution.is_cyclic()):\n",
    "                if(score_function(candidate_solution) > score_function(best_solution)):\n",
    "                    best_solution = copy.deepcopy(candidate_solution)\n",
    "                    Progress = True\n",
    "    return best_solution\n",
    "\n",
    "estructura = {'A':[],'B': [], 'C':[]}\n",
    "preprocess = Preprocessor(df_train,1.0)\n",
    "grafo = Estructure(estructura, preprocess)\n",
    "\n",
    "nuevo_grafo = greedy_local_search(grafo, get_akaike, [0, 1, 2])\n",
    "print(\"Listo\")"
   ]
  },
  {
   "cell_type": "code",
   "execution_count": 32,
   "metadata": {},
   "outputs": [
    {
     "name": "stdout",
     "output_type": "stream",
     "text": [
      "{'A': [], 'B': [], 'C': []}\n",
      "{'A': [], 'B': ['A'], 'C': ['A', 'B']}\n"
     ]
    }
   ],
   "source": [
    "print(grafo.estructura)\n",
    "print(nuevo_grafo.estructura)"
   ]
  },
  {
   "cell_type": "markdown",
   "metadata": {},
   "source": []
  }
 ],
 "metadata": {
  "kernelspec": {
   "display_name": "Python 3",
   "language": "python",
   "name": "python3"
  },
  "language_info": {
   "codemirror_mode": {
    "name": "ipython",
    "version": 3
   },
   "file_extension": ".py",
   "mimetype": "text/x-python",
   "name": "python",
   "nbconvert_exporter": "python",
   "pygments_lexer": "ipython3",
   "version": "3.8.5"
  }
 },
 "nbformat": 4,
 "nbformat_minor": 4
}
