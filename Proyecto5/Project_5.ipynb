{
 "cells": [
  {
   "cell_type": "code",
   "execution_count": 1,
   "metadata": {},
   "outputs": [
    {
     "data": {
      "text/html": [
       "<script>\n",
       "    code_show=true; \n",
       "    function code_toggle() {\n",
       "     if (code_show){\n",
       "     $('div.input').hide();\n",
       "     } else {\n",
       "     $('div.input').show();\n",
       "     }\n",
       "     code_show = !code_show\n",
       "    } \n",
       "    $( document ).ready(code_toggle);\n",
       "    </script>\n",
       "    The raw code for this IPython notebook is by default hidden for easier reading.\n",
       "    To toggle on/off the raw code, click <a href=\"javascript:code_toggle()\">here</a>."
      ],
      "text/plain": [
       "<IPython.core.display.HTML object>"
      ]
     },
     "execution_count": 1,
     "metadata": {},
     "output_type": "execute_result"
    }
   ],
   "source": [
    "from IPython.display import HTML\n",
    "import random\n",
    "\n",
    "def hide_toggle(for_next=False):\n",
    "    this_cell = \"\"\"$('div.cell.code_cell.rendered.selected')\"\"\"\n",
    "    next_cell = this_cell + '.next()'\n",
    "\n",
    "    toggle_text = 'Toggle show/hide'  # text shown on toggle link\n",
    "    target_cell = this_cell  # target cell to control with toggle\n",
    "    js_hide_current = ''  # bit of JS to permanently hide code in current cell (only when toggling next cell)\n",
    "\n",
    "    if for_next:\n",
    "        target_cell = next_cell\n",
    "        toggle_text += ' next cell'\n",
    "        js_hide_current = this_cell + '.find(\"div.input\").hide();'\n",
    "\n",
    "    js_f_name = 'code_toggle_{}'.format(str(random.randint(1,2**64)))\n",
    "\n",
    "    html = \"\"\"\n",
    "        <script>\n",
    "            function {f_name}() {{\n",
    "                {cell_selector}.find('div.input').toggle();\n",
    "            }}\n",
    "\n",
    "            {js_hide_current}\n",
    "        </script>\n",
    "\n",
    "        <a href=\"javascript:{f_name}()\">{toggle_text}</a>\n",
    "    \"\"\".format(\n",
    "        f_name=js_f_name,\n",
    "        cell_selector=target_cell,\n",
    "        js_hide_current=js_hide_current, \n",
    "        toggle_text=toggle_text\n",
    "    )\n",
    "\n",
    "    return HTML(html)\n",
    "\n",
    "def all_cells():    \n",
    "    return HTML('''<script>\n",
    "    code_show=true; \n",
    "    function code_toggle() {\n",
    "     if (code_show){\n",
    "     $('div.input').hide();\n",
    "     } else {\n",
    "     $('div.input').show();\n",
    "     }\n",
    "     code_show = !code_show\n",
    "    } \n",
    "    $( document ).ready(code_toggle);\n",
    "    </script>\n",
    "    The raw code for this IPython notebook is by default hidden for easier reading.\n",
    "    To toggle on/off the raw code, click <a href=\"javascript:code_toggle()\">here</a>.''')\n",
    "\n",
    "# the functions below grabbed from http://www.astroml.org/book_figures/appendix/fig_neural_network.html\n",
    "# our standard imports: matplotlib and numpy\n",
    "import matplotlib.pyplot as plt\n",
    "import numpy as np\n",
    "\n",
    "# just to overwrite default colab style\n",
    "plt.style.use('default')\n",
    "plt.style.use('seaborn-talk')\n",
    "\n",
    "radius = 0.3\n",
    "\n",
    "arrow_kwargs = dict(head_width=0.05, fc='black')\n",
    "\n",
    "def draw_connecting_arrow(ax, circ1, rad1, circ2, rad2):\n",
    "    theta = np.arctan2(circ2[1] - circ1[1],\n",
    "                       circ2[0] - circ1[0])\n",
    "\n",
    "    starting_point = (circ1[0] + rad1 * np.cos(theta),\n",
    "                      circ1[1] + rad1 * np.sin(theta))\n",
    "\n",
    "    length = (circ2[0] - circ1[0] - (rad1 + 1.4 * rad2) * np.cos(theta),\n",
    "              circ2[1] - circ1[1] - (rad1 + 1.4 * rad2) * np.sin(theta))\n",
    "\n",
    "    ax.arrow(starting_point[0], starting_point[1],\n",
    "             length[0], length[1], **arrow_kwargs)\n",
    "\n",
    "\n",
    "def draw_circle(ax, center, radius):\n",
    "    circ = plt.Circle(center, radius, fill=False, lw=2)\n",
    "    ax.add_patch(circ)\n",
    "    \n",
    "# based on borrowed function we can create a new one to draw NN\n",
    "\n",
    "def draw_net(input_size, output_size, hidden_layers=[], w=6, h=4):\n",
    "  \"\"\"Draw a network\"\"\"\n",
    "  x = 0  # initial layer position\n",
    "  \n",
    "  ax = plt.subplot()\n",
    "  ax.set_aspect('equal')\n",
    "  ax.axis('off')\n",
    "\n",
    "  ax.set_xlim([-2, -2 + w])\n",
    "  ax.set_ylim([-h / 2 , h / 2 + 1])\n",
    "  \n",
    "  # set y position  \n",
    "  y_input = np.arange(-(input_size - 1) / 2, (input_size + 1) / 2, 1)\n",
    "  y_output = np.arange(-(output_size - 1) / 2, (output_size + 1) / 2, 1)\n",
    "  y_hidden = [np.arange(-(n - 1) / 2, (n + 1) / 2, 1) for n in hidden_layers]\n",
    "  \n",
    "  # draw input layer\n",
    "  plt.text(x, h / 2 + 0.5, \"Capa\\nEntrada\", ha='center', va='top', fontsize=16)\n",
    "  \n",
    "  for i, y in enumerate(y_input):\n",
    "    draw_circle(ax, (x, y), radius)\n",
    "    ax.text(x - 0.9, y, '$x_%i$' % (input_size - 1 - i),\n",
    "            ha='right', va='center', fontsize=16)\n",
    "    draw_connecting_arrow(ax, (x - 0.9, y), 0.1, (x, y), radius)\n",
    "  \n",
    "  last_layer = y_input  # last layer y positions\n",
    "  \n",
    "  # draw hidden layers\n",
    "  for ys in y_hidden:\n",
    "    # shift x\n",
    "    x += 2\n",
    "    plt.text(x, h / 2 + 0.5, \"Capa\\nOculta\", ha='center', va='top', fontsize=16)\n",
    "    \n",
    "    # draw neurons for each hidden layer\n",
    "    for i, y1 in enumerate(ys):\n",
    "      draw_circle(ax, (x, y1), radius)\n",
    "      \n",
    "      # connect a neuron with all neurons from previous layer\n",
    "      if i != len(ys) - 1: # skip bias\n",
    "        for y2 in last_layer:\n",
    "          draw_connecting_arrow(ax, (x - 2, y2), radius, (x, y1), radius)\n",
    "        \n",
    "    # update last layer\n",
    "    last_layer = ys\n",
    "  \n",
    "  x += 2  # update position for output layer\n",
    "    \n",
    "  # draw output layer\n",
    "  plt.text(x, h / 2 + 0.5, \"Capa\\nSalida\", ha='center', va='top', fontsize=16)\n",
    "\n",
    "  for i, y1 in enumerate(y_output):\n",
    "    draw_circle(ax, (x, y1), radius)\n",
    "    ax.text(x + 0.8, y1, 'Salida', ha='left', va='center', fontsize=16)\n",
    "    draw_connecting_arrow(ax, (x, y1), radius, (x + 0.8, y1), 0.1)\n",
    "\n",
    "    # connect each output neuron with all neurons from previous layer\n",
    "    for y2 in last_layer:\n",
    "      draw_connecting_arrow(ax, (x - 2, y2), radius, (x, y1), radius)\n",
    "\n",
    "all_cells()"
   ]
  },
  {
   "cell_type": "markdown",
   "metadata": {},
   "source": [
    "# Proyecto 5: Procesamiento de Lenguaje Natural (PLN)\n",
    "\n",
    "## Integrantes: \n",
    "\n",
    "* Daniel Julián Rojas Cruz\n",
    "* Johan Tanta Villanueva\n",
    "\n",
    "Para este proyecto se trabajó con sentencias de papers completos que contienen interacciones entre proteínas. [Dataset](https://biotext.berkeley.edu/data/prot-prot-interactions/sentences_from_full_papers_that_contain_both_proteins_for_all_interactions)\n",
    "\n",
    "En primer lugar, se comienza con leer el dataset."
   ]
  },
  {
   "cell_type": "code",
   "execution_count": 2,
   "metadata": {},
   "outputs": [
    {
     "data": {
      "text/html": [
       "\n",
       "        <script>\n",
       "            function code_toggle_10317523626431595450() {\n",
       "                $('div.cell.code_cell.rendered.selected').next().find('div.input').toggle();\n",
       "            }\n",
       "\n",
       "            $('div.cell.code_cell.rendered.selected').find(\"div.input\").hide();\n",
       "        </script>\n",
       "\n",
       "        <a href=\"javascript:code_toggle_10317523626431595450()\">Toggle show/hide next cell</a>\n",
       "    "
      ],
      "text/plain": [
       "<IPython.core.display.HTML object>"
      ]
     },
     "execution_count": 2,
     "metadata": {},
     "output_type": "execute_result"
    }
   ],
   "source": [
    "hide_toggle(1)"
   ]
  },
  {
   "cell_type": "code",
   "execution_count": 3,
   "metadata": {},
   "outputs": [],
   "source": [
    "from pprint import pprint as pp\n",
    "f = open('corpus.txt', 'r', encoding= 'latin-1')\n",
    "corpus = f.read()\n",
    "f.close()"
   ]
  },
  {
   "cell_type": "markdown",
   "metadata": {},
   "source": [
    "Luego, identificamos la variable **clase** con sus sentencias respectivamente, por lo que observamos que hay"
   ]
  },
  {
   "cell_type": "code",
   "execution_count": 4,
   "metadata": {},
   "outputs": [
    {
     "data": {
      "text/html": [
       "\n",
       "        <script>\n",
       "            function code_toggle_15704242514687675678() {\n",
       "                $('div.cell.code_cell.rendered.selected').next().find('div.input').toggle();\n",
       "            }\n",
       "\n",
       "            $('div.cell.code_cell.rendered.selected').find(\"div.input\").hide();\n",
       "        </script>\n",
       "\n",
       "        <a href=\"javascript:code_toggle_15704242514687675678()\">Toggle show/hide next cell</a>\n",
       "    "
      ],
      "text/plain": [
       "<IPython.core.display.HTML object>"
      ]
     },
     "execution_count": 4,
     "metadata": {},
     "output_type": "execute_result"
    }
   ],
   "source": [
    "hide_toggle(1)"
   ]
  },
  {
   "cell_type": "code",
   "execution_count": 5,
   "metadata": {},
   "outputs": [
    {
     "name": "stdout",
     "output_type": "stream",
     "text": [
      "24 variables clases\n"
     ]
    }
   ],
   "source": [
    "# separamos por clase\n",
    "nuevo_corpus = []\n",
    "for text in corpus.split('\\n'):\n",
    "    if(text != ''):\n",
    "        nuevo_corpus.append(text)\n",
    "print(\"%d variables clases\"%(len(nuevo_corpus)))"
   ]
  },
  {
   "cell_type": "markdown",
   "metadata": {},
   "source": [
    "Observamos la cantidad de sentencias por cada tipo de interacción (variable clase)."
   ]
  },
  {
   "cell_type": "code",
   "execution_count": 6,
   "metadata": {},
   "outputs": [
    {
     "data": {
      "text/html": [
       "\n",
       "        <script>\n",
       "            function code_toggle_13966609753305735905() {\n",
       "                $('div.cell.code_cell.rendered.selected').next().find('div.input').toggle();\n",
       "            }\n",
       "\n",
       "            $('div.cell.code_cell.rendered.selected').find(\"div.input\").hide();\n",
       "        </script>\n",
       "\n",
       "        <a href=\"javascript:code_toggle_13966609753305735905()\">Toggle show/hide next cell</a>\n",
       "    "
      ],
      "text/plain": [
       "<IPython.core.display.HTML object>"
      ]
     },
     "execution_count": 6,
     "metadata": {},
     "output_type": "execute_result"
    }
   ],
   "source": [
    "hide_toggle(1)"
   ]
  },
  {
   "cell_type": "code",
   "execution_count": 7,
   "metadata": {},
   "outputs": [
    {
     "data": {
      "text/html": [
       "<div>\n",
       "<style scoped>\n",
       "    .dataframe tbody tr th:only-of-type {\n",
       "        vertical-align: middle;\n",
       "    }\n",
       "\n",
       "    .dataframe tbody tr th {\n",
       "        vertical-align: top;\n",
       "    }\n",
       "\n",
       "    .dataframe thead th {\n",
       "        text-align: right;\n",
       "    }\n",
       "</style>\n",
       "<table border=\"1\" class=\"dataframe\">\n",
       "  <thead>\n",
       "    <tr style=\"text-align: right;\">\n",
       "      <th></th>\n",
       "      <th>Interaccion</th>\n",
       "      <th>NroSentencias</th>\n",
       "    </tr>\n",
       "  </thead>\n",
       "  <tbody>\n",
       "    <tr>\n",
       "      <th>0</th>\n",
       "      <td>upregulates</td>\n",
       "      <td>119</td>\n",
       "    </tr>\n",
       "    <tr>\n",
       "      <th>1</th>\n",
       "      <td>regulates</td>\n",
       "      <td>117</td>\n",
       "    </tr>\n",
       "    <tr>\n",
       "      <th>2</th>\n",
       "      <td>downregulates</td>\n",
       "      <td>111</td>\n",
       "    </tr>\n",
       "    <tr>\n",
       "      <th>3</th>\n",
       "      <td>stimulates</td>\n",
       "      <td>103</td>\n",
       "    </tr>\n",
       "    <tr>\n",
       "      <th>4</th>\n",
       "      <td>binds</td>\n",
       "      <td>98</td>\n",
       "    </tr>\n",
       "    <tr>\n",
       "      <th>5</th>\n",
       "      <td>requires</td>\n",
       "      <td>96</td>\n",
       "    </tr>\n",
       "    <tr>\n",
       "      <th>6</th>\n",
       "      <td>activates</td>\n",
       "      <td>89</td>\n",
       "    </tr>\n",
       "    <tr>\n",
       "      <th>7</th>\n",
       "      <td>synergizes with</td>\n",
       "      <td>86</td>\n",
       "    </tr>\n",
       "    <tr>\n",
       "      <th>8</th>\n",
       "      <td>inhibits</td>\n",
       "      <td>78</td>\n",
       "    </tr>\n",
       "    <tr>\n",
       "      <th>9</th>\n",
       "      <td>inactivates</td>\n",
       "      <td>68</td>\n",
       "    </tr>\n",
       "    <tr>\n",
       "      <th>10</th>\n",
       "      <td>induces</td>\n",
       "      <td>66</td>\n",
       "    </tr>\n",
       "    <tr>\n",
       "      <th>11</th>\n",
       "      <td>incorporates</td>\n",
       "      <td>62</td>\n",
       "    </tr>\n",
       "    <tr>\n",
       "      <th>12</th>\n",
       "      <td>interacts with</td>\n",
       "      <td>62</td>\n",
       "    </tr>\n",
       "    <tr>\n",
       "      <th>13</th>\n",
       "      <td>competes with</td>\n",
       "      <td>61</td>\n",
       "    </tr>\n",
       "    <tr>\n",
       "      <th>14</th>\n",
       "      <td>degrades</td>\n",
       "      <td>60</td>\n",
       "    </tr>\n",
       "    <tr>\n",
       "      <th>15</th>\n",
       "      <td>modulates</td>\n",
       "      <td>52</td>\n",
       "    </tr>\n",
       "    <tr>\n",
       "      <th>16</th>\n",
       "      <td>suppresses</td>\n",
       "      <td>51</td>\n",
       "    </tr>\n",
       "    <tr>\n",
       "      <th>17</th>\n",
       "      <td>phosphorylates</td>\n",
       "      <td>42</td>\n",
       "    </tr>\n",
       "    <tr>\n",
       "      <th>18</th>\n",
       "      <td>enhances</td>\n",
       "      <td>38</td>\n",
       "    </tr>\n",
       "    <tr>\n",
       "      <th>19</th>\n",
       "      <td>co-localizes with</td>\n",
       "      <td>36</td>\n",
       "    </tr>\n",
       "    <tr>\n",
       "      <th>20</th>\n",
       "      <td>complexes with</td>\n",
       "      <td>34</td>\n",
       "    </tr>\n",
       "    <tr>\n",
       "      <th>21</th>\n",
       "      <td>recruits</td>\n",
       "      <td>26</td>\n",
       "    </tr>\n",
       "    <tr>\n",
       "      <th>22</th>\n",
       "      <td>stabilizes</td>\n",
       "      <td>12</td>\n",
       "    </tr>\n",
       "    <tr>\n",
       "      <th>23</th>\n",
       "      <td>ubiquitinated by</td>\n",
       "      <td>3</td>\n",
       "    </tr>\n",
       "  </tbody>\n",
       "</table>\n",
       "</div>"
      ],
      "text/plain": [
       "          Interaccion  NroSentencias\n",
       "0         upregulates            119\n",
       "1           regulates            117\n",
       "2       downregulates            111\n",
       "3          stimulates            103\n",
       "4               binds             98\n",
       "5            requires             96\n",
       "6           activates             89\n",
       "7     synergizes with             86\n",
       "8            inhibits             78\n",
       "9         inactivates             68\n",
       "10            induces             66\n",
       "11       incorporates             62\n",
       "12     interacts with             62\n",
       "13      competes with             61\n",
       "14           degrades             60\n",
       "15          modulates             52\n",
       "16         suppresses             51\n",
       "17     phosphorylates             42\n",
       "18           enhances             38\n",
       "19  co-localizes with             36\n",
       "20     complexes with             34\n",
       "21           recruits             26\n",
       "22         stabilizes             12\n",
       "23   ubiquitinated by              3"
      ]
     },
     "metadata": {},
     "output_type": "display_data"
    }
   ],
   "source": [
    "import pandas as pd\n",
    "from IPython.display import display\n",
    "info = []\n",
    "data = []\n",
    "for item in nuevo_corpus:\n",
    "    clase, textos = item.split(\"=====\")\n",
    "    sentencias = textos.split(\"||\")\n",
    "    info.append((clase, len(sentencias)))\n",
    "    for paper in sentencias:\n",
    "        paper_id , text = paper.split(\"==>\")\n",
    "        registro = [text,clase]\n",
    "        data.append(registro)\n",
    "\n",
    "info = sorted(info, key=lambda item : item[1], reverse=True)\n",
    "tabla = pd.DataFrame()\n",
    "tabla[\"Interaccion\"] = [item[0] for item in info]\n",
    "tabla[\"NroSentencias\"] = [item[1] for item in info]\n",
    "\n",
    "display(tabla)"
   ]
  },
  {
   "cell_type": "markdown",
   "metadata": {},
   "source": [
    "Antes de identificar los tokens de cada sentencia, descargamos el stopwords en formato inglés"
   ]
  },
  {
   "cell_type": "code",
   "execution_count": 8,
   "metadata": {},
   "outputs": [
    {
     "data": {
      "text/html": [
       "\n",
       "        <script>\n",
       "            function code_toggle_8477042996817266244() {\n",
       "                $('div.cell.code_cell.rendered.selected').next().find('div.input').toggle();\n",
       "            }\n",
       "\n",
       "            $('div.cell.code_cell.rendered.selected').find(\"div.input\").hide();\n",
       "        </script>\n",
       "\n",
       "        <a href=\"javascript:code_toggle_8477042996817266244()\">Toggle show/hide next cell</a>\n",
       "    "
      ],
      "text/plain": [
       "<IPython.core.display.HTML object>"
      ]
     },
     "execution_count": 8,
     "metadata": {},
     "output_type": "execute_result"
    }
   ],
   "source": [
    "hide_toggle(1)"
   ]
  },
  {
   "cell_type": "code",
   "execution_count": 9,
   "metadata": {},
   "outputs": [
    {
     "name": "stderr",
     "output_type": "stream",
     "text": [
      "[nltk_data] Downloading package punkt to /home/johantv/nltk_data...\n",
      "[nltk_data]   Package punkt is already up-to-date!\n",
      "[nltk_data] Downloading package stopwords to\n",
      "[nltk_data]     /home/johantv/nltk_data...\n",
      "[nltk_data]   Package stopwords is already up-to-date!\n"
     ]
    },
    {
     "data": {
      "text/plain": [
       "True"
      ]
     },
     "execution_count": 9,
     "metadata": {},
     "output_type": "execute_result"
    }
   ],
   "source": [
    "import nltk\n",
    "import seaborn as sns\n",
    "sns.set()\n",
    "nltk.download('punkt')\n",
    "nltk.download('stopwords')"
   ]
  },
  {
   "cell_type": "markdown",
   "metadata": {},
   "source": [
    "Procedemos a obtener los tokens por cada sentencia, por lo que definimos la función $get\\_tokens(text)$ de la siguiente manera:\n",
    "- Obtenemos los tokens incluídos los stopwords y convertimos cada caracter del token en minúscula.\n",
    "```\n",
    "def get_tokens(text):\n",
    "    tokens = word_tokenize(text, 'english')\n",
    "    tokens = [w.lower() for w in tokens if w[0].isalpha()]\n",
    "```\n",
    "- Procedemos a eliminar los stopwords\n",
    "```\n",
    "    tokens_sinSW = tokens[:]\n",
    "    #delete stopwords\n",
    "    for token in tokens_sinSW:\n",
    "        if token in stopwords.words('english'):\n",
    "            tokens_sinSW.remove(token)\n",
    "```\n",
    "- Por último, extraemos la raíz de cada token\n",
    "```\n",
    "    #lemmatization\n",
    "    tokens_root = []\n",
    "    for word in tokens_sinSW:\n",
    "       \n",
    "        root = porter.stem(word)\n",
    "        #print(lemma)\n",
    "        if root not in tokens_root:\n",
    "            tokens_root.append(root)\n",
    "        \n",
    "    return tokens_root\n",
    "```"
   ]
  },
  {
   "cell_type": "code",
   "execution_count": 10,
   "metadata": {},
   "outputs": [
    {
     "data": {
      "text/html": [
       "\n",
       "        <script>\n",
       "            function code_toggle_5964242866997790563() {\n",
       "                $('div.cell.code_cell.rendered.selected').next().find('div.input').toggle();\n",
       "            }\n",
       "\n",
       "            $('div.cell.code_cell.rendered.selected').find(\"div.input\").hide();\n",
       "        </script>\n",
       "\n",
       "        <a href=\"javascript:code_toggle_5964242866997790563()\">Toggle show/hide next cell</a>\n",
       "    "
      ],
      "text/plain": [
       "<IPython.core.display.HTML object>"
      ]
     },
     "execution_count": 10,
     "metadata": {},
     "output_type": "execute_result"
    }
   ],
   "source": [
    "hide_toggle(1)"
   ]
  },
  {
   "cell_type": "code",
   "execution_count": 11,
   "metadata": {},
   "outputs": [],
   "source": [
    "from nltk.tokenize import word_tokenize\n",
    "from nltk.corpus import stopwords\n",
    "from nltk.stem import PorterStemmer\n",
    "from nltk.stem import WordNetLemmatizer\n",
    "\n",
    "wordnet_lemmatizer = WordNetLemmatizer()\n",
    "porter = PorterStemmer()\n",
    "\n",
    "def get_tokens(text):\n",
    "    tokens = word_tokenize(text, 'english')\n",
    "    tokens = [w.lower() for w in tokens if w[0].isalpha()]\n",
    "    \n",
    "    tokens_sinSW = tokens[:]\n",
    "    \n",
    "    #delete stopwords\n",
    "    for token in tokens_sinSW:\n",
    "        if token in stopwords.words('english'):\n",
    "            tokens_sinSW.remove(token)\n",
    "    \n",
    "    #lemmatization\n",
    "    tokens_root = []\n",
    "    for word in tokens_sinSW:\n",
    "       \n",
    "        root = porter.stem(word)\n",
    "        if root not in tokens_root:\n",
    "            tokens_root.append(root)\n",
    "        \n",
    "    return tokens_root"
   ]
  },
  {
   "cell_type": "markdown",
   "metadata": {},
   "source": [
    "Procedemos a aplicar a cada sentencia la función definida anteriormente."
   ]
  },
  {
   "cell_type": "code",
   "execution_count": 12,
   "metadata": {},
   "outputs": [
    {
     "data": {
      "text/html": [
       "\n",
       "        <script>\n",
       "            function code_toggle_13034364854119506701() {\n",
       "                $('div.cell.code_cell.rendered.selected').next().find('div.input').toggle();\n",
       "            }\n",
       "\n",
       "            $('div.cell.code_cell.rendered.selected').find(\"div.input\").hide();\n",
       "        </script>\n",
       "\n",
       "        <a href=\"javascript:code_toggle_13034364854119506701()\">Toggle show/hide next cell</a>\n",
       "    "
      ],
      "text/plain": [
       "<IPython.core.display.HTML object>"
      ]
     },
     "execution_count": 12,
     "metadata": {},
     "output_type": "execute_result"
    }
   ],
   "source": [
    "hide_toggle(1)"
   ]
  },
  {
   "cell_type": "code",
   "execution_count": 13,
   "metadata": {},
   "outputs": [],
   "source": [
    "data_procesada = []\n",
    "\n",
    "for registro in data:\n",
    "    text, clase = registro\n",
    "    tokens = get_tokens(text)\n",
    "    text = \" \".join(tokens)\n",
    "    data_procesada.append([text, clase])\n",
    "\n",
    "corpus = []\n",
    "clase = []\n",
    "\n",
    "for registro in  data_procesada:\n",
    "    t, c = registro\n",
    "    corpus.append(t)\n",
    "    clase.append(c)"
   ]
  },
  {
   "cell_type": "markdown",
   "metadata": {},
   "source": [
    "Definimos el bag of words"
   ]
  },
  {
   "cell_type": "code",
   "execution_count": 14,
   "metadata": {},
   "outputs": [
    {
     "data": {
      "text/html": [
       "\n",
       "        <script>\n",
       "            function code_toggle_14790015081496713187() {\n",
       "                $('div.cell.code_cell.rendered.selected').next().find('div.input').toggle();\n",
       "            }\n",
       "\n",
       "            $('div.cell.code_cell.rendered.selected').find(\"div.input\").hide();\n",
       "        </script>\n",
       "\n",
       "        <a href=\"javascript:code_toggle_14790015081496713187()\">Toggle show/hide next cell</a>\n",
       "    "
      ],
      "text/plain": [
       "<IPython.core.display.HTML object>"
      ]
     },
     "execution_count": 14,
     "metadata": {},
     "output_type": "execute_result"
    }
   ],
   "source": [
    "hide_toggle(1)"
   ]
  },
  {
   "cell_type": "code",
   "execution_count": 15,
   "metadata": {},
   "outputs": [
    {
     "data": {
      "text/html": [
       "<div>\n",
       "<style scoped>\n",
       "    .dataframe tbody tr th:only-of-type {\n",
       "        vertical-align: middle;\n",
       "    }\n",
       "\n",
       "    .dataframe tbody tr th {\n",
       "        vertical-align: top;\n",
       "    }\n",
       "\n",
       "    .dataframe thead th {\n",
       "        text-align: right;\n",
       "    }\n",
       "</style>\n",
       "<table border=\"1\" class=\"dataframe\">\n",
       "  <thead>\n",
       "    <tr style=\"text-align: right;\">\n",
       "      <th></th>\n",
       "      <th>01</th>\n",
       "      <th>a1</th>\n",
       "      <th>a14t</th>\n",
       "      <th>a204</th>\n",
       "      <th>a3</th>\n",
       "      <th>aa</th>\n",
       "      <th>abbrevi</th>\n",
       "      <th>aberr</th>\n",
       "      <th>abil</th>\n",
       "      <th>abl</th>\n",
       "      <th>...</th>\n",
       "      <th>zhu</th>\n",
       "      <th>zinc</th>\n",
       "      <th>zocchi</th>\n",
       "      <th>zolotukhin</th>\n",
       "      <th>zone</th>\n",
       "      <th>µf</th>\n",
       "      <th>µg</th>\n",
       "      <th>µl</th>\n",
       "      <th>µm</th>\n",
       "      <th>µmol</th>\n",
       "    </tr>\n",
       "  </thead>\n",
       "  <tbody>\n",
       "    <tr>\n",
       "      <th>0</th>\n",
       "      <td>0</td>\n",
       "      <td>0</td>\n",
       "      <td>0</td>\n",
       "      <td>0</td>\n",
       "      <td>0</td>\n",
       "      <td>0</td>\n",
       "      <td>0</td>\n",
       "      <td>0</td>\n",
       "      <td>0</td>\n",
       "      <td>0</td>\n",
       "      <td>...</td>\n",
       "      <td>0</td>\n",
       "      <td>0</td>\n",
       "      <td>0</td>\n",
       "      <td>0</td>\n",
       "      <td>0</td>\n",
       "      <td>0</td>\n",
       "      <td>0</td>\n",
       "      <td>0</td>\n",
       "      <td>0</td>\n",
       "      <td>0</td>\n",
       "    </tr>\n",
       "    <tr>\n",
       "      <th>1</th>\n",
       "      <td>0</td>\n",
       "      <td>0</td>\n",
       "      <td>0</td>\n",
       "      <td>0</td>\n",
       "      <td>0</td>\n",
       "      <td>0</td>\n",
       "      <td>0</td>\n",
       "      <td>0</td>\n",
       "      <td>0</td>\n",
       "      <td>0</td>\n",
       "      <td>...</td>\n",
       "      <td>0</td>\n",
       "      <td>0</td>\n",
       "      <td>0</td>\n",
       "      <td>0</td>\n",
       "      <td>0</td>\n",
       "      <td>0</td>\n",
       "      <td>0</td>\n",
       "      <td>0</td>\n",
       "      <td>0</td>\n",
       "      <td>0</td>\n",
       "    </tr>\n",
       "    <tr>\n",
       "      <th>2</th>\n",
       "      <td>0</td>\n",
       "      <td>0</td>\n",
       "      <td>0</td>\n",
       "      <td>0</td>\n",
       "      <td>0</td>\n",
       "      <td>0</td>\n",
       "      <td>0</td>\n",
       "      <td>0</td>\n",
       "      <td>0</td>\n",
       "      <td>0</td>\n",
       "      <td>...</td>\n",
       "      <td>0</td>\n",
       "      <td>0</td>\n",
       "      <td>0</td>\n",
       "      <td>0</td>\n",
       "      <td>0</td>\n",
       "      <td>0</td>\n",
       "      <td>0</td>\n",
       "      <td>0</td>\n",
       "      <td>0</td>\n",
       "      <td>0</td>\n",
       "    </tr>\n",
       "    <tr>\n",
       "      <th>3</th>\n",
       "      <td>0</td>\n",
       "      <td>0</td>\n",
       "      <td>0</td>\n",
       "      <td>0</td>\n",
       "      <td>0</td>\n",
       "      <td>0</td>\n",
       "      <td>0</td>\n",
       "      <td>0</td>\n",
       "      <td>0</td>\n",
       "      <td>0</td>\n",
       "      <td>...</td>\n",
       "      <td>0</td>\n",
       "      <td>0</td>\n",
       "      <td>0</td>\n",
       "      <td>0</td>\n",
       "      <td>0</td>\n",
       "      <td>0</td>\n",
       "      <td>0</td>\n",
       "      <td>0</td>\n",
       "      <td>0</td>\n",
       "      <td>0</td>\n",
       "    </tr>\n",
       "    <tr>\n",
       "      <th>4</th>\n",
       "      <td>0</td>\n",
       "      <td>0</td>\n",
       "      <td>0</td>\n",
       "      <td>0</td>\n",
       "      <td>0</td>\n",
       "      <td>0</td>\n",
       "      <td>0</td>\n",
       "      <td>0</td>\n",
       "      <td>0</td>\n",
       "      <td>0</td>\n",
       "      <td>...</td>\n",
       "      <td>0</td>\n",
       "      <td>0</td>\n",
       "      <td>0</td>\n",
       "      <td>0</td>\n",
       "      <td>0</td>\n",
       "      <td>0</td>\n",
       "      <td>0</td>\n",
       "      <td>0</td>\n",
       "      <td>0</td>\n",
       "      <td>0</td>\n",
       "    </tr>\n",
       "    <tr>\n",
       "      <th>...</th>\n",
       "      <td>...</td>\n",
       "      <td>...</td>\n",
       "      <td>...</td>\n",
       "      <td>...</td>\n",
       "      <td>...</td>\n",
       "      <td>...</td>\n",
       "      <td>...</td>\n",
       "      <td>...</td>\n",
       "      <td>...</td>\n",
       "      <td>...</td>\n",
       "      <td>...</td>\n",
       "      <td>...</td>\n",
       "      <td>...</td>\n",
       "      <td>...</td>\n",
       "      <td>...</td>\n",
       "      <td>...</td>\n",
       "      <td>...</td>\n",
       "      <td>...</td>\n",
       "      <td>...</td>\n",
       "      <td>...</td>\n",
       "      <td>...</td>\n",
       "    </tr>\n",
       "    <tr>\n",
       "      <th>1565</th>\n",
       "      <td>0</td>\n",
       "      <td>0</td>\n",
       "      <td>0</td>\n",
       "      <td>0</td>\n",
       "      <td>0</td>\n",
       "      <td>0</td>\n",
       "      <td>0</td>\n",
       "      <td>0</td>\n",
       "      <td>0</td>\n",
       "      <td>0</td>\n",
       "      <td>...</td>\n",
       "      <td>0</td>\n",
       "      <td>0</td>\n",
       "      <td>0</td>\n",
       "      <td>0</td>\n",
       "      <td>0</td>\n",
       "      <td>0</td>\n",
       "      <td>0</td>\n",
       "      <td>0</td>\n",
       "      <td>0</td>\n",
       "      <td>0</td>\n",
       "    </tr>\n",
       "    <tr>\n",
       "      <th>1566</th>\n",
       "      <td>0</td>\n",
       "      <td>0</td>\n",
       "      <td>0</td>\n",
       "      <td>0</td>\n",
       "      <td>0</td>\n",
       "      <td>0</td>\n",
       "      <td>0</td>\n",
       "      <td>0</td>\n",
       "      <td>0</td>\n",
       "      <td>0</td>\n",
       "      <td>...</td>\n",
       "      <td>0</td>\n",
       "      <td>0</td>\n",
       "      <td>0</td>\n",
       "      <td>0</td>\n",
       "      <td>0</td>\n",
       "      <td>0</td>\n",
       "      <td>0</td>\n",
       "      <td>0</td>\n",
       "      <td>0</td>\n",
       "      <td>0</td>\n",
       "    </tr>\n",
       "    <tr>\n",
       "      <th>1567</th>\n",
       "      <td>0</td>\n",
       "      <td>0</td>\n",
       "      <td>0</td>\n",
       "      <td>0</td>\n",
       "      <td>0</td>\n",
       "      <td>0</td>\n",
       "      <td>0</td>\n",
       "      <td>0</td>\n",
       "      <td>0</td>\n",
       "      <td>0</td>\n",
       "      <td>...</td>\n",
       "      <td>0</td>\n",
       "      <td>0</td>\n",
       "      <td>0</td>\n",
       "      <td>0</td>\n",
       "      <td>0</td>\n",
       "      <td>0</td>\n",
       "      <td>0</td>\n",
       "      <td>0</td>\n",
       "      <td>0</td>\n",
       "      <td>0</td>\n",
       "    </tr>\n",
       "    <tr>\n",
       "      <th>1568</th>\n",
       "      <td>0</td>\n",
       "      <td>0</td>\n",
       "      <td>0</td>\n",
       "      <td>0</td>\n",
       "      <td>0</td>\n",
       "      <td>0</td>\n",
       "      <td>0</td>\n",
       "      <td>0</td>\n",
       "      <td>0</td>\n",
       "      <td>0</td>\n",
       "      <td>...</td>\n",
       "      <td>0</td>\n",
       "      <td>0</td>\n",
       "      <td>0</td>\n",
       "      <td>0</td>\n",
       "      <td>0</td>\n",
       "      <td>0</td>\n",
       "      <td>0</td>\n",
       "      <td>0</td>\n",
       "      <td>0</td>\n",
       "      <td>0</td>\n",
       "    </tr>\n",
       "    <tr>\n",
       "      <th>1569</th>\n",
       "      <td>0</td>\n",
       "      <td>0</td>\n",
       "      <td>0</td>\n",
       "      <td>0</td>\n",
       "      <td>0</td>\n",
       "      <td>0</td>\n",
       "      <td>0</td>\n",
       "      <td>0</td>\n",
       "      <td>0</td>\n",
       "      <td>0</td>\n",
       "      <td>...</td>\n",
       "      <td>0</td>\n",
       "      <td>0</td>\n",
       "      <td>0</td>\n",
       "      <td>0</td>\n",
       "      <td>0</td>\n",
       "      <td>0</td>\n",
       "      <td>0</td>\n",
       "      <td>0</td>\n",
       "      <td>0</td>\n",
       "      <td>0</td>\n",
       "    </tr>\n",
       "  </tbody>\n",
       "</table>\n",
       "<p>1570 rows × 2726 columns</p>\n",
       "</div>"
      ],
      "text/plain": [
       "      01  a1  a14t  a204  a3  aa  abbrevi  aberr  abil  abl  ...  zhu  zinc  \\\n",
       "0      0   0     0     0   0   0        0      0     0    0  ...    0     0   \n",
       "1      0   0     0     0   0   0        0      0     0    0  ...    0     0   \n",
       "2      0   0     0     0   0   0        0      0     0    0  ...    0     0   \n",
       "3      0   0     0     0   0   0        0      0     0    0  ...    0     0   \n",
       "4      0   0     0     0   0   0        0      0     0    0  ...    0     0   \n",
       "...   ..  ..   ...   ...  ..  ..      ...    ...   ...  ...  ...  ...   ...   \n",
       "1565   0   0     0     0   0   0        0      0     0    0  ...    0     0   \n",
       "1566   0   0     0     0   0   0        0      0     0    0  ...    0     0   \n",
       "1567   0   0     0     0   0   0        0      0     0    0  ...    0     0   \n",
       "1568   0   0     0     0   0   0        0      0     0    0  ...    0     0   \n",
       "1569   0   0     0     0   0   0        0      0     0    0  ...    0     0   \n",
       "\n",
       "      zocchi  zolotukhin  zone  µf  µg  µl  µm  µmol  \n",
       "0          0           0     0   0   0   0   0     0  \n",
       "1          0           0     0   0   0   0   0     0  \n",
       "2          0           0     0   0   0   0   0     0  \n",
       "3          0           0     0   0   0   0   0     0  \n",
       "4          0           0     0   0   0   0   0     0  \n",
       "...      ...         ...   ...  ..  ..  ..  ..   ...  \n",
       "1565       0           0     0   0   0   0   0     0  \n",
       "1566       0           0     0   0   0   0   0     0  \n",
       "1567       0           0     0   0   0   0   0     0  \n",
       "1568       0           0     0   0   0   0   0     0  \n",
       "1569       0           0     0   0   0   0   0     0  \n",
       "\n",
       "[1570 rows x 2726 columns]"
      ]
     },
     "metadata": {},
     "output_type": "display_data"
    }
   ],
   "source": [
    "# Bag of words\n",
    "from sklearn.feature_extraction.text import CountVectorizer\n",
    "import pandas as pd\n",
    "from sklearn import preprocessing\n",
    "vec  = CountVectorizer()\n",
    "X = vec.fit_transform(corpus)\n",
    "df = pd.DataFrame(X.toarray(), columns=vec.get_feature_names())\n",
    "display(df)"
   ]
  },
  {
   "cell_type": "markdown",
   "metadata": {},
   "source": [
    "Decidimos eliminar las columnas donde la cantidad de 1's es menor al 1% del total de registros = 15,70"
   ]
  },
  {
   "cell_type": "code",
   "execution_count": 16,
   "metadata": {},
   "outputs": [
    {
     "data": {
      "text/html": [
       "\n",
       "        <script>\n",
       "            function code_toggle_2205479018998540841() {\n",
       "                $('div.cell.code_cell.rendered.selected').next().find('div.input').toggle();\n",
       "            }\n",
       "\n",
       "            $('div.cell.code_cell.rendered.selected').find(\"div.input\").hide();\n",
       "        </script>\n",
       "\n",
       "        <a href=\"javascript:code_toggle_2205479018998540841()\">Toggle show/hide next cell</a>\n",
       "    "
      ],
      "text/plain": [
       "<IPython.core.display.HTML object>"
      ]
     },
     "execution_count": 16,
     "metadata": {},
     "output_type": "execute_result"
    }
   ],
   "source": [
    "hide_toggle(1)"
   ]
  },
  {
   "cell_type": "code",
   "execution_count": 17,
   "metadata": {},
   "outputs": [
    {
     "data": {
      "text/html": [
       "<div>\n",
       "<style scoped>\n",
       "    .dataframe tbody tr th:only-of-type {\n",
       "        vertical-align: middle;\n",
       "    }\n",
       "\n",
       "    .dataframe tbody tr th {\n",
       "        vertical-align: top;\n",
       "    }\n",
       "\n",
       "    .dataframe thead th {\n",
       "        text-align: right;\n",
       "    }\n",
       "</style>\n",
       "<table border=\"1\" class=\"dataframe\">\n",
       "  <thead>\n",
       "    <tr style=\"text-align: right;\">\n",
       "      <th></th>\n",
       "      <th>abil</th>\n",
       "      <th>abl</th>\n",
       "      <th>abolish</th>\n",
       "      <th>abrog</th>\n",
       "      <th>absenc</th>\n",
       "      <th>accumul</th>\n",
       "      <th>acetyl</th>\n",
       "      <th>acetyltransferas</th>\n",
       "      <th>acid</th>\n",
       "      <th>act</th>\n",
       "      <th>...</th>\n",
       "      <th>without</th>\n",
       "      <th>work</th>\n",
       "      <th>would</th>\n",
       "      <th>wt</th>\n",
       "      <th>xxfg</th>\n",
       "      <th>y15f</th>\n",
       "      <th>yang</th>\n",
       "      <th>yeast</th>\n",
       "      <th>yy1</th>\n",
       "      <th>µg</th>\n",
       "    </tr>\n",
       "  </thead>\n",
       "  <tbody>\n",
       "    <tr>\n",
       "      <th>0</th>\n",
       "      <td>0</td>\n",
       "      <td>0</td>\n",
       "      <td>0</td>\n",
       "      <td>0</td>\n",
       "      <td>0</td>\n",
       "      <td>0</td>\n",
       "      <td>0</td>\n",
       "      <td>0</td>\n",
       "      <td>0</td>\n",
       "      <td>0</td>\n",
       "      <td>...</td>\n",
       "      <td>0</td>\n",
       "      <td>0</td>\n",
       "      <td>0</td>\n",
       "      <td>0</td>\n",
       "      <td>0</td>\n",
       "      <td>0</td>\n",
       "      <td>0</td>\n",
       "      <td>0</td>\n",
       "      <td>0</td>\n",
       "      <td>0</td>\n",
       "    </tr>\n",
       "    <tr>\n",
       "      <th>1</th>\n",
       "      <td>0</td>\n",
       "      <td>0</td>\n",
       "      <td>0</td>\n",
       "      <td>0</td>\n",
       "      <td>0</td>\n",
       "      <td>0</td>\n",
       "      <td>0</td>\n",
       "      <td>0</td>\n",
       "      <td>0</td>\n",
       "      <td>0</td>\n",
       "      <td>...</td>\n",
       "      <td>0</td>\n",
       "      <td>0</td>\n",
       "      <td>0</td>\n",
       "      <td>0</td>\n",
       "      <td>0</td>\n",
       "      <td>0</td>\n",
       "      <td>0</td>\n",
       "      <td>0</td>\n",
       "      <td>0</td>\n",
       "      <td>0</td>\n",
       "    </tr>\n",
       "    <tr>\n",
       "      <th>2</th>\n",
       "      <td>0</td>\n",
       "      <td>0</td>\n",
       "      <td>0</td>\n",
       "      <td>0</td>\n",
       "      <td>0</td>\n",
       "      <td>0</td>\n",
       "      <td>0</td>\n",
       "      <td>0</td>\n",
       "      <td>0</td>\n",
       "      <td>0</td>\n",
       "      <td>...</td>\n",
       "      <td>0</td>\n",
       "      <td>0</td>\n",
       "      <td>0</td>\n",
       "      <td>0</td>\n",
       "      <td>0</td>\n",
       "      <td>0</td>\n",
       "      <td>0</td>\n",
       "      <td>0</td>\n",
       "      <td>0</td>\n",
       "      <td>0</td>\n",
       "    </tr>\n",
       "    <tr>\n",
       "      <th>3</th>\n",
       "      <td>0</td>\n",
       "      <td>0</td>\n",
       "      <td>0</td>\n",
       "      <td>0</td>\n",
       "      <td>0</td>\n",
       "      <td>0</td>\n",
       "      <td>0</td>\n",
       "      <td>0</td>\n",
       "      <td>0</td>\n",
       "      <td>0</td>\n",
       "      <td>...</td>\n",
       "      <td>0</td>\n",
       "      <td>0</td>\n",
       "      <td>0</td>\n",
       "      <td>0</td>\n",
       "      <td>0</td>\n",
       "      <td>0</td>\n",
       "      <td>0</td>\n",
       "      <td>0</td>\n",
       "      <td>0</td>\n",
       "      <td>0</td>\n",
       "    </tr>\n",
       "    <tr>\n",
       "      <th>4</th>\n",
       "      <td>0</td>\n",
       "      <td>0</td>\n",
       "      <td>0</td>\n",
       "      <td>0</td>\n",
       "      <td>0</td>\n",
       "      <td>0</td>\n",
       "      <td>0</td>\n",
       "      <td>0</td>\n",
       "      <td>0</td>\n",
       "      <td>0</td>\n",
       "      <td>...</td>\n",
       "      <td>0</td>\n",
       "      <td>0</td>\n",
       "      <td>0</td>\n",
       "      <td>0</td>\n",
       "      <td>0</td>\n",
       "      <td>0</td>\n",
       "      <td>0</td>\n",
       "      <td>0</td>\n",
       "      <td>0</td>\n",
       "      <td>0</td>\n",
       "    </tr>\n",
       "    <tr>\n",
       "      <th>...</th>\n",
       "      <td>...</td>\n",
       "      <td>...</td>\n",
       "      <td>...</td>\n",
       "      <td>...</td>\n",
       "      <td>...</td>\n",
       "      <td>...</td>\n",
       "      <td>...</td>\n",
       "      <td>...</td>\n",
       "      <td>...</td>\n",
       "      <td>...</td>\n",
       "      <td>...</td>\n",
       "      <td>...</td>\n",
       "      <td>...</td>\n",
       "      <td>...</td>\n",
       "      <td>...</td>\n",
       "      <td>...</td>\n",
       "      <td>...</td>\n",
       "      <td>...</td>\n",
       "      <td>...</td>\n",
       "      <td>...</td>\n",
       "      <td>...</td>\n",
       "    </tr>\n",
       "    <tr>\n",
       "      <th>1565</th>\n",
       "      <td>0</td>\n",
       "      <td>0</td>\n",
       "      <td>0</td>\n",
       "      <td>0</td>\n",
       "      <td>0</td>\n",
       "      <td>0</td>\n",
       "      <td>0</td>\n",
       "      <td>0</td>\n",
       "      <td>0</td>\n",
       "      <td>0</td>\n",
       "      <td>...</td>\n",
       "      <td>0</td>\n",
       "      <td>0</td>\n",
       "      <td>0</td>\n",
       "      <td>0</td>\n",
       "      <td>0</td>\n",
       "      <td>0</td>\n",
       "      <td>0</td>\n",
       "      <td>0</td>\n",
       "      <td>0</td>\n",
       "      <td>0</td>\n",
       "    </tr>\n",
       "    <tr>\n",
       "      <th>1566</th>\n",
       "      <td>0</td>\n",
       "      <td>0</td>\n",
       "      <td>0</td>\n",
       "      <td>0</td>\n",
       "      <td>0</td>\n",
       "      <td>0</td>\n",
       "      <td>0</td>\n",
       "      <td>0</td>\n",
       "      <td>0</td>\n",
       "      <td>0</td>\n",
       "      <td>...</td>\n",
       "      <td>0</td>\n",
       "      <td>0</td>\n",
       "      <td>0</td>\n",
       "      <td>0</td>\n",
       "      <td>0</td>\n",
       "      <td>0</td>\n",
       "      <td>0</td>\n",
       "      <td>0</td>\n",
       "      <td>0</td>\n",
       "      <td>0</td>\n",
       "    </tr>\n",
       "    <tr>\n",
       "      <th>1567</th>\n",
       "      <td>0</td>\n",
       "      <td>0</td>\n",
       "      <td>0</td>\n",
       "      <td>0</td>\n",
       "      <td>0</td>\n",
       "      <td>0</td>\n",
       "      <td>0</td>\n",
       "      <td>0</td>\n",
       "      <td>0</td>\n",
       "      <td>0</td>\n",
       "      <td>...</td>\n",
       "      <td>0</td>\n",
       "      <td>0</td>\n",
       "      <td>0</td>\n",
       "      <td>0</td>\n",
       "      <td>0</td>\n",
       "      <td>0</td>\n",
       "      <td>0</td>\n",
       "      <td>0</td>\n",
       "      <td>0</td>\n",
       "      <td>0</td>\n",
       "    </tr>\n",
       "    <tr>\n",
       "      <th>1568</th>\n",
       "      <td>0</td>\n",
       "      <td>0</td>\n",
       "      <td>0</td>\n",
       "      <td>0</td>\n",
       "      <td>0</td>\n",
       "      <td>0</td>\n",
       "      <td>0</td>\n",
       "      <td>0</td>\n",
       "      <td>0</td>\n",
       "      <td>0</td>\n",
       "      <td>...</td>\n",
       "      <td>0</td>\n",
       "      <td>0</td>\n",
       "      <td>0</td>\n",
       "      <td>0</td>\n",
       "      <td>0</td>\n",
       "      <td>0</td>\n",
       "      <td>0</td>\n",
       "      <td>0</td>\n",
       "      <td>0</td>\n",
       "      <td>0</td>\n",
       "    </tr>\n",
       "    <tr>\n",
       "      <th>1569</th>\n",
       "      <td>0</td>\n",
       "      <td>0</td>\n",
       "      <td>0</td>\n",
       "      <td>0</td>\n",
       "      <td>0</td>\n",
       "      <td>0</td>\n",
       "      <td>0</td>\n",
       "      <td>0</td>\n",
       "      <td>0</td>\n",
       "      <td>0</td>\n",
       "      <td>...</td>\n",
       "      <td>0</td>\n",
       "      <td>0</td>\n",
       "      <td>0</td>\n",
       "      <td>0</td>\n",
       "      <td>0</td>\n",
       "      <td>0</td>\n",
       "      <td>0</td>\n",
       "      <td>0</td>\n",
       "      <td>0</td>\n",
       "      <td>0</td>\n",
       "    </tr>\n",
       "  </tbody>\n",
       "</table>\n",
       "<p>1570 rows × 677 columns</p>\n",
       "</div>"
      ],
      "text/plain": [
       "      abil  abl  abolish  abrog  absenc  accumul  acetyl  acetyltransferas  \\\n",
       "0        0    0        0      0       0        0       0                 0   \n",
       "1        0    0        0      0       0        0       0                 0   \n",
       "2        0    0        0      0       0        0       0                 0   \n",
       "3        0    0        0      0       0        0       0                 0   \n",
       "4        0    0        0      0       0        0       0                 0   \n",
       "...    ...  ...      ...    ...     ...      ...     ...               ...   \n",
       "1565     0    0        0      0       0        0       0                 0   \n",
       "1566     0    0        0      0       0        0       0                 0   \n",
       "1567     0    0        0      0       0        0       0                 0   \n",
       "1568     0    0        0      0       0        0       0                 0   \n",
       "1569     0    0        0      0       0        0       0                 0   \n",
       "\n",
       "      acid  act  ...  without  work  would  wt  xxfg  y15f  yang  yeast  yy1  \\\n",
       "0        0    0  ...        0     0      0   0     0     0     0      0    0   \n",
       "1        0    0  ...        0     0      0   0     0     0     0      0    0   \n",
       "2        0    0  ...        0     0      0   0     0     0     0      0    0   \n",
       "3        0    0  ...        0     0      0   0     0     0     0      0    0   \n",
       "4        0    0  ...        0     0      0   0     0     0     0      0    0   \n",
       "...    ...  ...  ...      ...   ...    ...  ..   ...   ...   ...    ...  ...   \n",
       "1565     0    0  ...        0     0      0   0     0     0     0      0    0   \n",
       "1566     0    0  ...        0     0      0   0     0     0     0      0    0   \n",
       "1567     0    0  ...        0     0      0   0     0     0     0      0    0   \n",
       "1568     0    0  ...        0     0      0   0     0     0     0      0    0   \n",
       "1569     0    0  ...        0     0      0   0     0     0     0      0    0   \n",
       "\n",
       "      µg  \n",
       "0      0  \n",
       "1      0  \n",
       "2      0  \n",
       "3      0  \n",
       "4      0  \n",
       "...   ..  \n",
       "1565   0  \n",
       "1566   0  \n",
       "1567   0  \n",
       "1568   0  \n",
       "1569   0  \n",
       "\n",
       "[1570 rows x 677 columns]"
      ]
     },
     "metadata": {},
     "output_type": "display_data"
    }
   ],
   "source": [
    "import pandas as pd\n",
    "import numpy as np\n",
    "\n",
    "def count(dataframe, index_list, values_list):\n",
    "    resultado = dataframe\n",
    "    for i in range(len(index_list)):\n",
    "        #Se obtiene el nombre de la columna y el valor \n",
    "        index = index_list[i]\n",
    "        value = values_list[i]\n",
    "\n",
    "        #Se filtra las filas que cumplen con la condicion de esa columna \n",
    "        resultado = resultado[resultado[index] == value]\n",
    "    #Devuelve el numero de instancias\n",
    "    c =resultado.shape[0]\n",
    "    return c\n",
    "\n",
    "columns_to_eliminate = [] \n",
    "for column in df:\n",
    "    c = count(df,[column], [1])\n",
    "    if (c <= 8):\n",
    "        columns_to_eliminate.append(column)\n",
    "        \n",
    "for column in columns_to_eliminate:\n",
    "    df = df.drop([column], axis=1)\n",
    "\n",
    "display(df)"
   ]
  },
  {
   "cell_type": "markdown",
   "metadata": {},
   "source": [
    "Añadimos la columna clase"
   ]
  },
  {
   "cell_type": "code",
   "execution_count": 18,
   "metadata": {},
   "outputs": [
    {
     "data": {
      "text/html": [
       "\n",
       "        <script>\n",
       "            function code_toggle_8461011077926896347() {\n",
       "                $('div.cell.code_cell.rendered.selected').next().find('div.input').toggle();\n",
       "            }\n",
       "\n",
       "            $('div.cell.code_cell.rendered.selected').find(\"div.input\").hide();\n",
       "        </script>\n",
       "\n",
       "        <a href=\"javascript:code_toggle_8461011077926896347()\">Toggle show/hide next cell</a>\n",
       "    "
      ],
      "text/plain": [
       "<IPython.core.display.HTML object>"
      ]
     },
     "execution_count": 18,
     "metadata": {},
     "output_type": "execute_result"
    }
   ],
   "source": [
    "hide_toggle(1)"
   ]
  },
  {
   "cell_type": "code",
   "execution_count": 19,
   "metadata": {},
   "outputs": [
    {
     "data": {
      "text/html": [
       "<div>\n",
       "<style scoped>\n",
       "    .dataframe tbody tr th:only-of-type {\n",
       "        vertical-align: middle;\n",
       "    }\n",
       "\n",
       "    .dataframe tbody tr th {\n",
       "        vertical-align: top;\n",
       "    }\n",
       "\n",
       "    .dataframe thead th {\n",
       "        text-align: right;\n",
       "    }\n",
       "</style>\n",
       "<table border=\"1\" class=\"dataframe\">\n",
       "  <thead>\n",
       "    <tr style=\"text-align: right;\">\n",
       "      <th></th>\n",
       "      <th>abil</th>\n",
       "      <th>abl</th>\n",
       "      <th>abolish</th>\n",
       "      <th>abrog</th>\n",
       "      <th>absenc</th>\n",
       "      <th>accumul</th>\n",
       "      <th>acetyl</th>\n",
       "      <th>acetyltransferas</th>\n",
       "      <th>acid</th>\n",
       "      <th>act</th>\n",
       "      <th>...</th>\n",
       "      <th>work</th>\n",
       "      <th>would</th>\n",
       "      <th>wt</th>\n",
       "      <th>xxfg</th>\n",
       "      <th>y15f</th>\n",
       "      <th>yang</th>\n",
       "      <th>yeast</th>\n",
       "      <th>yy1</th>\n",
       "      <th>µg</th>\n",
       "      <th>clase</th>\n",
       "    </tr>\n",
       "  </thead>\n",
       "  <tbody>\n",
       "    <tr>\n",
       "      <th>0</th>\n",
       "      <td>0</td>\n",
       "      <td>0</td>\n",
       "      <td>0</td>\n",
       "      <td>0</td>\n",
       "      <td>0</td>\n",
       "      <td>0</td>\n",
       "      <td>0</td>\n",
       "      <td>0</td>\n",
       "      <td>0</td>\n",
       "      <td>0</td>\n",
       "      <td>...</td>\n",
       "      <td>0</td>\n",
       "      <td>0</td>\n",
       "      <td>0</td>\n",
       "      <td>0</td>\n",
       "      <td>0</td>\n",
       "      <td>0</td>\n",
       "      <td>0</td>\n",
       "      <td>0</td>\n",
       "      <td>0</td>\n",
       "      <td>0</td>\n",
       "    </tr>\n",
       "    <tr>\n",
       "      <th>1</th>\n",
       "      <td>0</td>\n",
       "      <td>0</td>\n",
       "      <td>0</td>\n",
       "      <td>0</td>\n",
       "      <td>0</td>\n",
       "      <td>0</td>\n",
       "      <td>0</td>\n",
       "      <td>0</td>\n",
       "      <td>0</td>\n",
       "      <td>0</td>\n",
       "      <td>...</td>\n",
       "      <td>0</td>\n",
       "      <td>0</td>\n",
       "      <td>0</td>\n",
       "      <td>0</td>\n",
       "      <td>0</td>\n",
       "      <td>0</td>\n",
       "      <td>0</td>\n",
       "      <td>0</td>\n",
       "      <td>0</td>\n",
       "      <td>0</td>\n",
       "    </tr>\n",
       "    <tr>\n",
       "      <th>2</th>\n",
       "      <td>0</td>\n",
       "      <td>0</td>\n",
       "      <td>0</td>\n",
       "      <td>0</td>\n",
       "      <td>0</td>\n",
       "      <td>0</td>\n",
       "      <td>0</td>\n",
       "      <td>0</td>\n",
       "      <td>0</td>\n",
       "      <td>0</td>\n",
       "      <td>...</td>\n",
       "      <td>0</td>\n",
       "      <td>0</td>\n",
       "      <td>0</td>\n",
       "      <td>0</td>\n",
       "      <td>0</td>\n",
       "      <td>0</td>\n",
       "      <td>0</td>\n",
       "      <td>0</td>\n",
       "      <td>0</td>\n",
       "      <td>0</td>\n",
       "    </tr>\n",
       "    <tr>\n",
       "      <th>3</th>\n",
       "      <td>0</td>\n",
       "      <td>0</td>\n",
       "      <td>0</td>\n",
       "      <td>0</td>\n",
       "      <td>0</td>\n",
       "      <td>0</td>\n",
       "      <td>0</td>\n",
       "      <td>0</td>\n",
       "      <td>0</td>\n",
       "      <td>0</td>\n",
       "      <td>...</td>\n",
       "      <td>0</td>\n",
       "      <td>0</td>\n",
       "      <td>0</td>\n",
       "      <td>0</td>\n",
       "      <td>0</td>\n",
       "      <td>0</td>\n",
       "      <td>0</td>\n",
       "      <td>0</td>\n",
       "      <td>0</td>\n",
       "      <td>0</td>\n",
       "    </tr>\n",
       "    <tr>\n",
       "      <th>4</th>\n",
       "      <td>0</td>\n",
       "      <td>0</td>\n",
       "      <td>0</td>\n",
       "      <td>0</td>\n",
       "      <td>0</td>\n",
       "      <td>0</td>\n",
       "      <td>0</td>\n",
       "      <td>0</td>\n",
       "      <td>0</td>\n",
       "      <td>0</td>\n",
       "      <td>...</td>\n",
       "      <td>0</td>\n",
       "      <td>0</td>\n",
       "      <td>0</td>\n",
       "      <td>0</td>\n",
       "      <td>0</td>\n",
       "      <td>0</td>\n",
       "      <td>0</td>\n",
       "      <td>0</td>\n",
       "      <td>0</td>\n",
       "      <td>0</td>\n",
       "    </tr>\n",
       "    <tr>\n",
       "      <th>...</th>\n",
       "      <td>...</td>\n",
       "      <td>...</td>\n",
       "      <td>...</td>\n",
       "      <td>...</td>\n",
       "      <td>...</td>\n",
       "      <td>...</td>\n",
       "      <td>...</td>\n",
       "      <td>...</td>\n",
       "      <td>...</td>\n",
       "      <td>...</td>\n",
       "      <td>...</td>\n",
       "      <td>...</td>\n",
       "      <td>...</td>\n",
       "      <td>...</td>\n",
       "      <td>...</td>\n",
       "      <td>...</td>\n",
       "      <td>...</td>\n",
       "      <td>...</td>\n",
       "      <td>...</td>\n",
       "      <td>...</td>\n",
       "      <td>...</td>\n",
       "    </tr>\n",
       "    <tr>\n",
       "      <th>1565</th>\n",
       "      <td>0</td>\n",
       "      <td>0</td>\n",
       "      <td>0</td>\n",
       "      <td>0</td>\n",
       "      <td>0</td>\n",
       "      <td>0</td>\n",
       "      <td>0</td>\n",
       "      <td>0</td>\n",
       "      <td>0</td>\n",
       "      <td>0</td>\n",
       "      <td>...</td>\n",
       "      <td>0</td>\n",
       "      <td>0</td>\n",
       "      <td>0</td>\n",
       "      <td>0</td>\n",
       "      <td>0</td>\n",
       "      <td>0</td>\n",
       "      <td>0</td>\n",
       "      <td>0</td>\n",
       "      <td>0</td>\n",
       "      <td>23</td>\n",
       "    </tr>\n",
       "    <tr>\n",
       "      <th>1566</th>\n",
       "      <td>0</td>\n",
       "      <td>0</td>\n",
       "      <td>0</td>\n",
       "      <td>0</td>\n",
       "      <td>0</td>\n",
       "      <td>0</td>\n",
       "      <td>0</td>\n",
       "      <td>0</td>\n",
       "      <td>0</td>\n",
       "      <td>0</td>\n",
       "      <td>...</td>\n",
       "      <td>0</td>\n",
       "      <td>0</td>\n",
       "      <td>0</td>\n",
       "      <td>0</td>\n",
       "      <td>0</td>\n",
       "      <td>0</td>\n",
       "      <td>0</td>\n",
       "      <td>0</td>\n",
       "      <td>0</td>\n",
       "      <td>23</td>\n",
       "    </tr>\n",
       "    <tr>\n",
       "      <th>1567</th>\n",
       "      <td>0</td>\n",
       "      <td>0</td>\n",
       "      <td>0</td>\n",
       "      <td>0</td>\n",
       "      <td>0</td>\n",
       "      <td>0</td>\n",
       "      <td>0</td>\n",
       "      <td>0</td>\n",
       "      <td>0</td>\n",
       "      <td>0</td>\n",
       "      <td>...</td>\n",
       "      <td>0</td>\n",
       "      <td>0</td>\n",
       "      <td>0</td>\n",
       "      <td>0</td>\n",
       "      <td>0</td>\n",
       "      <td>0</td>\n",
       "      <td>0</td>\n",
       "      <td>0</td>\n",
       "      <td>0</td>\n",
       "      <td>23</td>\n",
       "    </tr>\n",
       "    <tr>\n",
       "      <th>1568</th>\n",
       "      <td>0</td>\n",
       "      <td>0</td>\n",
       "      <td>0</td>\n",
       "      <td>0</td>\n",
       "      <td>0</td>\n",
       "      <td>0</td>\n",
       "      <td>0</td>\n",
       "      <td>0</td>\n",
       "      <td>0</td>\n",
       "      <td>0</td>\n",
       "      <td>...</td>\n",
       "      <td>0</td>\n",
       "      <td>0</td>\n",
       "      <td>0</td>\n",
       "      <td>0</td>\n",
       "      <td>0</td>\n",
       "      <td>0</td>\n",
       "      <td>0</td>\n",
       "      <td>0</td>\n",
       "      <td>0</td>\n",
       "      <td>23</td>\n",
       "    </tr>\n",
       "    <tr>\n",
       "      <th>1569</th>\n",
       "      <td>0</td>\n",
       "      <td>0</td>\n",
       "      <td>0</td>\n",
       "      <td>0</td>\n",
       "      <td>0</td>\n",
       "      <td>0</td>\n",
       "      <td>0</td>\n",
       "      <td>0</td>\n",
       "      <td>0</td>\n",
       "      <td>0</td>\n",
       "      <td>...</td>\n",
       "      <td>0</td>\n",
       "      <td>0</td>\n",
       "      <td>0</td>\n",
       "      <td>0</td>\n",
       "      <td>0</td>\n",
       "      <td>0</td>\n",
       "      <td>0</td>\n",
       "      <td>0</td>\n",
       "      <td>0</td>\n",
       "      <td>23</td>\n",
       "    </tr>\n",
       "  </tbody>\n",
       "</table>\n",
       "<p>1570 rows × 678 columns</p>\n",
       "</div>"
      ],
      "text/plain": [
       "      abil  abl  abolish  abrog  absenc  accumul  acetyl  acetyltransferas  \\\n",
       "0        0    0        0      0       0        0       0                 0   \n",
       "1        0    0        0      0       0        0       0                 0   \n",
       "2        0    0        0      0       0        0       0                 0   \n",
       "3        0    0        0      0       0        0       0                 0   \n",
       "4        0    0        0      0       0        0       0                 0   \n",
       "...    ...  ...      ...    ...     ...      ...     ...               ...   \n",
       "1565     0    0        0      0       0        0       0                 0   \n",
       "1566     0    0        0      0       0        0       0                 0   \n",
       "1567     0    0        0      0       0        0       0                 0   \n",
       "1568     0    0        0      0       0        0       0                 0   \n",
       "1569     0    0        0      0       0        0       0                 0   \n",
       "\n",
       "      acid  act  ...  work  would  wt  xxfg  y15f  yang  yeast  yy1  µg  clase  \n",
       "0        0    0  ...     0      0   0     0     0     0      0    0   0      0  \n",
       "1        0    0  ...     0      0   0     0     0     0      0    0   0      0  \n",
       "2        0    0  ...     0      0   0     0     0     0      0    0   0      0  \n",
       "3        0    0  ...     0      0   0     0     0     0      0    0   0      0  \n",
       "4        0    0  ...     0      0   0     0     0     0      0    0   0      0  \n",
       "...    ...  ...  ...   ...    ...  ..   ...   ...   ...    ...  ...  ..    ...  \n",
       "1565     0    0  ...     0      0   0     0     0     0      0    0   0     23  \n",
       "1566     0    0  ...     0      0   0     0     0     0      0    0   0     23  \n",
       "1567     0    0  ...     0      0   0     0     0     0      0    0   0     23  \n",
       "1568     0    0  ...     0      0   0     0     0     0      0    0   0     23  \n",
       "1569     0    0  ...     0      0   0     0     0     0      0    0   0     23  \n",
       "\n",
       "[1570 rows x 678 columns]"
      ]
     },
     "execution_count": 19,
     "metadata": {},
     "output_type": "execute_result"
    }
   ],
   "source": [
    "# añadimos la columna clase\n",
    "encoder = preprocessing.LabelEncoder()\n",
    "encode_clase = encoder.fit_transform(clase)\n",
    "df['clase'] = encode_clase\n",
    "df"
   ]
  },
  {
   "cell_type": "markdown",
   "metadata": {},
   "source": [
    "Procedemos a separar el dataset de entrenamiento y de prueba."
   ]
  },
  {
   "cell_type": "code",
   "execution_count": 20,
   "metadata": {},
   "outputs": [
    {
     "data": {
      "text/html": [
       "\n",
       "        <script>\n",
       "            function code_toggle_9413711004416929128() {\n",
       "                $('div.cell.code_cell.rendered.selected').next().find('div.input').toggle();\n",
       "            }\n",
       "\n",
       "            $('div.cell.code_cell.rendered.selected').find(\"div.input\").hide();\n",
       "        </script>\n",
       "\n",
       "        <a href=\"javascript:code_toggle_9413711004416929128()\">Toggle show/hide next cell</a>\n",
       "    "
      ],
      "text/plain": [
       "<IPython.core.display.HTML object>"
      ]
     },
     "execution_count": 20,
     "metadata": {},
     "output_type": "execute_result"
    }
   ],
   "source": [
    "hide_toggle(1)"
   ]
  },
  {
   "cell_type": "code",
   "execution_count": 21,
   "metadata": {},
   "outputs": [],
   "source": [
    "## separar training data y test data\n",
    "X = df.iloc[:,0:677]\n",
    "Y = df.iloc[:,677]\n",
    "\n",
    "from sklearn.model_selection import train_test_split\n",
    "\n",
    "X_train, X_test, Y_train, Y_test = train_test_split(X,Y,test_size = 0.25)"
   ]
  },
  {
   "cell_type": "markdown",
   "metadata": {},
   "source": [
    "Los modelos que elegimos para realizar las pruebas fueron: **Support Vector Machines (SVM)**, **Gaussian Naive Bayes**, **Nearest centroid classifier**, **Multi-layer perceptron (MLP)**"
   ]
  },
  {
   "cell_type": "code",
   "execution_count": 22,
   "metadata": {},
   "outputs": [
    {
     "data": {
      "text/html": [
       "\n",
       "        <script>\n",
       "            function code_toggle_11485152442612725367() {\n",
       "                $('div.cell.code_cell.rendered.selected').next().find('div.input').toggle();\n",
       "            }\n",
       "\n",
       "            $('div.cell.code_cell.rendered.selected').find(\"div.input\").hide();\n",
       "        </script>\n",
       "\n",
       "        <a href=\"javascript:code_toggle_11485152442612725367()\">Toggle show/hide next cell</a>\n",
       "    "
      ],
      "text/plain": [
       "<IPython.core.display.HTML object>"
      ]
     },
     "execution_count": 22,
     "metadata": {},
     "output_type": "execute_result"
    }
   ],
   "source": [
    "hide_toggle(1)"
   ]
  },
  {
   "cell_type": "code",
   "execution_count": 23,
   "metadata": {},
   "outputs": [],
   "source": [
    "# Probando modelos \n",
    "\n",
    "# SVM\n",
    "from sklearn import svm\n",
    "# Naive Bayes\n",
    "from sklearn.naive_bayes import GaussianNB\n",
    "# Nearest Centroid\n",
    "from sklearn.neighbors import NearestCentroid\n",
    "#Neural Network\n",
    "from sklearn.neural_network import MLPClassifier"
   ]
  },
  {
   "cell_type": "markdown",
   "metadata": {},
   "source": [
    "## 1. Inicialización: SVM"
   ]
  },
  {
   "cell_type": "code",
   "execution_count": 24,
   "metadata": {},
   "outputs": [
    {
     "data": {
      "text/html": [
       "\n",
       "        <script>\n",
       "            function code_toggle_16308010455003023731() {\n",
       "                $('div.cell.code_cell.rendered.selected').next().find('div.input').toggle();\n",
       "            }\n",
       "\n",
       "            $('div.cell.code_cell.rendered.selected').find(\"div.input\").hide();\n",
       "        </script>\n",
       "\n",
       "        <a href=\"javascript:code_toggle_16308010455003023731()\">Toggle show/hide next cell</a>\n",
       "    "
      ],
      "text/plain": [
       "<IPython.core.display.HTML object>"
      ]
     },
     "execution_count": 24,
     "metadata": {},
     "output_type": "execute_result"
    }
   ],
   "source": [
    "hide_toggle(1)"
   ]
  },
  {
   "cell_type": "code",
   "execution_count": 25,
   "metadata": {},
   "outputs": [],
   "source": [
    "# Suport Vector Machine\n",
    "clf = svm.SVC(decision_function_shape='ovo')"
   ]
  },
  {
   "cell_type": "markdown",
   "metadata": {},
   "source": [
    "## Fase de Entrenamiento: SVM"
   ]
  },
  {
   "cell_type": "code",
   "execution_count": 26,
   "metadata": {},
   "outputs": [
    {
     "data": {
      "text/html": [
       "\n",
       "        <script>\n",
       "            function code_toggle_13412735730395492647() {\n",
       "                $('div.cell.code_cell.rendered.selected').next().find('div.input').toggle();\n",
       "            }\n",
       "\n",
       "            $('div.cell.code_cell.rendered.selected').find(\"div.input\").hide();\n",
       "        </script>\n",
       "\n",
       "        <a href=\"javascript:code_toggle_13412735730395492647()\">Toggle show/hide next cell</a>\n",
       "    "
      ],
      "text/plain": [
       "<IPython.core.display.HTML object>"
      ]
     },
     "execution_count": 26,
     "metadata": {},
     "output_type": "execute_result"
    }
   ],
   "source": [
    "hide_toggle(1)"
   ]
  },
  {
   "cell_type": "code",
   "execution_count": 27,
   "metadata": {},
   "outputs": [
    {
     "data": {
      "text/plain": [
       "SVC(decision_function_shape='ovo')"
      ]
     },
     "execution_count": 27,
     "metadata": {},
     "output_type": "execute_result"
    }
   ],
   "source": [
    "clf.fit(X_train, Y_train)"
   ]
  },
  {
   "cell_type": "markdown",
   "metadata": {},
   "source": [
    "## Fase de Test: SVM"
   ]
  },
  {
   "cell_type": "code",
   "execution_count": 28,
   "metadata": {},
   "outputs": [
    {
     "data": {
      "text/html": [
       "\n",
       "        <script>\n",
       "            function code_toggle_8085650982859404365() {\n",
       "                $('div.cell.code_cell.rendered.selected').next().find('div.input').toggle();\n",
       "            }\n",
       "\n",
       "            $('div.cell.code_cell.rendered.selected').find(\"div.input\").hide();\n",
       "        </script>\n",
       "\n",
       "        <a href=\"javascript:code_toggle_8085650982859404365()\">Toggle show/hide next cell</a>\n",
       "    "
      ],
      "text/plain": [
       "<IPython.core.display.HTML object>"
      ]
     },
     "execution_count": 28,
     "metadata": {},
     "output_type": "execute_result"
    }
   ],
   "source": [
    "hide_toggle(1)"
   ]
  },
  {
   "cell_type": "code",
   "execution_count": 29,
   "metadata": {},
   "outputs": [],
   "source": [
    "resultSVM = clf.predict(X_test)"
   ]
  },
  {
   "cell_type": "markdown",
   "metadata": {},
   "source": [
    "## 2. Inicialización: Gaussian Naive Bayes"
   ]
  },
  {
   "cell_type": "code",
   "execution_count": 30,
   "metadata": {},
   "outputs": [
    {
     "data": {
      "text/html": [
       "\n",
       "        <script>\n",
       "            function code_toggle_16531483353959310873() {\n",
       "                $('div.cell.code_cell.rendered.selected').next().find('div.input').toggle();\n",
       "            }\n",
       "\n",
       "            $('div.cell.code_cell.rendered.selected').find(\"div.input\").hide();\n",
       "        </script>\n",
       "\n",
       "        <a href=\"javascript:code_toggle_16531483353959310873()\">Toggle show/hide next cell</a>\n",
       "    "
      ],
      "text/plain": [
       "<IPython.core.display.HTML object>"
      ]
     },
     "execution_count": 30,
     "metadata": {},
     "output_type": "execute_result"
    }
   ],
   "source": [
    "hide_toggle(1)"
   ]
  },
  {
   "cell_type": "code",
   "execution_count": 31,
   "metadata": {},
   "outputs": [],
   "source": [
    "gnb = GaussianNB()"
   ]
  },
  {
   "cell_type": "markdown",
   "metadata": {},
   "source": [
    "## Fase de Entrenamiento: Gaussian Naive Bayes"
   ]
  },
  {
   "cell_type": "code",
   "execution_count": 32,
   "metadata": {},
   "outputs": [
    {
     "data": {
      "text/html": [
       "\n",
       "        <script>\n",
       "            function code_toggle_18304777838771326432() {\n",
       "                $('div.cell.code_cell.rendered.selected').next().find('div.input').toggle();\n",
       "            }\n",
       "\n",
       "            $('div.cell.code_cell.rendered.selected').find(\"div.input\").hide();\n",
       "        </script>\n",
       "\n",
       "        <a href=\"javascript:code_toggle_18304777838771326432()\">Toggle show/hide next cell</a>\n",
       "    "
      ],
      "text/plain": [
       "<IPython.core.display.HTML object>"
      ]
     },
     "execution_count": 32,
     "metadata": {},
     "output_type": "execute_result"
    }
   ],
   "source": [
    "hide_toggle(1)"
   ]
  },
  {
   "cell_type": "code",
   "execution_count": 33,
   "metadata": {},
   "outputs": [
    {
     "data": {
      "text/plain": [
       "GaussianNB()"
      ]
     },
     "execution_count": 33,
     "metadata": {},
     "output_type": "execute_result"
    }
   ],
   "source": [
    "gnb.fit(X_train, Y_train)"
   ]
  },
  {
   "cell_type": "markdown",
   "metadata": {},
   "source": [
    "## Fase de Test: Gaussian Naive Bayes"
   ]
  },
  {
   "cell_type": "code",
   "execution_count": 34,
   "metadata": {},
   "outputs": [
    {
     "data": {
      "text/html": [
       "\n",
       "        <script>\n",
       "            function code_toggle_14854718857874284334() {\n",
       "                $('div.cell.code_cell.rendered.selected').next().find('div.input').toggle();\n",
       "            }\n",
       "\n",
       "            $('div.cell.code_cell.rendered.selected').find(\"div.input\").hide();\n",
       "        </script>\n",
       "\n",
       "        <a href=\"javascript:code_toggle_14854718857874284334()\">Toggle show/hide next cell</a>\n",
       "    "
      ],
      "text/plain": [
       "<IPython.core.display.HTML object>"
      ]
     },
     "execution_count": 34,
     "metadata": {},
     "output_type": "execute_result"
    }
   ],
   "source": [
    "hide_toggle(1)"
   ]
  },
  {
   "cell_type": "code",
   "execution_count": 35,
   "metadata": {},
   "outputs": [],
   "source": [
    "resultGNB = gnb.predict(X_test)"
   ]
  },
  {
   "cell_type": "markdown",
   "metadata": {},
   "source": [
    "## 3. Inicialización: Nearest centroid classifier"
   ]
  },
  {
   "cell_type": "code",
   "execution_count": 36,
   "metadata": {},
   "outputs": [
    {
     "data": {
      "text/html": [
       "\n",
       "        <script>\n",
       "            function code_toggle_3677986252673268161() {\n",
       "                $('div.cell.code_cell.rendered.selected').next().find('div.input').toggle();\n",
       "            }\n",
       "\n",
       "            $('div.cell.code_cell.rendered.selected').find(\"div.input\").hide();\n",
       "        </script>\n",
       "\n",
       "        <a href=\"javascript:code_toggle_3677986252673268161()\">Toggle show/hide next cell</a>\n",
       "    "
      ],
      "text/plain": [
       "<IPython.core.display.HTML object>"
      ]
     },
     "execution_count": 36,
     "metadata": {},
     "output_type": "execute_result"
    }
   ],
   "source": [
    "hide_toggle(1)"
   ]
  },
  {
   "cell_type": "code",
   "execution_count": 37,
   "metadata": {},
   "outputs": [],
   "source": [
    "nc = NearestCentroid()"
   ]
  },
  {
   "cell_type": "markdown",
   "metadata": {},
   "source": [
    "## Fase de Entrenamiento: Nearest centroid classifier"
   ]
  },
  {
   "cell_type": "code",
   "execution_count": 38,
   "metadata": {},
   "outputs": [
    {
     "data": {
      "text/html": [
       "\n",
       "        <script>\n",
       "            function code_toggle_16432566628260897045() {\n",
       "                $('div.cell.code_cell.rendered.selected').next().find('div.input').toggle();\n",
       "            }\n",
       "\n",
       "            $('div.cell.code_cell.rendered.selected').find(\"div.input\").hide();\n",
       "        </script>\n",
       "\n",
       "        <a href=\"javascript:code_toggle_16432566628260897045()\">Toggle show/hide next cell</a>\n",
       "    "
      ],
      "text/plain": [
       "<IPython.core.display.HTML object>"
      ]
     },
     "execution_count": 38,
     "metadata": {},
     "output_type": "execute_result"
    }
   ],
   "source": [
    "hide_toggle(1)"
   ]
  },
  {
   "cell_type": "code",
   "execution_count": 39,
   "metadata": {},
   "outputs": [
    {
     "data": {
      "text/plain": [
       "NearestCentroid()"
      ]
     },
     "execution_count": 39,
     "metadata": {},
     "output_type": "execute_result"
    }
   ],
   "source": [
    "nc.fit(X_train, Y_train)"
   ]
  },
  {
   "cell_type": "markdown",
   "metadata": {},
   "source": [
    "## Fase de Test: Nearest centroid classifier"
   ]
  },
  {
   "cell_type": "code",
   "execution_count": 40,
   "metadata": {},
   "outputs": [
    {
     "data": {
      "text/html": [
       "\n",
       "        <script>\n",
       "            function code_toggle_1571660997495046480() {\n",
       "                $('div.cell.code_cell.rendered.selected').next().find('div.input').toggle();\n",
       "            }\n",
       "\n",
       "            $('div.cell.code_cell.rendered.selected').find(\"div.input\").hide();\n",
       "        </script>\n",
       "\n",
       "        <a href=\"javascript:code_toggle_1571660997495046480()\">Toggle show/hide next cell</a>\n",
       "    "
      ],
      "text/plain": [
       "<IPython.core.display.HTML object>"
      ]
     },
     "execution_count": 40,
     "metadata": {},
     "output_type": "execute_result"
    }
   ],
   "source": [
    "hide_toggle(1)"
   ]
  },
  {
   "cell_type": "code",
   "execution_count": 41,
   "metadata": {},
   "outputs": [],
   "source": [
    "resultNC = nc.predict(X_test)"
   ]
  },
  {
   "cell_type": "markdown",
   "metadata": {},
   "source": [
    "## 4. Inicialización: Red Neuronal"
   ]
  },
  {
   "cell_type": "code",
   "execution_count": 42,
   "metadata": {},
   "outputs": [
    {
     "data": {
      "text/html": [
       "\n",
       "        <script>\n",
       "            function code_toggle_14070945407346066738() {\n",
       "                $('div.cell.code_cell.rendered.selected').next().find('div.input').toggle();\n",
       "            }\n",
       "\n",
       "            $('div.cell.code_cell.rendered.selected').find(\"div.input\").hide();\n",
       "        </script>\n",
       "\n",
       "        <a href=\"javascript:code_toggle_14070945407346066738()\">Toggle show/hide next cell</a>\n",
       "    "
      ],
      "text/plain": [
       "<IPython.core.display.HTML object>"
      ]
     },
     "execution_count": 42,
     "metadata": {},
     "output_type": "execute_result"
    }
   ],
   "source": [
    "hide_toggle(1)"
   ]
  },
  {
   "cell_type": "code",
   "execution_count": 43,
   "metadata": {},
   "outputs": [],
   "source": [
    "mlp =  MLPClassifier (hidden_layer_sizes=(24,), max_iter= 100, learning_rate_init= 0.3, activation = 'logistic')"
   ]
  },
  {
   "cell_type": "markdown",
   "metadata": {},
   "source": [
    "## Fase de entrenamiento: Red Neuronal"
   ]
  },
  {
   "cell_type": "code",
   "execution_count": 44,
   "metadata": {},
   "outputs": [
    {
     "data": {
      "text/html": [
       "\n",
       "        <script>\n",
       "            function code_toggle_6037246366973819582() {\n",
       "                $('div.cell.code_cell.rendered.selected').next().find('div.input').toggle();\n",
       "            }\n",
       "\n",
       "            $('div.cell.code_cell.rendered.selected').find(\"div.input\").hide();\n",
       "        </script>\n",
       "\n",
       "        <a href=\"javascript:code_toggle_6037246366973819582()\">Toggle show/hide next cell</a>\n",
       "    "
      ],
      "text/plain": [
       "<IPython.core.display.HTML object>"
      ]
     },
     "execution_count": 44,
     "metadata": {},
     "output_type": "execute_result"
    }
   ],
   "source": [
    "hide_toggle(1)"
   ]
  },
  {
   "cell_type": "code",
   "execution_count": 45,
   "metadata": {},
   "outputs": [
    {
     "data": {
      "text/plain": [
       "MLPClassifier(activation='logistic', hidden_layer_sizes=(24,),\n",
       "              learning_rate_init=0.3, max_iter=100)"
      ]
     },
     "execution_count": 45,
     "metadata": {},
     "output_type": "execute_result"
    }
   ],
   "source": [
    "mlp.fit(X_train, Y_train)"
   ]
  },
  {
   "cell_type": "markdown",
   "metadata": {},
   "source": [
    "## Fase de Test: Red Neuronal"
   ]
  },
  {
   "cell_type": "code",
   "execution_count": 46,
   "metadata": {},
   "outputs": [
    {
     "data": {
      "text/html": [
       "\n",
       "        <script>\n",
       "            function code_toggle_14932423851202681318() {\n",
       "                $('div.cell.code_cell.rendered.selected').next().find('div.input').toggle();\n",
       "            }\n",
       "\n",
       "            $('div.cell.code_cell.rendered.selected').find(\"div.input\").hide();\n",
       "        </script>\n",
       "\n",
       "        <a href=\"javascript:code_toggle_14932423851202681318()\">Toggle show/hide next cell</a>\n",
       "    "
      ],
      "text/plain": [
       "<IPython.core.display.HTML object>"
      ]
     },
     "execution_count": 46,
     "metadata": {},
     "output_type": "execute_result"
    }
   ],
   "source": [
    "hide_toggle(1)"
   ]
  },
  {
   "cell_type": "code",
   "execution_count": 47,
   "metadata": {},
   "outputs": [],
   "source": [
    "resultMLP = mlp.predict(X_test)"
   ]
  },
  {
   "cell_type": "markdown",
   "metadata": {},
   "source": [
    "# Métricas"
   ]
  },
  {
   "cell_type": "markdown",
   "metadata": {},
   "source": [
    "Construimos la matriz de confusion De cada modelo"
   ]
  },
  {
   "cell_type": "code",
   "execution_count": 48,
   "metadata": {},
   "outputs": [
    {
     "data": {
      "text/html": [
       "\n",
       "        <script>\n",
       "            function code_toggle_8910762405851627898() {\n",
       "                $('div.cell.code_cell.rendered.selected').next().find('div.input').toggle();\n",
       "            }\n",
       "\n",
       "            $('div.cell.code_cell.rendered.selected').find(\"div.input\").hide();\n",
       "        </script>\n",
       "\n",
       "        <a href=\"javascript:code_toggle_8910762405851627898()\">Toggle show/hide next cell</a>\n",
       "    "
      ],
      "text/plain": [
       "<IPython.core.display.HTML object>"
      ]
     },
     "execution_count": 48,
     "metadata": {},
     "output_type": "execute_result"
    }
   ],
   "source": [
    "hide_toggle(1)"
   ]
  },
  {
   "cell_type": "code",
   "execution_count": 49,
   "metadata": {},
   "outputs": [],
   "source": [
    "def construir_matriz_confusion( y_real, y_modelo, n_clases ):\n",
    "    matriz = [ [0]*n_clases for _ in range(n_clases) ]\n",
    "    M = len(y_real)\n",
    "    for m in range(M):\n",
    "        clase_real = y_real[m]\n",
    "        clase_predecida = y_modelo[m]\n",
    "        matriz[ clase_predecida ][ clase_real ] += 1\n",
    "    return matriz\n",
    "y_real = Y_test.tolist()\n",
    "mc1 = construir_matriz_confusion(y_real, resultSVM, 24)\n",
    "mc2 = construir_matriz_confusion(y_real, resultGNB, 24)\n",
    "mc3 = construir_matriz_confusion(y_real, resultNC, 24)\n",
    "mc4 = construir_matriz_confusion(y_real, resultMLP, 24)"
   ]
  },
  {
   "cell_type": "code",
   "execution_count": 50,
   "metadata": {},
   "outputs": [
    {
     "data": {
      "text/html": [
       "\n",
       "        <script>\n",
       "            function code_toggle_3335146092844168563() {\n",
       "                $('div.cell.code_cell.rendered.selected').next().find('div.input').toggle();\n",
       "            }\n",
       "\n",
       "            $('div.cell.code_cell.rendered.selected').find(\"div.input\").hide();\n",
       "        </script>\n",
       "\n",
       "        <a href=\"javascript:code_toggle_3335146092844168563()\">Toggle show/hide next cell</a>\n",
       "    "
      ],
      "text/plain": [
       "<IPython.core.display.HTML object>"
      ]
     },
     "execution_count": 50,
     "metadata": {},
     "output_type": "execute_result"
    }
   ],
   "source": [
    "hide_toggle(1)"
   ]
  },
  {
   "cell_type": "code",
   "execution_count": 51,
   "metadata": {},
   "outputs": [],
   "source": [
    "def accuracy_n(matriz_confusion):\n",
    "  # nro de clases \n",
    "  n_clases = len(matriz_confusion)\n",
    "  true_cases  = 0\n",
    "  for i in range(n_clases):\n",
    "    true_cases += matriz_confusion[i][i]\n",
    "  total_cases = 0\n",
    "  for fila in matriz_confusion:\n",
    "    total_cases += sum(fila)\n",
    "  return true_cases/total_cases\n",
    "\n",
    "def precision_n(matriz_confusion):\n",
    "  n_clases = len(matriz_confusion)\n",
    "  precision_list = []\n",
    "  for i in range(n_clases):\n",
    "    tp = matriz_confusion[i][i]\n",
    "    suma = sum(matriz_confusion[i])\n",
    "    if(suma == 0):\n",
    "      precision_i = 0\n",
    "    else:\n",
    "      precision_i = tp/suma\n",
    "    precision_list.append(precision_i)\n",
    "  return precision_list\n",
    "\n",
    "def recall_n(matriz_confusion):\n",
    "  n_clases = len(matriz_confusion)\n",
    "  recall_list = []\n",
    "  for i in range(n_clases):\n",
    "    tp = matriz_confusion[i][i]\n",
    "    total = 0\n",
    "    for j in range(n_clases):\n",
    "      total += matriz_confusion[j][i]\n",
    "    if(total == 0):\n",
    "      recall_i = 0\n",
    "    else:\n",
    "      recall_i = tp/total\n",
    "    recall_list.append(recall_i)\n",
    "  return recall_list\n",
    "  \n",
    "\n",
    "def f1_n(matriz_confusion):\n",
    "  prec_n = precision_n(matriz_confusion)\n",
    "  rec_n = recall_n(matriz_confusion)\n",
    "  list_f1 = []\n",
    "  assert len(prec_n) == len(rec_n), \"invalido\"\n",
    "  n_clases = len(prec_n)\n",
    "  for i in range(n_clases):\n",
    "    if(prec_n[i] + rec_n[i] == 0):\n",
    "      f1_i = 0\n",
    "    else:\n",
    "      f1_i = 2 *prec_n[i]*rec_n[i]/(prec_n[i]+rec_n[i])\n",
    "    list_f1.append(f1_i)\n",
    "  return list_f1\n",
    "\n",
    "def macro_precision(matriz_confusion):\n",
    "  n_clases  = len(matriz_confusion)\n",
    "  prec_n = precision_n(matriz_confusion)\n",
    "  \n",
    "  suma = 0\n",
    "  for i in range(n_clases):\n",
    "    suma += prec_n[i]\n",
    "  return suma/n_clases\n",
    "\n",
    "def macro_recall(matriz_confusion):\n",
    "  n_clases  = len(matriz_confusion)\n",
    "  rec_n = recall_n(matriz_confusion)\n",
    "  \n",
    "  suma = 0\n",
    "  for i in range(n_clases):\n",
    "    suma += rec_n[i]\n",
    "  return suma/n_clases\n",
    "\n",
    "def macro_f1(matriz_confusion):\n",
    "  n_clases = len(matriz_confusion)\n",
    "  f_n = f1_n(matriz_confusion)\n",
    "  suma = 0\n",
    "  for i in range(n_clases):\n",
    "    suma += f_n[i]\n",
    "  return suma/n_clases"
   ]
  },
  {
   "cell_type": "code",
   "execution_count": 52,
   "metadata": {},
   "outputs": [
    {
     "data": {
      "text/html": [
       "\n",
       "        <script>\n",
       "            function code_toggle_7266211346171764810() {\n",
       "                $('div.cell.code_cell.rendered.selected').next().find('div.input').toggle();\n",
       "            }\n",
       "\n",
       "            $('div.cell.code_cell.rendered.selected').find(\"div.input\").hide();\n",
       "        </script>\n",
       "\n",
       "        <a href=\"javascript:code_toggle_7266211346171764810()\">Toggle show/hide next cell</a>\n",
       "    "
      ],
      "text/plain": [
       "<IPython.core.display.HTML object>"
      ]
     },
     "execution_count": 52,
     "metadata": {},
     "output_type": "execute_result"
    }
   ],
   "source": [
    "hide_toggle(1)"
   ]
  },
  {
   "cell_type": "code",
   "execution_count": 53,
   "metadata": {},
   "outputs": [
    {
     "name": "stdout",
     "output_type": "stream",
     "text": [
      "Metrica accuracy para SVM:  82.69720101781171\n",
      "Metrica accuracy para Gaussian NB:  75.06361323155217\n",
      "Metrica accuracy para Nearest centroid:  76.33587786259542\n",
      "Metrica accuracy para Red Neuronal:  81.1704834605598\n"
     ]
    }
   ],
   "source": [
    "print(\"Metrica accuracy para SVM: \", accuracy_n(mc1)*100)\n",
    "print(\"Metrica accuracy para Gaussian NB: \", accuracy_n(mc2)*100)\n",
    "print(\"Metrica accuracy para Nearest centroid: \", accuracy_n(mc3)*100)\n",
    "print(\"Metrica accuracy para Red Neuronal: \", accuracy_n(mc4)*100)"
   ]
  },
  {
   "cell_type": "code",
   "execution_count": 54,
   "metadata": {},
   "outputs": [
    {
     "data": {
      "text/html": [
       "\n",
       "        <script>\n",
       "            function code_toggle_6741658248785107751() {\n",
       "                $('div.cell.code_cell.rendered.selected').next().find('div.input').toggle();\n",
       "            }\n",
       "\n",
       "            $('div.cell.code_cell.rendered.selected').find(\"div.input\").hide();\n",
       "        </script>\n",
       "\n",
       "        <a href=\"javascript:code_toggle_6741658248785107751()\">Toggle show/hide next cell</a>\n",
       "    "
      ],
      "text/plain": [
       "<IPython.core.display.HTML object>"
      ]
     },
     "execution_count": 54,
     "metadata": {},
     "output_type": "execute_result"
    }
   ],
   "source": [
    "hide_toggle(1)"
   ]
  },
  {
   "cell_type": "code",
   "execution_count": 55,
   "metadata": {},
   "outputs": [
    {
     "name": "stdout",
     "output_type": "stream",
     "text": [
      "Macro Precision para SVM:  80.46379260386513\n",
      "Macro Recall para SVM:  78.72361906727757\n",
      "Macro F1 para SVM:  78.41488479697544\n"
     ]
    }
   ],
   "source": [
    "print(\"Macro Precision para SVM: \", macro_precision(mc1)*100)\n",
    "print(\"Macro Recall para SVM: \", macro_recall(mc1)*100)\n",
    "print(\"Macro F1 para SVM: \", macro_f1(mc1)*100)"
   ]
  },
  {
   "cell_type": "code",
   "execution_count": 56,
   "metadata": {},
   "outputs": [
    {
     "data": {
      "text/html": [
       "\n",
       "        <script>\n",
       "            function code_toggle_17601449953687338889() {\n",
       "                $('div.cell.code_cell.rendered.selected').next().find('div.input').toggle();\n",
       "            }\n",
       "\n",
       "            $('div.cell.code_cell.rendered.selected').find(\"div.input\").hide();\n",
       "        </script>\n",
       "\n",
       "        <a href=\"javascript:code_toggle_17601449953687338889()\">Toggle show/hide next cell</a>\n",
       "    "
      ],
      "text/plain": [
       "<IPython.core.display.HTML object>"
      ]
     },
     "execution_count": 56,
     "metadata": {},
     "output_type": "execute_result"
    }
   ],
   "source": [
    "hide_toggle(1)"
   ]
  },
  {
   "cell_type": "code",
   "execution_count": 57,
   "metadata": {},
   "outputs": [
    {
     "name": "stdout",
     "output_type": "stream",
     "text": [
      "Macro Precision para Gaussian NB:  78.2809103324892\n",
      "Macro Recall para Gaussian NB:  72.16443669430184\n",
      "Macro F1 para Gaussian NB:  73.50720880066885\n"
     ]
    }
   ],
   "source": [
    "print(\"Macro Precision para Gaussian NB: \", macro_precision(mc2)*100)\n",
    "print(\"Macro Recall para Gaussian NB: \", macro_recall(mc2)*100)\n",
    "print(\"Macro F1 para Gaussian NB: \", macro_f1(mc2)*100)"
   ]
  },
  {
   "cell_type": "code",
   "execution_count": 58,
   "metadata": {},
   "outputs": [
    {
     "data": {
      "text/html": [
       "\n",
       "        <script>\n",
       "            function code_toggle_4035780945352557619() {\n",
       "                $('div.cell.code_cell.rendered.selected').next().find('div.input').toggle();\n",
       "            }\n",
       "\n",
       "            $('div.cell.code_cell.rendered.selected').find(\"div.input\").hide();\n",
       "        </script>\n",
       "\n",
       "        <a href=\"javascript:code_toggle_4035780945352557619()\">Toggle show/hide next cell</a>\n",
       "    "
      ],
      "text/plain": [
       "<IPython.core.display.HTML object>"
      ]
     },
     "execution_count": 58,
     "metadata": {},
     "output_type": "execute_result"
    }
   ],
   "source": [
    "hide_toggle(1)"
   ]
  },
  {
   "cell_type": "code",
   "execution_count": 59,
   "metadata": {},
   "outputs": [
    {
     "name": "stdout",
     "output_type": "stream",
     "text": [
      "Macro Precision para Nearest centroid:  77.49181424056913\n",
      "Macro Recall para Nearest centroid:  76.00862787585555\n",
      "Macro F1 para Nearest centroid:  74.65308595477573\n"
     ]
    }
   ],
   "source": [
    "print(\"Macro Precision para Nearest centroid: \", macro_precision(mc3)*100)\n",
    "print(\"Macro Recall para Nearest centroid: \", macro_recall(mc3)*100)\n",
    "print(\"Macro F1 para Nearest centroid: \", macro_f1(mc3)*100)"
   ]
  },
  {
   "cell_type": "code",
   "execution_count": 60,
   "metadata": {},
   "outputs": [
    {
     "data": {
      "text/html": [
       "\n",
       "        <script>\n",
       "            function code_toggle_7613418122146359565() {\n",
       "                $('div.cell.code_cell.rendered.selected').next().find('div.input').toggle();\n",
       "            }\n",
       "\n",
       "            $('div.cell.code_cell.rendered.selected').find(\"div.input\").hide();\n",
       "        </script>\n",
       "\n",
       "        <a href=\"javascript:code_toggle_7613418122146359565()\">Toggle show/hide next cell</a>\n",
       "    "
      ],
      "text/plain": [
       "<IPython.core.display.HTML object>"
      ]
     },
     "execution_count": 60,
     "metadata": {},
     "output_type": "execute_result"
    }
   ],
   "source": [
    "hide_toggle(1)"
   ]
  },
  {
   "cell_type": "code",
   "execution_count": 61,
   "metadata": {},
   "outputs": [
    {
     "name": "stdout",
     "output_type": "stream",
     "text": [
      "Macro Precision para Red Neuronal:  77.94256477694691\n",
      "Macro Recall para Red Neuronal:  77.96020077855542\n",
      "Macro F1 para Red Neuronal:  77.21719441587834\n"
     ]
    }
   ],
   "source": [
    "print(\"Macro Precision para Red Neuronal: \", macro_precision(mc4)*100)\n",
    "print(\"Macro Recall para Red Neuronal: \", macro_recall(mc4)*100)\n",
    "print(\"Macro F1 para Red Neuronal: \", macro_f1(mc4)*100)"
   ]
  },
  {
   "cell_type": "markdown",
   "metadata": {},
   "source": [
    "## Algorimo A priori"
   ]
  },
  {
   "cell_type": "code",
   "execution_count": 62,
   "metadata": {},
   "outputs": [
    {
     "data": {
      "text/html": [
       "\n",
       "        <script>\n",
       "            function code_toggle_2093911079269482872() {\n",
       "                $('div.cell.code_cell.rendered.selected').next().find('div.input').toggle();\n",
       "            }\n",
       "\n",
       "            $('div.cell.code_cell.rendered.selected').find(\"div.input\").hide();\n",
       "        </script>\n",
       "\n",
       "        <a href=\"javascript:code_toggle_2093911079269482872()\">Toggle show/hide next cell</a>\n",
       "    "
      ],
      "text/plain": [
       "<IPython.core.display.HTML object>"
      ]
     },
     "execution_count": 62,
     "metadata": {},
     "output_type": "execute_result"
    }
   ],
   "source": [
    "hide_toggle(1)"
   ]
  },
  {
   "cell_type": "code",
   "execution_count": 63,
   "metadata": {},
   "outputs": [],
   "source": [
    "from itertools import combinations\n",
    "def algoritmo_a_priori(df , treshhold):\n",
    "    result = []\n",
    "\n",
    "    k = 1\n",
    "    lista = [column for column in df]\n",
    "    #print(lista)\n",
    "    while (True):\n",
    "        #  combinar en k\n",
    "  \n",
    "        \n",
    "        # filtrar por count\n",
    "        l_prima = []\n",
    "        for r in combinations(lista, k):\n",
    "            query = [i for i in r]\n",
    "            values = [1 for i in range(k)]\n",
    "            c = count(df, query , values)\n",
    "            \n",
    "            \n",
    "            if (c >= treshhold):\n",
    "                l_prima.append(query)\n",
    "        \n",
    "        #print(\"lprima \",l_prima)\n",
    "        # numeros sin repeticion\n",
    "        \n",
    "        if (len(l_prima) == 0):\n",
    "            break\n",
    "        \n",
    "        for r in combinations(lista, k):\n",
    "     \n",
    "            query = [i for i in r]\n",
    "            result.append(query)\n",
    "\n",
    "\n",
    "        l_next = []\n",
    "\n",
    "        for c in l_prima:\n",
    "            for i in c:\n",
    "                if i not in l_next:\n",
    "                    l_next.append(i)\n",
    "\n",
    "        #print(\"l_next \",l_next)\n",
    "        lista = l_next\n",
    "        k = k +1\n",
    "    \n",
    "    return result"
   ]
  },
  {
   "cell_type": "markdown",
   "metadata": {},
   "source": [
    "Ponemos a prueba el algoritmo a priori"
   ]
  },
  {
   "cell_type": "code",
   "execution_count": 64,
   "metadata": {},
   "outputs": [
    {
     "data": {
      "text/html": [
       "\n",
       "        <script>\n",
       "            function code_toggle_16100170320649032209() {\n",
       "                $('div.cell.code_cell.rendered.selected').next().find('div.input').toggle();\n",
       "            }\n",
       "\n",
       "            $('div.cell.code_cell.rendered.selected').find(\"div.input\").hide();\n",
       "        </script>\n",
       "\n",
       "        <a href=\"javascript:code_toggle_16100170320649032209()\">Toggle show/hide next cell</a>\n",
       "    "
      ],
      "text/plain": [
       "<IPython.core.display.HTML object>"
      ]
     },
     "execution_count": 64,
     "metadata": {},
     "output_type": "execute_result"
    }
   ],
   "source": [
    "hide_toggle(1)"
   ]
  },
  {
   "cell_type": "code",
   "execution_count": 65,
   "metadata": {},
   "outputs": [
    {
     "data": {
      "text/html": [
       "<div>\n",
       "<style scoped>\n",
       "    .dataframe tbody tr th:only-of-type {\n",
       "        vertical-align: middle;\n",
       "    }\n",
       "\n",
       "    .dataframe tbody tr th {\n",
       "        vertical-align: top;\n",
       "    }\n",
       "\n",
       "    .dataframe thead th {\n",
       "        text-align: right;\n",
       "    }\n",
       "</style>\n",
       "<table border=\"1\" class=\"dataframe\">\n",
       "  <thead>\n",
       "    <tr style=\"text-align: right;\">\n",
       "      <th></th>\n",
       "      <th>abil</th>\n",
       "      <th>abl</th>\n",
       "      <th>abolish</th>\n",
       "      <th>abrog</th>\n",
       "      <th>absenc</th>\n",
       "      <th>accumul</th>\n",
       "      <th>acetyl</th>\n",
       "      <th>acetyltransferas</th>\n",
       "      <th>acid</th>\n",
       "      <th>act</th>\n",
       "      <th>...</th>\n",
       "      <th>without</th>\n",
       "      <th>work</th>\n",
       "      <th>would</th>\n",
       "      <th>wt</th>\n",
       "      <th>xxfg</th>\n",
       "      <th>y15f</th>\n",
       "      <th>yang</th>\n",
       "      <th>yeast</th>\n",
       "      <th>yy1</th>\n",
       "      <th>µg</th>\n",
       "    </tr>\n",
       "  </thead>\n",
       "  <tbody>\n",
       "    <tr>\n",
       "      <th>0</th>\n",
       "      <td>0</td>\n",
       "      <td>0</td>\n",
       "      <td>0</td>\n",
       "      <td>0</td>\n",
       "      <td>0</td>\n",
       "      <td>0</td>\n",
       "      <td>0</td>\n",
       "      <td>0</td>\n",
       "      <td>0</td>\n",
       "      <td>0</td>\n",
       "      <td>...</td>\n",
       "      <td>0</td>\n",
       "      <td>0</td>\n",
       "      <td>0</td>\n",
       "      <td>0</td>\n",
       "      <td>0</td>\n",
       "      <td>0</td>\n",
       "      <td>0</td>\n",
       "      <td>0</td>\n",
       "      <td>0</td>\n",
       "      <td>0</td>\n",
       "    </tr>\n",
       "    <tr>\n",
       "      <th>1</th>\n",
       "      <td>0</td>\n",
       "      <td>0</td>\n",
       "      <td>0</td>\n",
       "      <td>0</td>\n",
       "      <td>0</td>\n",
       "      <td>0</td>\n",
       "      <td>0</td>\n",
       "      <td>0</td>\n",
       "      <td>0</td>\n",
       "      <td>0</td>\n",
       "      <td>...</td>\n",
       "      <td>0</td>\n",
       "      <td>0</td>\n",
       "      <td>0</td>\n",
       "      <td>0</td>\n",
       "      <td>0</td>\n",
       "      <td>0</td>\n",
       "      <td>0</td>\n",
       "      <td>0</td>\n",
       "      <td>0</td>\n",
       "      <td>0</td>\n",
       "    </tr>\n",
       "    <tr>\n",
       "      <th>2</th>\n",
       "      <td>0</td>\n",
       "      <td>0</td>\n",
       "      <td>0</td>\n",
       "      <td>0</td>\n",
       "      <td>0</td>\n",
       "      <td>0</td>\n",
       "      <td>0</td>\n",
       "      <td>0</td>\n",
       "      <td>0</td>\n",
       "      <td>0</td>\n",
       "      <td>...</td>\n",
       "      <td>0</td>\n",
       "      <td>0</td>\n",
       "      <td>0</td>\n",
       "      <td>0</td>\n",
       "      <td>0</td>\n",
       "      <td>0</td>\n",
       "      <td>0</td>\n",
       "      <td>0</td>\n",
       "      <td>0</td>\n",
       "      <td>0</td>\n",
       "    </tr>\n",
       "    <tr>\n",
       "      <th>3</th>\n",
       "      <td>0</td>\n",
       "      <td>0</td>\n",
       "      <td>0</td>\n",
       "      <td>0</td>\n",
       "      <td>0</td>\n",
       "      <td>0</td>\n",
       "      <td>0</td>\n",
       "      <td>0</td>\n",
       "      <td>0</td>\n",
       "      <td>0</td>\n",
       "      <td>...</td>\n",
       "      <td>0</td>\n",
       "      <td>0</td>\n",
       "      <td>0</td>\n",
       "      <td>0</td>\n",
       "      <td>0</td>\n",
       "      <td>0</td>\n",
       "      <td>0</td>\n",
       "      <td>0</td>\n",
       "      <td>0</td>\n",
       "      <td>0</td>\n",
       "    </tr>\n",
       "    <tr>\n",
       "      <th>4</th>\n",
       "      <td>0</td>\n",
       "      <td>0</td>\n",
       "      <td>0</td>\n",
       "      <td>0</td>\n",
       "      <td>0</td>\n",
       "      <td>0</td>\n",
       "      <td>0</td>\n",
       "      <td>0</td>\n",
       "      <td>0</td>\n",
       "      <td>0</td>\n",
       "      <td>...</td>\n",
       "      <td>0</td>\n",
       "      <td>0</td>\n",
       "      <td>0</td>\n",
       "      <td>0</td>\n",
       "      <td>0</td>\n",
       "      <td>0</td>\n",
       "      <td>0</td>\n",
       "      <td>0</td>\n",
       "      <td>0</td>\n",
       "      <td>0</td>\n",
       "    </tr>\n",
       "    <tr>\n",
       "      <th>...</th>\n",
       "      <td>...</td>\n",
       "      <td>...</td>\n",
       "      <td>...</td>\n",
       "      <td>...</td>\n",
       "      <td>...</td>\n",
       "      <td>...</td>\n",
       "      <td>...</td>\n",
       "      <td>...</td>\n",
       "      <td>...</td>\n",
       "      <td>...</td>\n",
       "      <td>...</td>\n",
       "      <td>...</td>\n",
       "      <td>...</td>\n",
       "      <td>...</td>\n",
       "      <td>...</td>\n",
       "      <td>...</td>\n",
       "      <td>...</td>\n",
       "      <td>...</td>\n",
       "      <td>...</td>\n",
       "      <td>...</td>\n",
       "      <td>...</td>\n",
       "    </tr>\n",
       "    <tr>\n",
       "      <th>1565</th>\n",
       "      <td>0</td>\n",
       "      <td>0</td>\n",
       "      <td>0</td>\n",
       "      <td>0</td>\n",
       "      <td>0</td>\n",
       "      <td>0</td>\n",
       "      <td>0</td>\n",
       "      <td>0</td>\n",
       "      <td>0</td>\n",
       "      <td>0</td>\n",
       "      <td>...</td>\n",
       "      <td>0</td>\n",
       "      <td>0</td>\n",
       "      <td>0</td>\n",
       "      <td>0</td>\n",
       "      <td>0</td>\n",
       "      <td>0</td>\n",
       "      <td>0</td>\n",
       "      <td>0</td>\n",
       "      <td>0</td>\n",
       "      <td>0</td>\n",
       "    </tr>\n",
       "    <tr>\n",
       "      <th>1566</th>\n",
       "      <td>0</td>\n",
       "      <td>0</td>\n",
       "      <td>0</td>\n",
       "      <td>0</td>\n",
       "      <td>0</td>\n",
       "      <td>0</td>\n",
       "      <td>0</td>\n",
       "      <td>0</td>\n",
       "      <td>0</td>\n",
       "      <td>0</td>\n",
       "      <td>...</td>\n",
       "      <td>0</td>\n",
       "      <td>0</td>\n",
       "      <td>0</td>\n",
       "      <td>0</td>\n",
       "      <td>0</td>\n",
       "      <td>0</td>\n",
       "      <td>0</td>\n",
       "      <td>0</td>\n",
       "      <td>0</td>\n",
       "      <td>0</td>\n",
       "    </tr>\n",
       "    <tr>\n",
       "      <th>1567</th>\n",
       "      <td>0</td>\n",
       "      <td>0</td>\n",
       "      <td>0</td>\n",
       "      <td>0</td>\n",
       "      <td>0</td>\n",
       "      <td>0</td>\n",
       "      <td>0</td>\n",
       "      <td>0</td>\n",
       "      <td>0</td>\n",
       "      <td>0</td>\n",
       "      <td>...</td>\n",
       "      <td>0</td>\n",
       "      <td>0</td>\n",
       "      <td>0</td>\n",
       "      <td>0</td>\n",
       "      <td>0</td>\n",
       "      <td>0</td>\n",
       "      <td>0</td>\n",
       "      <td>0</td>\n",
       "      <td>0</td>\n",
       "      <td>0</td>\n",
       "    </tr>\n",
       "    <tr>\n",
       "      <th>1568</th>\n",
       "      <td>0</td>\n",
       "      <td>0</td>\n",
       "      <td>0</td>\n",
       "      <td>0</td>\n",
       "      <td>0</td>\n",
       "      <td>0</td>\n",
       "      <td>0</td>\n",
       "      <td>0</td>\n",
       "      <td>0</td>\n",
       "      <td>0</td>\n",
       "      <td>...</td>\n",
       "      <td>0</td>\n",
       "      <td>0</td>\n",
       "      <td>0</td>\n",
       "      <td>0</td>\n",
       "      <td>0</td>\n",
       "      <td>0</td>\n",
       "      <td>0</td>\n",
       "      <td>0</td>\n",
       "      <td>0</td>\n",
       "      <td>0</td>\n",
       "    </tr>\n",
       "    <tr>\n",
       "      <th>1569</th>\n",
       "      <td>0</td>\n",
       "      <td>0</td>\n",
       "      <td>0</td>\n",
       "      <td>0</td>\n",
       "      <td>0</td>\n",
       "      <td>0</td>\n",
       "      <td>0</td>\n",
       "      <td>0</td>\n",
       "      <td>0</td>\n",
       "      <td>0</td>\n",
       "      <td>...</td>\n",
       "      <td>0</td>\n",
       "      <td>0</td>\n",
       "      <td>0</td>\n",
       "      <td>0</td>\n",
       "      <td>0</td>\n",
       "      <td>0</td>\n",
       "      <td>0</td>\n",
       "      <td>0</td>\n",
       "      <td>0</td>\n",
       "      <td>0</td>\n",
       "    </tr>\n",
       "  </tbody>\n",
       "</table>\n",
       "<p>1570 rows × 677 columns</p>\n",
       "</div>"
      ],
      "text/plain": [
       "      abil  abl  abolish  abrog  absenc  accumul  acetyl  acetyltransferas  \\\n",
       "0        0    0        0      0       0        0       0                 0   \n",
       "1        0    0        0      0       0        0       0                 0   \n",
       "2        0    0        0      0       0        0       0                 0   \n",
       "3        0    0        0      0       0        0       0                 0   \n",
       "4        0    0        0      0       0        0       0                 0   \n",
       "...    ...  ...      ...    ...     ...      ...     ...               ...   \n",
       "1565     0    0        0      0       0        0       0                 0   \n",
       "1566     0    0        0      0       0        0       0                 0   \n",
       "1567     0    0        0      0       0        0       0                 0   \n",
       "1568     0    0        0      0       0        0       0                 0   \n",
       "1569     0    0        0      0       0        0       0                 0   \n",
       "\n",
       "      acid  act  ...  without  work  would  wt  xxfg  y15f  yang  yeast  yy1  \\\n",
       "0        0    0  ...        0     0      0   0     0     0     0      0    0   \n",
       "1        0    0  ...        0     0      0   0     0     0     0      0    0   \n",
       "2        0    0  ...        0     0      0   0     0     0     0      0    0   \n",
       "3        0    0  ...        0     0      0   0     0     0     0      0    0   \n",
       "4        0    0  ...        0     0      0   0     0     0     0      0    0   \n",
       "...    ...  ...  ...      ...   ...    ...  ..   ...   ...   ...    ...  ...   \n",
       "1565     0    0  ...        0     0      0   0     0     0     0      0    0   \n",
       "1566     0    0  ...        0     0      0   0     0     0     0      0    0   \n",
       "1567     0    0  ...        0     0      0   0     0     0     0      0    0   \n",
       "1568     0    0  ...        0     0      0   0     0     0     0      0    0   \n",
       "1569     0    0  ...        0     0      0   0     0     0     0      0    0   \n",
       "\n",
       "      µg  \n",
       "0      0  \n",
       "1      0  \n",
       "2      0  \n",
       "3      0  \n",
       "4      0  \n",
       "...   ..  \n",
       "1565   0  \n",
       "1566   0  \n",
       "1567   0  \n",
       "1568   0  \n",
       "1569   0  \n",
       "\n",
       "[1570 rows x 677 columns]"
      ]
     },
     "execution_count": 65,
     "metadata": {},
     "output_type": "execute_result"
    }
   ],
   "source": [
    "df = df.drop(['clase'], axis=1)\n",
    "df"
   ]
  },
  {
   "cell_type": "code",
   "execution_count": 66,
   "metadata": {},
   "outputs": [
    {
     "name": "stdout",
     "output_type": "stream",
     "text": [
      "[['abil'], ['abl'], ['abolish'], ['abrog'], ['absenc'], ['accumul'], ['acetyl'], ['acetyltransferas'], ['acid'], ['act'], ['action'], ['activ'], ['addit'], ['adhes'], ['affect'], ['affin'], ['agreement'], ['al'], ['all'], ['allow'], ['alon'], ['also'], ['alter'], ['although'], ['amino'], ['amount'], ['an'], ['analys'], ['analysi'], ['analyz'], ['and'], ['angiogen'], ['anti'], ['antibodi'], ['antigen'], ['apobec'], ['apobec3g'], ['apoptosi'], ['appear'], ['are'], ['arrest'], ['as'], ['assay'], ['assembl'], ['associ'], ['astrocyt'], ['astrogli'], ['at'], ['atf4'], ['basal'], ['base'], ['basic'], ['be'], ['been'], ['bfgf'], ['bind'], ['biolog'], ['block'], ['blood'], ['blot'], ['bodi'], ['both'], ['bound'], ['by'], ['ca'], ['caf'], ['camp'], ['can'], ['carboxyl'], ['casein'], ['cat'], ['catalyt'], ['caus'], ['cbp'], ['ccr5'], ['cd4'], ['cdc2'], ['cdc25'], ['cdk7'], ['cdk9'], ['cdna'], ['cell'], ['cellular'], ['cem15'], ['cerevisia'], ['chang'], ['chemokin'], ['chen'], ['chromatin'], ['clearli'], ['clone'], ['co'], ['cofactor'], ['coimmunoprecipit'], ['combin'], ['compar'], ['compet'], ['competit'], ['complet'], ['complex'], ['compon'], ['concentr'], ['condit'], ['confirm'], ['conserv'], ['consist'], ['construct'], ['contain'], ['contrast'], ['contribut'], ['control'], ['correl'], ['cotransfect'], ['could'], ['creb'], ['critic'], ['crm1'], ['crm1p'], ['ctd'], ['cujec'], ['cultur'], ['cxc'], ['cxcr3'], ['cxcr4'], ['cycl'], ['cyclin'], ['cyct1'], ['cystein'], ['cytoplasm'], ['d167n'], ['data'], ['decreas'], ['defect'], ['defici'], ['degrad'], ['delet'], ['demonstr'], ['depend'], ['deplet'], ['deriv'], ['describ'], ['detect'], ['determin'], ['develop'], ['did'], ['differ'], ['differenti'], ['direct'], ['directli'], ['disrupt'], ['distinct'], ['distribut'], ['dna'], ['doe'], ['domain'], ['domin'], ['dose'], ['downregul'], ['drb'], ['driven'], ['due'], ['each'], ['ebp'], ['ec'], ['effect'], ['effici'], ['egfp'], ['egr'], ['either'], ['elam'], ['element'], ['elong'], ['encod'], ['endogen'], ['enhanc'], ['env'], ['enzym'], ['er'], ['erk'], ['erk1'], ['erk2'], ['essenti'], ['et'], ['even'], ['evid'], ['examin'], ['exclus'], ['expect'], ['experi'], ['export'], ['exposur'], ['express'], ['extent'], ['extracellular'], ['extract'], ['fact'], ['factor'], ['famili'], ['fasl'], ['fibroblast'], ['fig'], ['figur'], ['find'], ['first'], ['fission'], ['flag'], ['flk'], ['focal'], ['fold'], ['follow'], ['for'], ['form'], ['format'], ['found'], ['fraction'], ['full'], ['function'], ['further'], ['furthermor'], ['fusion'], ['g2'], ['gag'], ['garcia'], ['gcn5'], ['gel'], ['gene'], ['gener'], ['gfp'], ['given'], ['glfg'], ['glycin'], ['group'], ['growth'], ['gst'], ['h4'], ['ha'], ['hat'], ['have'], ['hdac1'], ['hela'], ['herrmann'], ['high'], ['highli'], ['histon'], ['hiv'], ['homolog'], ['howev'], ['hrip'], ['hsp70'], ['hspt5'], ['human'], ['hybrid'], ['hyperphosphoryl'], ['ic'], ['icam'], ['identifi'], ['ifn'], ['ii'], ['iii'], ['il'], ['immunoblot'], ['immunodefici'], ['immunodeplet'], ['immunoprecipit'], ['impair'], ['implic'], ['import'], ['importantli'], ['in'], ['inact'], ['inactiv'], ['includ'], ['incorpor'], ['increas'], ['incub'], ['inde'], ['independ'], ['indic'], ['induc'], ['induct'], ['infect'], ['inhibit'], ['inhibitor'], ['inhibitori'], ['initi'], ['inject'], ['ino'], ['integr'], ['integras'], ['integrin'], ['interact'], ['interestingli'], ['interfer'], ['intracellular'], ['investig'], ['involv'], ['ip'], ['is'], ['isol'], ['it'], ['journal'], ['jurkat'], ['kdr'], ['kill'], ['kinas'], ['known'], ['ks'], ['lack'], ['lane'], ['lead'], ['led'], ['length'], ['lesion'], ['less'], ['level'], ['ligand'], ['like'], ['line'], ['littl'], ['local'], ['long'], ['loop'], ['loss'], ['low'], ['lower'], ['ltr'], ['luciferas'], ['lysat'], ['macrophag'], ['major'], ['map'], ['mapk'], ['maq1'], ['martinez'], ['matrix'], ['may'], ['mcp'], ['mdm'], ['mechan'], ['mediat'], ['mek1'], ['membran'], ['mice'], ['might'], ['migrat'], ['min'], ['mitogen'], ['ml'], ['model'], ['modifi'], ['modul'], ['molecul'], ['molecular'], ['monocyt'], ['moreov'], ['mous'], ['mrna'], ['murin'], ['mutant'], ['mutat'], ['myc'], ['ne'], ['nef'], ['neg'], ['neuron'], ['next'], ['nf'], ['ng'], ['nm'], ['no'], ['non'], ['normal'], ['not'], ['note'], ['novel'], ['npc'], ['nuc'], ['nuclear'], ['nucleolin'], ['nucleoporin'], ['nucleu'], ['nup98'], ['observ'], ['obtain'], ['occup'], ['occur'], ['of'], ['one'], ['onli'], ['or'], ['other'], ['our'], ['overexpress'], ['p130'], ['p21'], ['p300'], ['p38'], ['p53'], ['p55'], ['p65'], ['packag'], ['panel'], ['parada'], ['part'], ['partial'], ['particip'], ['particl'], ['pathway'], ['patient'], ['paxillin'], ['pc12'], ['peptid'], ['perform'], ['peripher'], ['permiss'], ['phase'], ['phosphoryl'], ['pi'], ['pic'], ['pitalr'], ['pkr'], ['plasmid'], ['play'], ['point'], ['pol'], ['polymeras'], ['posit'], ['possibl'], ['potenti'], ['pp2a'], ['pre'], ['precursor'], ['prepar'], ['presenc'], ['present'], ['prevent'], ['previou'], ['previous'], ['primari'], ['probabl'], ['process'], ['produc'], ['product'], ['promot'], ['propos'], ['prot1_1025'], ['prot1_1026'], ['prot1_10614'], ['prot1_1385'], ['prot1_1387'], ['prot1_155030'], ['prot1_155459'], ['prot1_155807'], ['prot1_155871'], ['prot1_155908'], ['prot1_155945'], ['prot2_155348'], ['prot2_155807'], ['prot2_155871'], ['prot2_2071'], ['prot2_2185'], ['prot2_2247'], ['prot2_2963'], ['prot2_2965'], ['prot2_2966'], ['prot2_3065'], ['prot2_3267'], ['prot2_3308'], ['prot2_356'], ['prot2_3791'], ['prot2_468'], ['prot2_4843'], ['prot2_4928'], ['prot2_5524'], ['prot2_5594'], ['prot2_5595'], ['prot2_5610'], ['prot2_5718'], ['prot2_5902'], ['prot2_60489'], ['prot2_6401'], ['prot2_6427'], ['prot2_6829'], ['prot2_7374'], ['prot2_7514'], ['prot2_7528'], ['prot2_7852'], ['prot2_8743'], ['prot2_8850'], ['prot2_904'], ['prot2_920'], ['prot2_9733'], ['prot2_983'], ['prot2_995'], ['protein'], ['provid'], ['proxim'], ['purifi'], ['rab'], ['raftk'], ['ran'], ['ranbp1'], ['rangtp'], ['rap30'], ['rapid'], ['reaction'], ['reactiv'], ['rebp'], ['recent'], ['receptor'], ['recombin'], ['recruit'], ['reduc'], ['reduct'], ['region'], ['regul'], ['regulatori'], ['rel'], ['relat'], ['releas'], ['remain'], ['remov'], ['repeat'], ['replic'], ['report'], ['repress'], ['requir'], ['residu'], ['respect'], ['respons'], ['result'], ['rev'], ['reveal'], ['revers'], ['rgd'], ['rice'], ['rich'], ['rna'], ['roeder'], ['role'], ['rre'], ['rsv'], ['salt'], ['sam68'], ['sb202190'], ['sc35'], ['sciencedirect'], ['sd'], ['sdf'], ['secret'], ['seen'], ['select'], ['sensit'], ['sequenc'], ['ser'], ['serin'], ['serum'], ['sever'], ['sf1'], ['show'], ['shown'], ['signal'], ['signific'], ['significantli'], ['similar'], ['sinc'], ['site'], ['solubl'], ['sp1'], ['specif'], ['splice'], ['spt5'], ['still'], ['stimul'], ['strain'], ['strong'], ['strongli'], ['structur'], ['studi'], ['subsequ'], ['substrat'], ['subunit'], ['suffici'], ['suggest'], ['support'], ['suppress'], ['surfac'], ['synerg'], ['synergist'], ['system'], ['t1'], ['tabl'], ['tak'], ['taken'], ['tar'], ['target'], ['tat'], ['tbp'], ['tefb'], ['templat'], ['term'], ['termin'], ['test'], ['tfiif'], ['tfiih'], ['that'], ['the'], ['their'], ['then'], ['therefor'], ['these'], ['thi'], ['three'], ['thu'], ['time'], ['tip110'], ['tnf'], ['to'], ['togeth'], ['total'], ['trail'], ['transactiv'], ['transcript'], ['transfect'], ['transient'], ['transloc'], ['transport'], ['trcp'], ['treat'], ['treatment'], ['two'], ['type'], ['tyr15'], ['tyrosin'], ['u373mg'], ['u937'], ['udg'], ['unabl'], ['uo126'], ['upon'], ['use'], ['vcam'], ['vector'], ['vegf'], ['via'], ['vif'], ['viral'], ['virion'], ['virolog'], ['viru'], ['virus'], ['vitro'], ['vivo'], ['vpr'], ['vpu'], ['wa'], ['we'], ['wee1'], ['well'], ['were'], ['western'], ['wherea'], ['whether'], ['which'], ['wild'], ['with'], ['within'], ['without'], ['work'], ['would'], ['wt'], ['xxfg'], ['y15f'], ['yang'], ['yeast'], ['yy1'], ['µg'], ['activ', 'cell'], ['activ', 'express'], ['activ', 'hiv'], ['activ', 'prot1_155871'], ['activ', 'tat'], ['activ', 'the'], ['cell', 'express'], ['cell', 'hiv'], ['cell', 'prot1_155871'], ['cell', 'tat'], ['cell', 'the'], ['express', 'hiv'], ['express', 'prot1_155871'], ['express', 'tat'], ['express', 'the'], ['hiv', 'prot1_155871'], ['hiv', 'tat'], ['hiv', 'the'], ['prot1_155871', 'tat'], ['prot1_155871', 'the'], ['tat', 'the'], ['prot1_155871', 'tat', 'the']]\n"
     ]
    }
   ],
   "source": [
    "r1 = algoritmo_a_priori(df,treshhold=300)\n",
    "print(r1)"
   ]
  },
  {
   "cell_type": "code",
   "execution_count": 67,
   "metadata": {},
   "outputs": [
    {
     "name": "stdout",
     "output_type": "stream",
     "text": [
      "[['abil'], ['abl'], ['abolish'], ['abrog'], ['absenc'], ['accumul'], ['acetyl'], ['acetyltransferas'], ['acid'], ['act'], ['action'], ['activ'], ['addit'], ['adhes'], ['affect'], ['affin'], ['agreement'], ['al'], ['all'], ['allow'], ['alon'], ['also'], ['alter'], ['although'], ['amino'], ['amount'], ['an'], ['analys'], ['analysi'], ['analyz'], ['and'], ['angiogen'], ['anti'], ['antibodi'], ['antigen'], ['apobec'], ['apobec3g'], ['apoptosi'], ['appear'], ['are'], ['arrest'], ['as'], ['assay'], ['assembl'], ['associ'], ['astrocyt'], ['astrogli'], ['at'], ['atf4'], ['basal'], ['base'], ['basic'], ['be'], ['been'], ['bfgf'], ['bind'], ['biolog'], ['block'], ['blood'], ['blot'], ['bodi'], ['both'], ['bound'], ['by'], ['ca'], ['caf'], ['camp'], ['can'], ['carboxyl'], ['casein'], ['cat'], ['catalyt'], ['caus'], ['cbp'], ['ccr5'], ['cd4'], ['cdc2'], ['cdc25'], ['cdk7'], ['cdk9'], ['cdna'], ['cell'], ['cellular'], ['cem15'], ['cerevisia'], ['chang'], ['chemokin'], ['chen'], ['chromatin'], ['clearli'], ['clone'], ['co'], ['cofactor'], ['coimmunoprecipit'], ['combin'], ['compar'], ['compet'], ['competit'], ['complet'], ['complex'], ['compon'], ['concentr'], ['condit'], ['confirm'], ['conserv'], ['consist'], ['construct'], ['contain'], ['contrast'], ['contribut'], ['control'], ['correl'], ['cotransfect'], ['could'], ['creb'], ['critic'], ['crm1'], ['crm1p'], ['ctd'], ['cujec'], ['cultur'], ['cxc'], ['cxcr3'], ['cxcr4'], ['cycl'], ['cyclin'], ['cyct1'], ['cystein'], ['cytoplasm'], ['d167n'], ['data'], ['decreas'], ['defect'], ['defici'], ['degrad'], ['delet'], ['demonstr'], ['depend'], ['deplet'], ['deriv'], ['describ'], ['detect'], ['determin'], ['develop'], ['did'], ['differ'], ['differenti'], ['direct'], ['directli'], ['disrupt'], ['distinct'], ['distribut'], ['dna'], ['doe'], ['domain'], ['domin'], ['dose'], ['downregul'], ['drb'], ['driven'], ['due'], ['each'], ['ebp'], ['ec'], ['effect'], ['effici'], ['egfp'], ['egr'], ['either'], ['elam'], ['element'], ['elong'], ['encod'], ['endogen'], ['enhanc'], ['env'], ['enzym'], ['er'], ['erk'], ['erk1'], ['erk2'], ['essenti'], ['et'], ['even'], ['evid'], ['examin'], ['exclus'], ['expect'], ['experi'], ['export'], ['exposur'], ['express'], ['extent'], ['extracellular'], ['extract'], ['fact'], ['factor'], ['famili'], ['fasl'], ['fibroblast'], ['fig'], ['figur'], ['find'], ['first'], ['fission'], ['flag'], ['flk'], ['focal'], ['fold'], ['follow'], ['for'], ['form'], ['format'], ['found'], ['fraction'], ['full'], ['function'], ['further'], ['furthermor'], ['fusion'], ['g2'], ['gag'], ['garcia'], ['gcn5'], ['gel'], ['gene'], ['gener'], ['gfp'], ['given'], ['glfg'], ['glycin'], ['group'], ['growth'], ['gst'], ['h4'], ['ha'], ['hat'], ['have'], ['hdac1'], ['hela'], ['herrmann'], ['high'], ['highli'], ['histon'], ['hiv'], ['homolog'], ['howev'], ['hrip'], ['hsp70'], ['hspt5'], ['human'], ['hybrid'], ['hyperphosphoryl'], ['ic'], ['icam'], ['identifi'], ['ifn'], ['ii'], ['iii'], ['il'], ['immunoblot'], ['immunodefici'], ['immunodeplet'], ['immunoprecipit'], ['impair'], ['implic'], ['import'], ['importantli'], ['in'], ['inact'], ['inactiv'], ['includ'], ['incorpor'], ['increas'], ['incub'], ['inde'], ['independ'], ['indic'], ['induc'], ['induct'], ['infect'], ['inhibit'], ['inhibitor'], ['inhibitori'], ['initi'], ['inject'], ['ino'], ['integr'], ['integras'], ['integrin'], ['interact'], ['interestingli'], ['interfer'], ['intracellular'], ['investig'], ['involv'], ['ip'], ['is'], ['isol'], ['it'], ['journal'], ['jurkat'], ['kdr'], ['kill'], ['kinas'], ['known'], ['ks'], ['lack'], ['lane'], ['lead'], ['led'], ['length'], ['lesion'], ['less'], ['level'], ['ligand'], ['like'], ['line'], ['littl'], ['local'], ['long'], ['loop'], ['loss'], ['low'], ['lower'], ['ltr'], ['luciferas'], ['lysat'], ['macrophag'], ['major'], ['map'], ['mapk'], ['maq1'], ['martinez'], ['matrix'], ['may'], ['mcp'], ['mdm'], ['mechan'], ['mediat'], ['mek1'], ['membran'], ['mice'], ['might'], ['migrat'], ['min'], ['mitogen'], ['ml'], ['model'], ['modifi'], ['modul'], ['molecul'], ['molecular'], ['monocyt'], ['moreov'], ['mous'], ['mrna'], ['murin'], ['mutant'], ['mutat'], ['myc'], ['ne'], ['nef'], ['neg'], ['neuron'], ['next'], ['nf'], ['ng'], ['nm'], ['no'], ['non'], ['normal'], ['not'], ['note'], ['novel'], ['npc'], ['nuc'], ['nuclear'], ['nucleolin'], ['nucleoporin'], ['nucleu'], ['nup98'], ['observ'], ['obtain'], ['occup'], ['occur'], ['of'], ['one'], ['onli'], ['or'], ['other'], ['our'], ['overexpress'], ['p130'], ['p21'], ['p300'], ['p38'], ['p53'], ['p55'], ['p65'], ['packag'], ['panel'], ['parada'], ['part'], ['partial'], ['particip'], ['particl'], ['pathway'], ['patient'], ['paxillin'], ['pc12'], ['peptid'], ['perform'], ['peripher'], ['permiss'], ['phase'], ['phosphoryl'], ['pi'], ['pic'], ['pitalr'], ['pkr'], ['plasmid'], ['play'], ['point'], ['pol'], ['polymeras'], ['posit'], ['possibl'], ['potenti'], ['pp2a'], ['pre'], ['precursor'], ['prepar'], ['presenc'], ['present'], ['prevent'], ['previou'], ['previous'], ['primari'], ['probabl'], ['process'], ['produc'], ['product'], ['promot'], ['propos'], ['prot1_1025'], ['prot1_1026'], ['prot1_10614'], ['prot1_1385'], ['prot1_1387'], ['prot1_155030'], ['prot1_155459'], ['prot1_155807'], ['prot1_155871'], ['prot1_155908'], ['prot1_155945'], ['prot2_155348'], ['prot2_155807'], ['prot2_155871'], ['prot2_2071'], ['prot2_2185'], ['prot2_2247'], ['prot2_2963'], ['prot2_2965'], ['prot2_2966'], ['prot2_3065'], ['prot2_3267'], ['prot2_3308'], ['prot2_356'], ['prot2_3791'], ['prot2_468'], ['prot2_4843'], ['prot2_4928'], ['prot2_5524'], ['prot2_5594'], ['prot2_5595'], ['prot2_5610'], ['prot2_5718'], ['prot2_5902'], ['prot2_60489'], ['prot2_6401'], ['prot2_6427'], ['prot2_6829'], ['prot2_7374'], ['prot2_7514'], ['prot2_7528'], ['prot2_7852'], ['prot2_8743'], ['prot2_8850'], ['prot2_904'], ['prot2_920'], ['prot2_9733'], ['prot2_983'], ['prot2_995'], ['protein'], ['provid'], ['proxim'], ['purifi'], ['rab'], ['raftk'], ['ran'], ['ranbp1'], ['rangtp'], ['rap30'], ['rapid'], ['reaction'], ['reactiv'], ['rebp'], ['recent'], ['receptor'], ['recombin'], ['recruit'], ['reduc'], ['reduct'], ['region'], ['regul'], ['regulatori'], ['rel'], ['relat'], ['releas'], ['remain'], ['remov'], ['repeat'], ['replic'], ['report'], ['repress'], ['requir'], ['residu'], ['respect'], ['respons'], ['result'], ['rev'], ['reveal'], ['revers'], ['rgd'], ['rice'], ['rich'], ['rna'], ['roeder'], ['role'], ['rre'], ['rsv'], ['salt'], ['sam68'], ['sb202190'], ['sc35'], ['sciencedirect'], ['sd'], ['sdf'], ['secret'], ['seen'], ['select'], ['sensit'], ['sequenc'], ['ser'], ['serin'], ['serum'], ['sever'], ['sf1'], ['show'], ['shown'], ['signal'], ['signific'], ['significantli'], ['similar'], ['sinc'], ['site'], ['solubl'], ['sp1'], ['specif'], ['splice'], ['spt5'], ['still'], ['stimul'], ['strain'], ['strong'], ['strongli'], ['structur'], ['studi'], ['subsequ'], ['substrat'], ['subunit'], ['suffici'], ['suggest'], ['support'], ['suppress'], ['surfac'], ['synerg'], ['synergist'], ['system'], ['t1'], ['tabl'], ['tak'], ['taken'], ['tar'], ['target'], ['tat'], ['tbp'], ['tefb'], ['templat'], ['term'], ['termin'], ['test'], ['tfiif'], ['tfiih'], ['that'], ['the'], ['their'], ['then'], ['therefor'], ['these'], ['thi'], ['three'], ['thu'], ['time'], ['tip110'], ['tnf'], ['to'], ['togeth'], ['total'], ['trail'], ['transactiv'], ['transcript'], ['transfect'], ['transient'], ['transloc'], ['transport'], ['trcp'], ['treat'], ['treatment'], ['two'], ['type'], ['tyr15'], ['tyrosin'], ['u373mg'], ['u937'], ['udg'], ['unabl'], ['uo126'], ['upon'], ['use'], ['vcam'], ['vector'], ['vegf'], ['via'], ['vif'], ['viral'], ['virion'], ['virolog'], ['viru'], ['virus'], ['vitro'], ['vivo'], ['vpr'], ['vpu'], ['wa'], ['we'], ['wee1'], ['well'], ['were'], ['western'], ['wherea'], ['whether'], ['which'], ['wild'], ['with'], ['within'], ['without'], ['work'], ['would'], ['wt'], ['xxfg'], ['y15f'], ['yang'], ['yeast'], ['yy1'], ['µg'], ['prot1_155871', 'tat'], ['prot1_155871', 'the'], ['tat', 'the']]\n"
     ]
    }
   ],
   "source": [
    "r2 = algoritmo_a_priori(df,treshhold=500)\n",
    "print(r2)"
   ]
  },
  {
   "cell_type": "code",
   "execution_count": 68,
   "metadata": {},
   "outputs": [
    {
     "name": "stdout",
     "output_type": "stream",
     "text": [
      "[['abil'], ['abl'], ['abolish'], ['abrog'], ['absenc'], ['accumul'], ['acetyl'], ['acetyltransferas'], ['acid'], ['act'], ['action'], ['activ'], ['addit'], ['adhes'], ['affect'], ['affin'], ['agreement'], ['al'], ['all'], ['allow'], ['alon'], ['also'], ['alter'], ['although'], ['amino'], ['amount'], ['an'], ['analys'], ['analysi'], ['analyz'], ['and'], ['angiogen'], ['anti'], ['antibodi'], ['antigen'], ['apobec'], ['apobec3g'], ['apoptosi'], ['appear'], ['are'], ['arrest'], ['as'], ['assay'], ['assembl'], ['associ'], ['astrocyt'], ['astrogli'], ['at'], ['atf4'], ['basal'], ['base'], ['basic'], ['be'], ['been'], ['bfgf'], ['bind'], ['biolog'], ['block'], ['blood'], ['blot'], ['bodi'], ['both'], ['bound'], ['by'], ['ca'], ['caf'], ['camp'], ['can'], ['carboxyl'], ['casein'], ['cat'], ['catalyt'], ['caus'], ['cbp'], ['ccr5'], ['cd4'], ['cdc2'], ['cdc25'], ['cdk7'], ['cdk9'], ['cdna'], ['cell'], ['cellular'], ['cem15'], ['cerevisia'], ['chang'], ['chemokin'], ['chen'], ['chromatin'], ['clearli'], ['clone'], ['co'], ['cofactor'], ['coimmunoprecipit'], ['combin'], ['compar'], ['compet'], ['competit'], ['complet'], ['complex'], ['compon'], ['concentr'], ['condit'], ['confirm'], ['conserv'], ['consist'], ['construct'], ['contain'], ['contrast'], ['contribut'], ['control'], ['correl'], ['cotransfect'], ['could'], ['creb'], ['critic'], ['crm1'], ['crm1p'], ['ctd'], ['cujec'], ['cultur'], ['cxc'], ['cxcr3'], ['cxcr4'], ['cycl'], ['cyclin'], ['cyct1'], ['cystein'], ['cytoplasm'], ['d167n'], ['data'], ['decreas'], ['defect'], ['defici'], ['degrad'], ['delet'], ['demonstr'], ['depend'], ['deplet'], ['deriv'], ['describ'], ['detect'], ['determin'], ['develop'], ['did'], ['differ'], ['differenti'], ['direct'], ['directli'], ['disrupt'], ['distinct'], ['distribut'], ['dna'], ['doe'], ['domain'], ['domin'], ['dose'], ['downregul'], ['drb'], ['driven'], ['due'], ['each'], ['ebp'], ['ec'], ['effect'], ['effici'], ['egfp'], ['egr'], ['either'], ['elam'], ['element'], ['elong'], ['encod'], ['endogen'], ['enhanc'], ['env'], ['enzym'], ['er'], ['erk'], ['erk1'], ['erk2'], ['essenti'], ['et'], ['even'], ['evid'], ['examin'], ['exclus'], ['expect'], ['experi'], ['export'], ['exposur'], ['express'], ['extent'], ['extracellular'], ['extract'], ['fact'], ['factor'], ['famili'], ['fasl'], ['fibroblast'], ['fig'], ['figur'], ['find'], ['first'], ['fission'], ['flag'], ['flk'], ['focal'], ['fold'], ['follow'], ['for'], ['form'], ['format'], ['found'], ['fraction'], ['full'], ['function'], ['further'], ['furthermor'], ['fusion'], ['g2'], ['gag'], ['garcia'], ['gcn5'], ['gel'], ['gene'], ['gener'], ['gfp'], ['given'], ['glfg'], ['glycin'], ['group'], ['growth'], ['gst'], ['h4'], ['ha'], ['hat'], ['have'], ['hdac1'], ['hela'], ['herrmann'], ['high'], ['highli'], ['histon'], ['hiv'], ['homolog'], ['howev'], ['hrip'], ['hsp70'], ['hspt5'], ['human'], ['hybrid'], ['hyperphosphoryl'], ['ic'], ['icam'], ['identifi'], ['ifn'], ['ii'], ['iii'], ['il'], ['immunoblot'], ['immunodefici'], ['immunodeplet'], ['immunoprecipit'], ['impair'], ['implic'], ['import'], ['importantli'], ['in'], ['inact'], ['inactiv'], ['includ'], ['incorpor'], ['increas'], ['incub'], ['inde'], ['independ'], ['indic'], ['induc'], ['induct'], ['infect'], ['inhibit'], ['inhibitor'], ['inhibitori'], ['initi'], ['inject'], ['ino'], ['integr'], ['integras'], ['integrin'], ['interact'], ['interestingli'], ['interfer'], ['intracellular'], ['investig'], ['involv'], ['ip'], ['is'], ['isol'], ['it'], ['journal'], ['jurkat'], ['kdr'], ['kill'], ['kinas'], ['known'], ['ks'], ['lack'], ['lane'], ['lead'], ['led'], ['length'], ['lesion'], ['less'], ['level'], ['ligand'], ['like'], ['line'], ['littl'], ['local'], ['long'], ['loop'], ['loss'], ['low'], ['lower'], ['ltr'], ['luciferas'], ['lysat'], ['macrophag'], ['major'], ['map'], ['mapk'], ['maq1'], ['martinez'], ['matrix'], ['may'], ['mcp'], ['mdm'], ['mechan'], ['mediat'], ['mek1'], ['membran'], ['mice'], ['might'], ['migrat'], ['min'], ['mitogen'], ['ml'], ['model'], ['modifi'], ['modul'], ['molecul'], ['molecular'], ['monocyt'], ['moreov'], ['mous'], ['mrna'], ['murin'], ['mutant'], ['mutat'], ['myc'], ['ne'], ['nef'], ['neg'], ['neuron'], ['next'], ['nf'], ['ng'], ['nm'], ['no'], ['non'], ['normal'], ['not'], ['note'], ['novel'], ['npc'], ['nuc'], ['nuclear'], ['nucleolin'], ['nucleoporin'], ['nucleu'], ['nup98'], ['observ'], ['obtain'], ['occup'], ['occur'], ['of'], ['one'], ['onli'], ['or'], ['other'], ['our'], ['overexpress'], ['p130'], ['p21'], ['p300'], ['p38'], ['p53'], ['p55'], ['p65'], ['packag'], ['panel'], ['parada'], ['part'], ['partial'], ['particip'], ['particl'], ['pathway'], ['patient'], ['paxillin'], ['pc12'], ['peptid'], ['perform'], ['peripher'], ['permiss'], ['phase'], ['phosphoryl'], ['pi'], ['pic'], ['pitalr'], ['pkr'], ['plasmid'], ['play'], ['point'], ['pol'], ['polymeras'], ['posit'], ['possibl'], ['potenti'], ['pp2a'], ['pre'], ['precursor'], ['prepar'], ['presenc'], ['present'], ['prevent'], ['previou'], ['previous'], ['primari'], ['probabl'], ['process'], ['produc'], ['product'], ['promot'], ['propos'], ['prot1_1025'], ['prot1_1026'], ['prot1_10614'], ['prot1_1385'], ['prot1_1387'], ['prot1_155030'], ['prot1_155459'], ['prot1_155807'], ['prot1_155871'], ['prot1_155908'], ['prot1_155945'], ['prot2_155348'], ['prot2_155807'], ['prot2_155871'], ['prot2_2071'], ['prot2_2185'], ['prot2_2247'], ['prot2_2963'], ['prot2_2965'], ['prot2_2966'], ['prot2_3065'], ['prot2_3267'], ['prot2_3308'], ['prot2_356'], ['prot2_3791'], ['prot2_468'], ['prot2_4843'], ['prot2_4928'], ['prot2_5524'], ['prot2_5594'], ['prot2_5595'], ['prot2_5610'], ['prot2_5718'], ['prot2_5902'], ['prot2_60489'], ['prot2_6401'], ['prot2_6427'], ['prot2_6829'], ['prot2_7374'], ['prot2_7514'], ['prot2_7528'], ['prot2_7852'], ['prot2_8743'], ['prot2_8850'], ['prot2_904'], ['prot2_920'], ['prot2_9733'], ['prot2_983'], ['prot2_995'], ['protein'], ['provid'], ['proxim'], ['purifi'], ['rab'], ['raftk'], ['ran'], ['ranbp1'], ['rangtp'], ['rap30'], ['rapid'], ['reaction'], ['reactiv'], ['rebp'], ['recent'], ['receptor'], ['recombin'], ['recruit'], ['reduc'], ['reduct'], ['region'], ['regul'], ['regulatori'], ['rel'], ['relat'], ['releas'], ['remain'], ['remov'], ['repeat'], ['replic'], ['report'], ['repress'], ['requir'], ['residu'], ['respect'], ['respons'], ['result'], ['rev'], ['reveal'], ['revers'], ['rgd'], ['rice'], ['rich'], ['rna'], ['roeder'], ['role'], ['rre'], ['rsv'], ['salt'], ['sam68'], ['sb202190'], ['sc35'], ['sciencedirect'], ['sd'], ['sdf'], ['secret'], ['seen'], ['select'], ['sensit'], ['sequenc'], ['ser'], ['serin'], ['serum'], ['sever'], ['sf1'], ['show'], ['shown'], ['signal'], ['signific'], ['significantli'], ['similar'], ['sinc'], ['site'], ['solubl'], ['sp1'], ['specif'], ['splice'], ['spt5'], ['still'], ['stimul'], ['strain'], ['strong'], ['strongli'], ['structur'], ['studi'], ['subsequ'], ['substrat'], ['subunit'], ['suffici'], ['suggest'], ['support'], ['suppress'], ['surfac'], ['synerg'], ['synergist'], ['system'], ['t1'], ['tabl'], ['tak'], ['taken'], ['tar'], ['target'], ['tat'], ['tbp'], ['tefb'], ['templat'], ['term'], ['termin'], ['test'], ['tfiif'], ['tfiih'], ['that'], ['the'], ['their'], ['then'], ['therefor'], ['these'], ['thi'], ['three'], ['thu'], ['time'], ['tip110'], ['tnf'], ['to'], ['togeth'], ['total'], ['trail'], ['transactiv'], ['transcript'], ['transfect'], ['transient'], ['transloc'], ['transport'], ['trcp'], ['treat'], ['treatment'], ['two'], ['type'], ['tyr15'], ['tyrosin'], ['u373mg'], ['u937'], ['udg'], ['unabl'], ['uo126'], ['upon'], ['use'], ['vcam'], ['vector'], ['vegf'], ['via'], ['vif'], ['viral'], ['virion'], ['virolog'], ['viru'], ['virus'], ['vitro'], ['vivo'], ['vpr'], ['vpu'], ['wa'], ['we'], ['wee1'], ['well'], ['were'], ['western'], ['wherea'], ['whether'], ['which'], ['wild'], ['with'], ['within'], ['without'], ['work'], ['would'], ['wt'], ['xxfg'], ['y15f'], ['yang'], ['yeast'], ['yy1'], ['µg'], ['prot1_155871', 'tat'], ['prot1_155871', 'the'], ['tat', 'the']]\n"
     ]
    }
   ],
   "source": [
    "r3 = algoritmo_a_priori(df,treshhold=700)\n",
    "print(r3)"
   ]
  }
 ],
 "metadata": {
  "kernelspec": {
   "display_name": "Python 3",
   "language": "python",
   "name": "python3"
  },
  "language_info": {
   "codemirror_mode": {
    "name": "ipython",
    "version": 3
   },
   "file_extension": ".py",
   "mimetype": "text/x-python",
   "name": "python",
   "nbconvert_exporter": "python",
   "pygments_lexer": "ipython3",
   "version": "3.6.9"
  }
 },
 "nbformat": 4,
 "nbformat_minor": 4
}
